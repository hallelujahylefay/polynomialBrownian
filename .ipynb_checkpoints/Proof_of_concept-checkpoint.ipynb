{
 "cells": [
  {
   "cell_type": "code",
   "execution_count": 258,
   "id": "1a68882b",
   "metadata": {},
   "outputs": [],
   "source": [
    "import plotly.graph_objects as go\n",
    "import numpy as np\n",
    "\n",
    "file_path = \"./BENCHMARK\"\n",
    "paths = open(file_path, \"r\").read().split(\"\\n\")\n",
    "paths_dic = {paths[2*i+1].replace(' ', ''):paths[2*i+2].split(',')[:-1] for i in range(int(len(paths)/2))}\n",
    "paths_dic = {path_name:list(map((lambda x : float(x)), paths_dic[path_name])) for path_name in paths_dic.keys()}\n",
    "T = 1\n",
    "N = 100\n",
    "dt = T/N\n",
    "grid = np.linspace(0, T, N+1)[:-1]\n",
    "def f_map(path, T):\n",
    "    return (lambda t : path[int(len(path)*t/T)])"
   ]
  },
  {
   "cell_type": "code",
   "execution_count": 259,
   "id": "62e3d496",
   "metadata": {},
   "outputs": [
    {
     "data": {
      "application/vnd.plotly.v1+json": {
       "config": {
        "plotlyServerURL": "https://plot.ly"
       },
       "data": [
        {
         "mode": "lines",
         "name": "BROWNIAN",
         "type": "scatter",
         "x": [
          0,
          0.01,
          0.02,
          0.03,
          0.04,
          0.05,
          0.06,
          0.07,
          0.08,
          0.09,
          0.1,
          0.11,
          0.12,
          0.13,
          0.14,
          0.15,
          0.16,
          0.17,
          0.18,
          0.19,
          0.2,
          0.21,
          0.22,
          0.23,
          0.24,
          0.25,
          0.26,
          0.27,
          0.28,
          0.29,
          0.3,
          0.31,
          0.32,
          0.33,
          0.34,
          0.35000000000000003,
          0.36,
          0.37,
          0.38,
          0.39,
          0.4,
          0.41000000000000003,
          0.42,
          0.43,
          0.44,
          0.45,
          0.46,
          0.47000000000000003,
          0.48,
          0.49,
          0.5,
          0.51,
          0.52,
          0.53,
          0.54,
          0.55,
          0.56,
          0.5700000000000001,
          0.58,
          0.59,
          0.6,
          0.61,
          0.62,
          0.63,
          0.64,
          0.65,
          0.66,
          0.67,
          0.68,
          0.6900000000000001,
          0.7000000000000001,
          0.71,
          0.72,
          0.73,
          0.74,
          0.75,
          0.76,
          0.77,
          0.78,
          0.79,
          0.8,
          0.81,
          0.8200000000000001,
          0.8300000000000001,
          0.84,
          0.85,
          0.86,
          0.87,
          0.88,
          0.89,
          0.9,
          0.91,
          0.92,
          0.93,
          0.9400000000000001,
          0.9500000000000001,
          0.96,
          0.97,
          0.98,
          0.99
         ],
         "y": [
          -0.00363437268221,
          -0.032716168312,
          0.0175637926577,
          -0.104006706706,
          -0.199020451215,
          -0.3119307677,
          -0.539779411732,
          -0.470497290124,
          -0.568391835548,
          -0.525572368498,
          -0.44375951032,
          -0.480862595896,
          -0.441235225804,
          -0.54408643497,
          -0.599216151416,
          -0.546290257778,
          -0.562851507924,
          -0.57659137354,
          -0.464284846979,
          -0.420418317609,
          -0.416752616805,
          -0.458112907289,
          -0.366030365754,
          -0.354520876522,
          -0.3670627454,
          -0.375937766072,
          -0.481150224992,
          -0.473441151178,
          -0.486769720785,
          -0.416835589483,
          -0.277339941593,
          -0.20056126086,
          -0.233626333584,
          -0.475473896322,
          -0.387710556635,
          -0.274142364919,
          -0.301411574149,
          -0.199227245112,
          -0.201317055291,
          -0.12968876846,
          -0.11067578044,
          0.253148194552,
          0.353375189828,
          0.350892514777,
          0.272008149001,
          0.383277897968,
          0.34172202138,
          0.319753978167,
          0.177103523187,
          0.209808964819,
          0.423398530662,
          0.570184406819,
          0.648583972967,
          0.614945322237,
          0.742080753799,
          1.00359832352,
          1.07161608187,
          1.00222253302,
          1.07332360013,
          0.938683993968,
          0.90904264285,
          1.06986262323,
          0.967743546174,
          0.987984076132,
          1.11935334737,
          0.932165289221,
          1.05550955249,
          1.10580411694,
          0.913304107517,
          0.923725084187,
          0.818091067895,
          0.827333216572,
          0.713478119514,
          0.817822307818,
          0.968758577859,
          1.01325585925,
          1.03247124857,
          0.777252614862,
          0.894636926999,
          0.850788947165,
          0.858165143825,
          0.901152248535,
          1.02998425977,
          1.03760663311,
          0.973179325916,
          1.12948184785,
          0.917669344987,
          0.714771299846,
          0.736650675078,
          0.599456685393,
          0.739975384319,
          0.747403003722,
          0.883057205565,
          0.8008696597,
          0.868802173917,
          0.815350965823,
          0.741605657031,
          0.572775900912,
          0.638883979643,
          0.704439240261
         ]
        }
       ],
       "layout": {
        "template": {
         "data": {
          "bar": [
           {
            "error_x": {
             "color": "#2a3f5f"
            },
            "error_y": {
             "color": "#2a3f5f"
            },
            "marker": {
             "line": {
              "color": "#E5ECF6",
              "width": 0.5
             },
             "pattern": {
              "fillmode": "overlay",
              "size": 10,
              "solidity": 0.2
             }
            },
            "type": "bar"
           }
          ],
          "barpolar": [
           {
            "marker": {
             "line": {
              "color": "#E5ECF6",
              "width": 0.5
             },
             "pattern": {
              "fillmode": "overlay",
              "size": 10,
              "solidity": 0.2
             }
            },
            "type": "barpolar"
           }
          ],
          "carpet": [
           {
            "aaxis": {
             "endlinecolor": "#2a3f5f",
             "gridcolor": "white",
             "linecolor": "white",
             "minorgridcolor": "white",
             "startlinecolor": "#2a3f5f"
            },
            "baxis": {
             "endlinecolor": "#2a3f5f",
             "gridcolor": "white",
             "linecolor": "white",
             "minorgridcolor": "white",
             "startlinecolor": "#2a3f5f"
            },
            "type": "carpet"
           }
          ],
          "choropleth": [
           {
            "colorbar": {
             "outlinewidth": 0,
             "ticks": ""
            },
            "type": "choropleth"
           }
          ],
          "contour": [
           {
            "colorbar": {
             "outlinewidth": 0,
             "ticks": ""
            },
            "colorscale": [
             [
              0,
              "#0d0887"
             ],
             [
              0.1111111111111111,
              "#46039f"
             ],
             [
              0.2222222222222222,
              "#7201a8"
             ],
             [
              0.3333333333333333,
              "#9c179e"
             ],
             [
              0.4444444444444444,
              "#bd3786"
             ],
             [
              0.5555555555555556,
              "#d8576b"
             ],
             [
              0.6666666666666666,
              "#ed7953"
             ],
             [
              0.7777777777777778,
              "#fb9f3a"
             ],
             [
              0.8888888888888888,
              "#fdca26"
             ],
             [
              1,
              "#f0f921"
             ]
            ],
            "type": "contour"
           }
          ],
          "contourcarpet": [
           {
            "colorbar": {
             "outlinewidth": 0,
             "ticks": ""
            },
            "type": "contourcarpet"
           }
          ],
          "heatmap": [
           {
            "colorbar": {
             "outlinewidth": 0,
             "ticks": ""
            },
            "colorscale": [
             [
              0,
              "#0d0887"
             ],
             [
              0.1111111111111111,
              "#46039f"
             ],
             [
              0.2222222222222222,
              "#7201a8"
             ],
             [
              0.3333333333333333,
              "#9c179e"
             ],
             [
              0.4444444444444444,
              "#bd3786"
             ],
             [
              0.5555555555555556,
              "#d8576b"
             ],
             [
              0.6666666666666666,
              "#ed7953"
             ],
             [
              0.7777777777777778,
              "#fb9f3a"
             ],
             [
              0.8888888888888888,
              "#fdca26"
             ],
             [
              1,
              "#f0f921"
             ]
            ],
            "type": "heatmap"
           }
          ],
          "heatmapgl": [
           {
            "colorbar": {
             "outlinewidth": 0,
             "ticks": ""
            },
            "colorscale": [
             [
              0,
              "#0d0887"
             ],
             [
              0.1111111111111111,
              "#46039f"
             ],
             [
              0.2222222222222222,
              "#7201a8"
             ],
             [
              0.3333333333333333,
              "#9c179e"
             ],
             [
              0.4444444444444444,
              "#bd3786"
             ],
             [
              0.5555555555555556,
              "#d8576b"
             ],
             [
              0.6666666666666666,
              "#ed7953"
             ],
             [
              0.7777777777777778,
              "#fb9f3a"
             ],
             [
              0.8888888888888888,
              "#fdca26"
             ],
             [
              1,
              "#f0f921"
             ]
            ],
            "type": "heatmapgl"
           }
          ],
          "histogram": [
           {
            "marker": {
             "pattern": {
              "fillmode": "overlay",
              "size": 10,
              "solidity": 0.2
             }
            },
            "type": "histogram"
           }
          ],
          "histogram2d": [
           {
            "colorbar": {
             "outlinewidth": 0,
             "ticks": ""
            },
            "colorscale": [
             [
              0,
              "#0d0887"
             ],
             [
              0.1111111111111111,
              "#46039f"
             ],
             [
              0.2222222222222222,
              "#7201a8"
             ],
             [
              0.3333333333333333,
              "#9c179e"
             ],
             [
              0.4444444444444444,
              "#bd3786"
             ],
             [
              0.5555555555555556,
              "#d8576b"
             ],
             [
              0.6666666666666666,
              "#ed7953"
             ],
             [
              0.7777777777777778,
              "#fb9f3a"
             ],
             [
              0.8888888888888888,
              "#fdca26"
             ],
             [
              1,
              "#f0f921"
             ]
            ],
            "type": "histogram2d"
           }
          ],
          "histogram2dcontour": [
           {
            "colorbar": {
             "outlinewidth": 0,
             "ticks": ""
            },
            "colorscale": [
             [
              0,
              "#0d0887"
             ],
             [
              0.1111111111111111,
              "#46039f"
             ],
             [
              0.2222222222222222,
              "#7201a8"
             ],
             [
              0.3333333333333333,
              "#9c179e"
             ],
             [
              0.4444444444444444,
              "#bd3786"
             ],
             [
              0.5555555555555556,
              "#d8576b"
             ],
             [
              0.6666666666666666,
              "#ed7953"
             ],
             [
              0.7777777777777778,
              "#fb9f3a"
             ],
             [
              0.8888888888888888,
              "#fdca26"
             ],
             [
              1,
              "#f0f921"
             ]
            ],
            "type": "histogram2dcontour"
           }
          ],
          "mesh3d": [
           {
            "colorbar": {
             "outlinewidth": 0,
             "ticks": ""
            },
            "type": "mesh3d"
           }
          ],
          "parcoords": [
           {
            "line": {
             "colorbar": {
              "outlinewidth": 0,
              "ticks": ""
             }
            },
            "type": "parcoords"
           }
          ],
          "pie": [
           {
            "automargin": true,
            "type": "pie"
           }
          ],
          "scatter": [
           {
            "fillpattern": {
             "fillmode": "overlay",
             "size": 10,
             "solidity": 0.2
            },
            "type": "scatter"
           }
          ],
          "scatter3d": [
           {
            "line": {
             "colorbar": {
              "outlinewidth": 0,
              "ticks": ""
             }
            },
            "marker": {
             "colorbar": {
              "outlinewidth": 0,
              "ticks": ""
             }
            },
            "type": "scatter3d"
           }
          ],
          "scattercarpet": [
           {
            "marker": {
             "colorbar": {
              "outlinewidth": 0,
              "ticks": ""
             }
            },
            "type": "scattercarpet"
           }
          ],
          "scattergeo": [
           {
            "marker": {
             "colorbar": {
              "outlinewidth": 0,
              "ticks": ""
             }
            },
            "type": "scattergeo"
           }
          ],
          "scattergl": [
           {
            "marker": {
             "colorbar": {
              "outlinewidth": 0,
              "ticks": ""
             }
            },
            "type": "scattergl"
           }
          ],
          "scattermapbox": [
           {
            "marker": {
             "colorbar": {
              "outlinewidth": 0,
              "ticks": ""
             }
            },
            "type": "scattermapbox"
           }
          ],
          "scatterpolar": [
           {
            "marker": {
             "colorbar": {
              "outlinewidth": 0,
              "ticks": ""
             }
            },
            "type": "scatterpolar"
           }
          ],
          "scatterpolargl": [
           {
            "marker": {
             "colorbar": {
              "outlinewidth": 0,
              "ticks": ""
             }
            },
            "type": "scatterpolargl"
           }
          ],
          "scatterternary": [
           {
            "marker": {
             "colorbar": {
              "outlinewidth": 0,
              "ticks": ""
             }
            },
            "type": "scatterternary"
           }
          ],
          "surface": [
           {
            "colorbar": {
             "outlinewidth": 0,
             "ticks": ""
            },
            "colorscale": [
             [
              0,
              "#0d0887"
             ],
             [
              0.1111111111111111,
              "#46039f"
             ],
             [
              0.2222222222222222,
              "#7201a8"
             ],
             [
              0.3333333333333333,
              "#9c179e"
             ],
             [
              0.4444444444444444,
              "#bd3786"
             ],
             [
              0.5555555555555556,
              "#d8576b"
             ],
             [
              0.6666666666666666,
              "#ed7953"
             ],
             [
              0.7777777777777778,
              "#fb9f3a"
             ],
             [
              0.8888888888888888,
              "#fdca26"
             ],
             [
              1,
              "#f0f921"
             ]
            ],
            "type": "surface"
           }
          ],
          "table": [
           {
            "cells": {
             "fill": {
              "color": "#EBF0F8"
             },
             "line": {
              "color": "white"
             }
            },
            "header": {
             "fill": {
              "color": "#C8D4E3"
             },
             "line": {
              "color": "white"
             }
            },
            "type": "table"
           }
          ]
         },
         "layout": {
          "annotationdefaults": {
           "arrowcolor": "#2a3f5f",
           "arrowhead": 0,
           "arrowwidth": 1
          },
          "autotypenumbers": "strict",
          "coloraxis": {
           "colorbar": {
            "outlinewidth": 0,
            "ticks": ""
           }
          },
          "colorscale": {
           "diverging": [
            [
             0,
             "#8e0152"
            ],
            [
             0.1,
             "#c51b7d"
            ],
            [
             0.2,
             "#de77ae"
            ],
            [
             0.3,
             "#f1b6da"
            ],
            [
             0.4,
             "#fde0ef"
            ],
            [
             0.5,
             "#f7f7f7"
            ],
            [
             0.6,
             "#e6f5d0"
            ],
            [
             0.7,
             "#b8e186"
            ],
            [
             0.8,
             "#7fbc41"
            ],
            [
             0.9,
             "#4d9221"
            ],
            [
             1,
             "#276419"
            ]
           ],
           "sequential": [
            [
             0,
             "#0d0887"
            ],
            [
             0.1111111111111111,
             "#46039f"
            ],
            [
             0.2222222222222222,
             "#7201a8"
            ],
            [
             0.3333333333333333,
             "#9c179e"
            ],
            [
             0.4444444444444444,
             "#bd3786"
            ],
            [
             0.5555555555555556,
             "#d8576b"
            ],
            [
             0.6666666666666666,
             "#ed7953"
            ],
            [
             0.7777777777777778,
             "#fb9f3a"
            ],
            [
             0.8888888888888888,
             "#fdca26"
            ],
            [
             1,
             "#f0f921"
            ]
           ],
           "sequentialminus": [
            [
             0,
             "#0d0887"
            ],
            [
             0.1111111111111111,
             "#46039f"
            ],
            [
             0.2222222222222222,
             "#7201a8"
            ],
            [
             0.3333333333333333,
             "#9c179e"
            ],
            [
             0.4444444444444444,
             "#bd3786"
            ],
            [
             0.5555555555555556,
             "#d8576b"
            ],
            [
             0.6666666666666666,
             "#ed7953"
            ],
            [
             0.7777777777777778,
             "#fb9f3a"
            ],
            [
             0.8888888888888888,
             "#fdca26"
            ],
            [
             1,
             "#f0f921"
            ]
           ]
          },
          "colorway": [
           "#636efa",
           "#EF553B",
           "#00cc96",
           "#ab63fa",
           "#FFA15A",
           "#19d3f3",
           "#FF6692",
           "#B6E880",
           "#FF97FF",
           "#FECB52"
          ],
          "font": {
           "color": "#2a3f5f"
          },
          "geo": {
           "bgcolor": "white",
           "lakecolor": "white",
           "landcolor": "#E5ECF6",
           "showlakes": true,
           "showland": true,
           "subunitcolor": "white"
          },
          "hoverlabel": {
           "align": "left"
          },
          "hovermode": "closest",
          "mapbox": {
           "style": "light"
          },
          "paper_bgcolor": "white",
          "plot_bgcolor": "#E5ECF6",
          "polar": {
           "angularaxis": {
            "gridcolor": "white",
            "linecolor": "white",
            "ticks": ""
           },
           "bgcolor": "#E5ECF6",
           "radialaxis": {
            "gridcolor": "white",
            "linecolor": "white",
            "ticks": ""
           }
          },
          "scene": {
           "xaxis": {
            "backgroundcolor": "#E5ECF6",
            "gridcolor": "white",
            "gridwidth": 2,
            "linecolor": "white",
            "showbackground": true,
            "ticks": "",
            "zerolinecolor": "white"
           },
           "yaxis": {
            "backgroundcolor": "#E5ECF6",
            "gridcolor": "white",
            "gridwidth": 2,
            "linecolor": "white",
            "showbackground": true,
            "ticks": "",
            "zerolinecolor": "white"
           },
           "zaxis": {
            "backgroundcolor": "#E5ECF6",
            "gridcolor": "white",
            "gridwidth": 2,
            "linecolor": "white",
            "showbackground": true,
            "ticks": "",
            "zerolinecolor": "white"
           }
          },
          "shapedefaults": {
           "line": {
            "color": "#2a3f5f"
           }
          },
          "ternary": {
           "aaxis": {
            "gridcolor": "white",
            "linecolor": "white",
            "ticks": ""
           },
           "baxis": {
            "gridcolor": "white",
            "linecolor": "white",
            "ticks": ""
           },
           "bgcolor": "#E5ECF6",
           "caxis": {
            "gridcolor": "white",
            "linecolor": "white",
            "ticks": ""
           }
          },
          "title": {
           "x": 0.05
          },
          "xaxis": {
           "automargin": true,
           "gridcolor": "white",
           "linecolor": "white",
           "ticks": "",
           "title": {
            "standoff": 15
           },
           "zerolinecolor": "white",
           "zerolinewidth": 2
          },
          "yaxis": {
           "automargin": true,
           "gridcolor": "white",
           "linecolor": "white",
           "ticks": "",
           "title": {
            "standoff": 15
           },
           "zerolinecolor": "white",
           "zerolinewidth": 2
          }
         }
        },
        "title": {
         "text": "W_t"
        }
       }
      },
      "text/html": [
       "<div>                            <div id=\"938d57ac-fe93-441c-9a7f-a8864e7db143\" class=\"plotly-graph-div\" style=\"height:525px; width:100%;\"></div>            <script type=\"text/javascript\">                require([\"plotly\"], function(Plotly) {                    window.PLOTLYENV=window.PLOTLYENV || {};                                    if (document.getElementById(\"938d57ac-fe93-441c-9a7f-a8864e7db143\")) {                    Plotly.newPlot(                        \"938d57ac-fe93-441c-9a7f-a8864e7db143\",                        [{\"mode\":\"lines\",\"name\":\"BROWNIAN\",\"x\":[0.0,0.01,0.02,0.03,0.04,0.05,0.06,0.07,0.08,0.09,0.1,0.11,0.12,0.13,0.14,0.15,0.16,0.17,0.18,0.19,0.2,0.21,0.22,0.23,0.24,0.25,0.26,0.27,0.28,0.29,0.3,0.31,0.32,0.33,0.34,0.35000000000000003,0.36,0.37,0.38,0.39,0.4,0.41000000000000003,0.42,0.43,0.44,0.45,0.46,0.47000000000000003,0.48,0.49,0.5,0.51,0.52,0.53,0.54,0.55,0.56,0.5700000000000001,0.58,0.59,0.6,0.61,0.62,0.63,0.64,0.65,0.66,0.67,0.68,0.6900000000000001,0.7000000000000001,0.71,0.72,0.73,0.74,0.75,0.76,0.77,0.78,0.79,0.8,0.81,0.8200000000000001,0.8300000000000001,0.84,0.85,0.86,0.87,0.88,0.89,0.9,0.91,0.92,0.93,0.9400000000000001,0.9500000000000001,0.96,0.97,0.98,0.99],\"y\":[-0.00363437268221,-0.032716168312,0.0175637926577,-0.104006706706,-0.199020451215,-0.3119307677,-0.539779411732,-0.470497290124,-0.568391835548,-0.525572368498,-0.44375951032,-0.480862595896,-0.441235225804,-0.54408643497,-0.599216151416,-0.546290257778,-0.562851507924,-0.57659137354,-0.464284846979,-0.420418317609,-0.416752616805,-0.458112907289,-0.366030365754,-0.354520876522,-0.3670627454,-0.375937766072,-0.481150224992,-0.473441151178,-0.486769720785,-0.416835589483,-0.277339941593,-0.20056126086,-0.233626333584,-0.475473896322,-0.387710556635,-0.274142364919,-0.301411574149,-0.199227245112,-0.201317055291,-0.12968876846,-0.11067578044,0.253148194552,0.353375189828,0.350892514777,0.272008149001,0.383277897968,0.34172202138,0.319753978167,0.177103523187,0.209808964819,0.423398530662,0.570184406819,0.648583972967,0.614945322237,0.742080753799,1.00359832352,1.07161608187,1.00222253302,1.07332360013,0.938683993968,0.90904264285,1.06986262323,0.967743546174,0.987984076132,1.11935334737,0.932165289221,1.05550955249,1.10580411694,0.913304107517,0.923725084187,0.818091067895,0.827333216572,0.713478119514,0.817822307818,0.968758577859,1.01325585925,1.03247124857,0.777252614862,0.894636926999,0.850788947165,0.858165143825,0.901152248535,1.02998425977,1.03760663311,0.973179325916,1.12948184785,0.917669344987,0.714771299846,0.736650675078,0.599456685393,0.739975384319,0.747403003722,0.883057205565,0.8008696597,0.868802173917,0.815350965823,0.741605657031,0.572775900912,0.638883979643,0.704439240261],\"type\":\"scatter\"}],                        {\"template\":{\"data\":{\"histogram2dcontour\":[{\"type\":\"histogram2dcontour\",\"colorbar\":{\"outlinewidth\":0,\"ticks\":\"\"},\"colorscale\":[[0.0,\"#0d0887\"],[0.1111111111111111,\"#46039f\"],[0.2222222222222222,\"#7201a8\"],[0.3333333333333333,\"#9c179e\"],[0.4444444444444444,\"#bd3786\"],[0.5555555555555556,\"#d8576b\"],[0.6666666666666666,\"#ed7953\"],[0.7777777777777778,\"#fb9f3a\"],[0.8888888888888888,\"#fdca26\"],[1.0,\"#f0f921\"]]}],\"choropleth\":[{\"type\":\"choropleth\",\"colorbar\":{\"outlinewidth\":0,\"ticks\":\"\"}}],\"histogram2d\":[{\"type\":\"histogram2d\",\"colorbar\":{\"outlinewidth\":0,\"ticks\":\"\"},\"colorscale\":[[0.0,\"#0d0887\"],[0.1111111111111111,\"#46039f\"],[0.2222222222222222,\"#7201a8\"],[0.3333333333333333,\"#9c179e\"],[0.4444444444444444,\"#bd3786\"],[0.5555555555555556,\"#d8576b\"],[0.6666666666666666,\"#ed7953\"],[0.7777777777777778,\"#fb9f3a\"],[0.8888888888888888,\"#fdca26\"],[1.0,\"#f0f921\"]]}],\"heatmap\":[{\"type\":\"heatmap\",\"colorbar\":{\"outlinewidth\":0,\"ticks\":\"\"},\"colorscale\":[[0.0,\"#0d0887\"],[0.1111111111111111,\"#46039f\"],[0.2222222222222222,\"#7201a8\"],[0.3333333333333333,\"#9c179e\"],[0.4444444444444444,\"#bd3786\"],[0.5555555555555556,\"#d8576b\"],[0.6666666666666666,\"#ed7953\"],[0.7777777777777778,\"#fb9f3a\"],[0.8888888888888888,\"#fdca26\"],[1.0,\"#f0f921\"]]}],\"heatmapgl\":[{\"type\":\"heatmapgl\",\"colorbar\":{\"outlinewidth\":0,\"ticks\":\"\"},\"colorscale\":[[0.0,\"#0d0887\"],[0.1111111111111111,\"#46039f\"],[0.2222222222222222,\"#7201a8\"],[0.3333333333333333,\"#9c179e\"],[0.4444444444444444,\"#bd3786\"],[0.5555555555555556,\"#d8576b\"],[0.6666666666666666,\"#ed7953\"],[0.7777777777777778,\"#fb9f3a\"],[0.8888888888888888,\"#fdca26\"],[1.0,\"#f0f921\"]]}],\"contourcarpet\":[{\"type\":\"contourcarpet\",\"colorbar\":{\"outlinewidth\":0,\"ticks\":\"\"}}],\"contour\":[{\"type\":\"contour\",\"colorbar\":{\"outlinewidth\":0,\"ticks\":\"\"},\"colorscale\":[[0.0,\"#0d0887\"],[0.1111111111111111,\"#46039f\"],[0.2222222222222222,\"#7201a8\"],[0.3333333333333333,\"#9c179e\"],[0.4444444444444444,\"#bd3786\"],[0.5555555555555556,\"#d8576b\"],[0.6666666666666666,\"#ed7953\"],[0.7777777777777778,\"#fb9f3a\"],[0.8888888888888888,\"#fdca26\"],[1.0,\"#f0f921\"]]}],\"surface\":[{\"type\":\"surface\",\"colorbar\":{\"outlinewidth\":0,\"ticks\":\"\"},\"colorscale\":[[0.0,\"#0d0887\"],[0.1111111111111111,\"#46039f\"],[0.2222222222222222,\"#7201a8\"],[0.3333333333333333,\"#9c179e\"],[0.4444444444444444,\"#bd3786\"],[0.5555555555555556,\"#d8576b\"],[0.6666666666666666,\"#ed7953\"],[0.7777777777777778,\"#fb9f3a\"],[0.8888888888888888,\"#fdca26\"],[1.0,\"#f0f921\"]]}],\"mesh3d\":[{\"type\":\"mesh3d\",\"colorbar\":{\"outlinewidth\":0,\"ticks\":\"\"}}],\"scatter\":[{\"fillpattern\":{\"fillmode\":\"overlay\",\"size\":10,\"solidity\":0.2},\"type\":\"scatter\"}],\"parcoords\":[{\"type\":\"parcoords\",\"line\":{\"colorbar\":{\"outlinewidth\":0,\"ticks\":\"\"}}}],\"scatterpolargl\":[{\"type\":\"scatterpolargl\",\"marker\":{\"colorbar\":{\"outlinewidth\":0,\"ticks\":\"\"}}}],\"bar\":[{\"error_x\":{\"color\":\"#2a3f5f\"},\"error_y\":{\"color\":\"#2a3f5f\"},\"marker\":{\"line\":{\"color\":\"#E5ECF6\",\"width\":0.5},\"pattern\":{\"fillmode\":\"overlay\",\"size\":10,\"solidity\":0.2}},\"type\":\"bar\"}],\"scattergeo\":[{\"type\":\"scattergeo\",\"marker\":{\"colorbar\":{\"outlinewidth\":0,\"ticks\":\"\"}}}],\"scatterpolar\":[{\"type\":\"scatterpolar\",\"marker\":{\"colorbar\":{\"outlinewidth\":0,\"ticks\":\"\"}}}],\"histogram\":[{\"marker\":{\"pattern\":{\"fillmode\":\"overlay\",\"size\":10,\"solidity\":0.2}},\"type\":\"histogram\"}],\"scattergl\":[{\"type\":\"scattergl\",\"marker\":{\"colorbar\":{\"outlinewidth\":0,\"ticks\":\"\"}}}],\"scatter3d\":[{\"type\":\"scatter3d\",\"line\":{\"colorbar\":{\"outlinewidth\":0,\"ticks\":\"\"}},\"marker\":{\"colorbar\":{\"outlinewidth\":0,\"ticks\":\"\"}}}],\"scattermapbox\":[{\"type\":\"scattermapbox\",\"marker\":{\"colorbar\":{\"outlinewidth\":0,\"ticks\":\"\"}}}],\"scatterternary\":[{\"type\":\"scatterternary\",\"marker\":{\"colorbar\":{\"outlinewidth\":0,\"ticks\":\"\"}}}],\"scattercarpet\":[{\"type\":\"scattercarpet\",\"marker\":{\"colorbar\":{\"outlinewidth\":0,\"ticks\":\"\"}}}],\"carpet\":[{\"aaxis\":{\"endlinecolor\":\"#2a3f5f\",\"gridcolor\":\"white\",\"linecolor\":\"white\",\"minorgridcolor\":\"white\",\"startlinecolor\":\"#2a3f5f\"},\"baxis\":{\"endlinecolor\":\"#2a3f5f\",\"gridcolor\":\"white\",\"linecolor\":\"white\",\"minorgridcolor\":\"white\",\"startlinecolor\":\"#2a3f5f\"},\"type\":\"carpet\"}],\"table\":[{\"cells\":{\"fill\":{\"color\":\"#EBF0F8\"},\"line\":{\"color\":\"white\"}},\"header\":{\"fill\":{\"color\":\"#C8D4E3\"},\"line\":{\"color\":\"white\"}},\"type\":\"table\"}],\"barpolar\":[{\"marker\":{\"line\":{\"color\":\"#E5ECF6\",\"width\":0.5},\"pattern\":{\"fillmode\":\"overlay\",\"size\":10,\"solidity\":0.2}},\"type\":\"barpolar\"}],\"pie\":[{\"automargin\":true,\"type\":\"pie\"}]},\"layout\":{\"autotypenumbers\":\"strict\",\"colorway\":[\"#636efa\",\"#EF553B\",\"#00cc96\",\"#ab63fa\",\"#FFA15A\",\"#19d3f3\",\"#FF6692\",\"#B6E880\",\"#FF97FF\",\"#FECB52\"],\"font\":{\"color\":\"#2a3f5f\"},\"hovermode\":\"closest\",\"hoverlabel\":{\"align\":\"left\"},\"paper_bgcolor\":\"white\",\"plot_bgcolor\":\"#E5ECF6\",\"polar\":{\"bgcolor\":\"#E5ECF6\",\"angularaxis\":{\"gridcolor\":\"white\",\"linecolor\":\"white\",\"ticks\":\"\"},\"radialaxis\":{\"gridcolor\":\"white\",\"linecolor\":\"white\",\"ticks\":\"\"}},\"ternary\":{\"bgcolor\":\"#E5ECF6\",\"aaxis\":{\"gridcolor\":\"white\",\"linecolor\":\"white\",\"ticks\":\"\"},\"baxis\":{\"gridcolor\":\"white\",\"linecolor\":\"white\",\"ticks\":\"\"},\"caxis\":{\"gridcolor\":\"white\",\"linecolor\":\"white\",\"ticks\":\"\"}},\"coloraxis\":{\"colorbar\":{\"outlinewidth\":0,\"ticks\":\"\"}},\"colorscale\":{\"sequential\":[[0.0,\"#0d0887\"],[0.1111111111111111,\"#46039f\"],[0.2222222222222222,\"#7201a8\"],[0.3333333333333333,\"#9c179e\"],[0.4444444444444444,\"#bd3786\"],[0.5555555555555556,\"#d8576b\"],[0.6666666666666666,\"#ed7953\"],[0.7777777777777778,\"#fb9f3a\"],[0.8888888888888888,\"#fdca26\"],[1.0,\"#f0f921\"]],\"sequentialminus\":[[0.0,\"#0d0887\"],[0.1111111111111111,\"#46039f\"],[0.2222222222222222,\"#7201a8\"],[0.3333333333333333,\"#9c179e\"],[0.4444444444444444,\"#bd3786\"],[0.5555555555555556,\"#d8576b\"],[0.6666666666666666,\"#ed7953\"],[0.7777777777777778,\"#fb9f3a\"],[0.8888888888888888,\"#fdca26\"],[1.0,\"#f0f921\"]],\"diverging\":[[0,\"#8e0152\"],[0.1,\"#c51b7d\"],[0.2,\"#de77ae\"],[0.3,\"#f1b6da\"],[0.4,\"#fde0ef\"],[0.5,\"#f7f7f7\"],[0.6,\"#e6f5d0\"],[0.7,\"#b8e186\"],[0.8,\"#7fbc41\"],[0.9,\"#4d9221\"],[1,\"#276419\"]]},\"xaxis\":{\"gridcolor\":\"white\",\"linecolor\":\"white\",\"ticks\":\"\",\"title\":{\"standoff\":15},\"zerolinecolor\":\"white\",\"automargin\":true,\"zerolinewidth\":2},\"yaxis\":{\"gridcolor\":\"white\",\"linecolor\":\"white\",\"ticks\":\"\",\"title\":{\"standoff\":15},\"zerolinecolor\":\"white\",\"automargin\":true,\"zerolinewidth\":2},\"scene\":{\"xaxis\":{\"backgroundcolor\":\"#E5ECF6\",\"gridcolor\":\"white\",\"linecolor\":\"white\",\"showbackground\":true,\"ticks\":\"\",\"zerolinecolor\":\"white\",\"gridwidth\":2},\"yaxis\":{\"backgroundcolor\":\"#E5ECF6\",\"gridcolor\":\"white\",\"linecolor\":\"white\",\"showbackground\":true,\"ticks\":\"\",\"zerolinecolor\":\"white\",\"gridwidth\":2},\"zaxis\":{\"backgroundcolor\":\"#E5ECF6\",\"gridcolor\":\"white\",\"linecolor\":\"white\",\"showbackground\":true,\"ticks\":\"\",\"zerolinecolor\":\"white\",\"gridwidth\":2}},\"shapedefaults\":{\"line\":{\"color\":\"#2a3f5f\"}},\"annotationdefaults\":{\"arrowcolor\":\"#2a3f5f\",\"arrowhead\":0,\"arrowwidth\":1},\"geo\":{\"bgcolor\":\"white\",\"landcolor\":\"#E5ECF6\",\"subunitcolor\":\"white\",\"showland\":true,\"showlakes\":true,\"lakecolor\":\"white\"},\"title\":{\"x\":0.05},\"mapbox\":{\"style\":\"light\"}}},\"title\":{\"text\":\"W_t\"}},                        {\"responsive\": true}                    ).then(function(){\n",
       "                            \n",
       "var gd = document.getElementById('938d57ac-fe93-441c-9a7f-a8864e7db143');\n",
       "var x = new MutationObserver(function (mutations, observer) {{\n",
       "        var display = window.getComputedStyle(gd).display;\n",
       "        if (!display || display === 'none') {{\n",
       "            console.log([gd, 'removed!']);\n",
       "            Plotly.purge(gd);\n",
       "            observer.disconnect();\n",
       "        }}\n",
       "}});\n",
       "\n",
       "// Listen for the removal of the full notebook cells\n",
       "var notebookContainer = gd.closest('#notebook-container');\n",
       "if (notebookContainer) {{\n",
       "    x.observe(notebookContainer, {childList: true});\n",
       "}}\n",
       "\n",
       "// Listen for the clearing of the current output cell\n",
       "var outputEl = gd.closest('.output');\n",
       "if (outputEl) {{\n",
       "    x.observe(outputEl, {childList: true});\n",
       "}}\n",
       "\n",
       "                        })                };                });            </script>        </div>"
      ]
     },
     "metadata": {},
     "output_type": "display_data"
    }
   ],
   "source": [
    "\"\"\"\n",
    "Brownian path\n",
    "\"\"\"\n",
    "fig = go.Figure()\n",
    "for path_name in ['BROWNIAN']:\n",
    "    path = paths_dic[path_name]\n",
    "    fig.add_trace(go.Scatter(x=grid, y=np.array(list(map(f_map(path, 1), grid))),\n",
    "                    mode='lines',\n",
    "                    name=path_name))\n",
    "fig.update_layout(title=\"W_t\")\n",
    "fig.show()"
   ]
  },
  {
   "cell_type": "code",
   "execution_count": 271,
   "id": "ef7e3c4f",
   "metadata": {},
   "outputs": [
    {
     "data": {
      "application/vnd.plotly.v1+json": {
       "config": {
        "plotlyServerURL": "https://plot.ly"
       },
       "data": [
        {
         "mode": "lines",
         "name": "poly2_integration_CASE1",
         "type": "scatter",
         "x": [
          0,
          0.01,
          0.02,
          0.03,
          0.04,
          0.05,
          0.06,
          0.07,
          0.08,
          0.09,
          0.1,
          0.11,
          0.12,
          0.13,
          0.14,
          0.15,
          0.16,
          0.17,
          0.18,
          0.19,
          0.2,
          0.21,
          0.22,
          0.23,
          0.24,
          0.25,
          0.26,
          0.27,
          0.28,
          0.29,
          0.3,
          0.31,
          0.32,
          0.33,
          0.34,
          0.35000000000000003,
          0.36,
          0.37,
          0.38,
          0.39,
          0.4,
          0.41000000000000003,
          0.42,
          0.43,
          0.44,
          0.45,
          0.46,
          0.47000000000000003,
          0.48,
          0.49,
          0.5,
          0.51,
          0.52,
          0.53,
          0.54,
          0.55,
          0.56,
          0.5700000000000001,
          0.58,
          0.59,
          0.6,
          0.61,
          0.62,
          0.63,
          0.64,
          0.65,
          0.66,
          0.67,
          0.68,
          0.6900000000000001,
          0.7000000000000001,
          0.71,
          0.72,
          0.73,
          0.74,
          0.75,
          0.76,
          0.77,
          0.78,
          0.79,
          0.8,
          0.81,
          0.8200000000000001,
          0.8300000000000001,
          0.84,
          0.85,
          0.86,
          0.87,
          0.88,
          0.89,
          0.9,
          0.91,
          0.92,
          0.93,
          0.9400000000000001,
          0.9500000000000001,
          0.96,
          0.97,
          0.98,
          0.99
         ],
         "y": [
          1,
          0.970327381483,
          1.0237544372,
          0.911412751284,
          0.843260096472,
          0.76824442147,
          0.654776676837,
          0.685512021797,
          0.643313372958,
          0.661649325131,
          0.698888555811,
          0.681870554732,
          0.69924095803,
          0.649604482831,
          0.626486368684,
          0.65027288831,
          0.643246239368,
          0.637355472159,
          0.686872241002,
          0.710578825527,
          0.713299644419,
          0.692028056395,
          0.740624999762,
          0.751261145157,
          0.745845417428,
          0.739755756089,
          0.687946376917,
          0.69241988686,
          0.684432815882,
          0.718803623018,
          0.795948621128,
          0.847342536891,
          0.825962359958,
          0.688045702556,
          0.732535761848,
          0.800194215475,
          0.782856876684,
          0.853056678529,
          0.851859656425,
          0.911984647462,
          0.932925505339,
          1.399118231,
          1.6416131113,
          1.63254027335,
          1.43555945339,
          1.70774105444,
          1.59201233025,
          1.53572396392,
          1.25000854865,
          1.30451138226,
          1.82310173023,
          2.50808925762,
          3.1248877716,
          2.81482532301,
          4.34400597002,
          null,
          null,
          null,
          null,
          null,
          null,
          null,
          null,
          null,
          null,
          null,
          null,
          null,
          null,
          null,
          null,
          null,
          null,
          null,
          null,
          null,
          null,
          null,
          null,
          null,
          null,
          null,
          null,
          null,
          null,
          null,
          null,
          null,
          null,
          null,
          null,
          null,
          null,
          null,
          null,
          null,
          null,
          null,
          null,
          null
         ]
        },
        {
         "mode": "lines",
         "name": "poly2_integration_CASE2",
         "type": "scatter",
         "x": [
          0,
          0.01,
          0.02,
          0.03,
          0.04,
          0.05,
          0.06,
          0.07,
          0.08,
          0.09,
          0.1,
          0.11,
          0.12,
          0.13,
          0.14,
          0.15,
          0.16,
          0.17,
          0.18,
          0.19,
          0.2,
          0.21,
          0.22,
          0.23,
          0.24,
          0.25,
          0.26,
          0.27,
          0.28,
          0.29,
          0.3,
          0.31,
          0.32,
          0.33,
          0.34,
          0.35000000000000003,
          0.36,
          0.37,
          0.38,
          0.39,
          0.4,
          0.41000000000000003,
          0.42,
          0.43,
          0.44,
          0.45,
          0.46,
          0.47000000000000003,
          0.48,
          0.49,
          0.5,
          0.51,
          0.52,
          0.53,
          0.54,
          0.55,
          0.56,
          0.5700000000000001,
          0.58,
          0.59,
          0.6,
          0.61,
          0.62,
          0.63,
          0.64,
          0.65,
          0.66,
          0.67,
          0.68,
          0.6900000000000001,
          0.7000000000000001,
          0.71,
          0.72,
          0.73,
          0.74,
          0.75,
          0.76,
          0.77,
          0.78,
          0.79,
          0.8,
          0.81,
          0.8200000000000001,
          0.8300000000000001,
          0.84,
          0.85,
          0.86,
          0.87,
          0.88,
          0.89,
          0.9,
          0.91,
          0.92,
          0.93,
          0.9400000000000001,
          0.9500000000000001,
          0.96,
          0.97,
          0.98,
          0.99
         ],
         "y": [
          2,
          1.94949701961,
          2.06753804669,
          1.84222524069,
          1.69436356474,
          1.51666958751,
          1.2164789,
          1.3092261407,
          1.19572251137,
          1.25461460673,
          1.3666601438,
          1.32534138704,
          1.38140950105,
          1.2446207945,
          1.18179180932,
          1.25913152571,
          1.24436289946,
          1.23276607772,
          1.3873159556,
          1.46366775561,
          1.47892206602,
          1.42364817603,
          1.57309629695,
          1.61149456509,
          1.60399649448,
          1.59434623782,
          1.44725007002,
          1.46822854099,
          1.45093491998,
          1.5637273337,
          1.79843084144,
          1.95057863749,
          1.90137959349,
          1.49917195679,
          1.64573780996,
          1.85636527998,
          1.81474584532,
          2.02600876837,
          2.03282281534,
          2.20744270861,
          2.2737907018,
          3.26640461904,
          3.64838919896,
          3.65435068901,
          3.37667102964,
          3.79215313729,
          3.6523754348,
          3.58714899259,
          3.10664433609,
          3.22834488041,
          4.03529631229,
          4.711099201,
          5.12257999625,
          4.97000551723,
          5.66077990567,
          7.37205451541,
          7.87809655232,
          7.38667388397,
          7.96827096083,
          7.03158561202,
          6.84662708638,
          8.01256881875,
          7.20545097887,
          7.38073403426,
          8.47257105044,
          7.05512017536,
          7.99565613171,
          8.48121887961,
          7.02326374209,
          7.13221930167,
          6.45682559369,
          6.5455685995,
          5.87676950954,
          6.56776396106,
          7.68405609118,
          8.07967477858,
          8.27563260906,
          6.45848261674,
          7.31154767446,
          7.04961919094,
          7.11426196538,
          7.47723271058,
          8.6075247873,
          8.72482243927,
          8.19409600479,
          9.58034863785,
          7.78332022522,
          6.3892335314,
          6.5800504598,
          5.76826679775,
          6.69129162695,
          6.78019827126,
          7.83205830851,
          7.2465612167,
          7.79493246397,
          7.42222900761,
          6.97102820928,
          5.93036688071,
          6.36653989176,
          6.80368888904
         ]
        },
        {
         "mode": "lines",
         "name": "poly5_integration_CASE2",
         "type": "scatter",
         "x": [
          0,
          0.01,
          0.02,
          0.03,
          0.04,
          0.05,
          0.06,
          0.07,
          0.08,
          0.09,
          0.1,
          0.11,
          0.12,
          0.13,
          0.14,
          0.15,
          0.16,
          0.17,
          0.18,
          0.19,
          0.2,
          0.21,
          0.22,
          0.23,
          0.24,
          0.25,
          0.26,
          0.27,
          0.28,
          0.29,
          0.3,
          0.31,
          0.32,
          0.33,
          0.34,
          0.35000000000000003,
          0.36,
          0.37,
          0.38,
          0.39,
          0.4,
          0.41000000000000003,
          0.42,
          0.43,
          0.44,
          0.45,
          0.46,
          0.47000000000000003,
          0.48,
          0.49,
          0.5,
          0.51,
          0.52,
          0.53,
          0.54,
          0.55,
          0.56,
          0.5700000000000001,
          0.58,
          0.59,
          0.6,
          0.61,
          0.62,
          0.63,
          0.64,
          0.65,
          0.66,
          0.67,
          0.68,
          0.6900000000000001,
          0.7000000000000001,
          0.71,
          0.72,
          0.73,
          0.74,
          0.75,
          0.76,
          0.77,
          0.78,
          0.79,
          0.8,
          0.81,
          0.8200000000000001,
          0.8300000000000001,
          0.84,
          0.85,
          0.86,
          0.87,
          0.88,
          0.89,
          0.9,
          0.91,
          0.92,
          0.93,
          0.9400000000000001,
          0.9500000000000001,
          0.96,
          0.97,
          0.98,
          0.99
         ],
         "y": [
          2,
          1.9490163562,
          2.0667074402,
          1.840810618,
          1.69234068052,
          1.51464658226,
          1.2146744014,
          1.30735192455,
          1.19408849345,
          1.25312037611,
          1.36505764277,
          1.32308765561,
          1.37828458532,
          1.24144557712,
          1.17881114079,
          1.25505193844,
          1.23953950371,
          1.22786464977,
          1.38145571675,
          1.45806657351,
          1.47356377363,
          1.41888151722,
          1.56792420803,
          1.60647381106,
          1.59983041451,
          1.58999115098,
          1.44301568209,
          1.46364774933,
          1.44635464517,
          1.5583718575,
          1.79217157667,
          1.94351428369,
          1.89535089876,
          1.49481623857,
          1.64143256307,
          1.85072656276,
          1.80852927479,
          2.01916070995,
          2.02580329368,
          2.19975738436,
          2.26601220416,
          3.2556552122,
          3.63627788653,
          3.64161490231,
          3.36478838357,
          3.77830314792,
          3.63768998661,
          3.57340211519,
          3.09483947614,
          3.21479901002,
          4.01801308436,
          4.68947891771,
          5.09932892098,
          4.94711509318,
          5.63215472063,
          7.3351918414,
          7.83829852811,
          7.34955042841,
          7.92869666881,
          6.99551840914,
          6.81056317546,
          7.97131756136,
          7.16606791556,
          7.34188649255,
          8.43257963373,
          7.0213337287,
          7.95784005471,
          8.43847502,
          6.98522773645,
          7.09822776006,
          6.42780823763,
          6.51451633226,
          5.8470009145,
          6.5351393509,
          7.64743966558,
          8.04517955874,
          8.24062213156,
          6.43036792896,
          7.28159524722,
          7.02267255812,
          7.08488051368,
          7.44610777397,
          8.5680399347,
          8.68392660236,
          8.15326456948,
          9.53324612859,
          7.7448339948,
          6.35957239769,
          6.54846642406,
          5.74052168469,
          6.65661281423,
          6.74530082989,
          7.79216638649,
          7.2106944529,
          7.75691235155,
          7.38870585463,
          6.93739443628,
          5.9003249568,
          6.33498185919,
          6.76547024819
         ]
        },
        {
         "mode": "lines",
         "name": "poly2_integration_CASE3",
         "type": "scatter",
         "x": [
          0,
          0.01,
          0.02,
          0.03,
          0.04,
          0.05,
          0.06,
          0.07,
          0.08,
          0.09,
          0.1,
          0.11,
          0.12,
          0.13,
          0.14,
          0.15,
          0.16,
          0.17,
          0.18,
          0.19,
          0.2,
          0.21,
          0.22,
          0.23,
          0.24,
          0.25,
          0.26,
          0.27,
          0.28,
          0.29,
          0.3,
          0.31,
          0.32,
          0.33,
          0.34,
          0.35000000000000003,
          0.36,
          0.37,
          0.38,
          0.39,
          0.4,
          0.41000000000000003,
          0.42,
          0.43,
          0.44,
          0.45,
          0.46,
          0.47000000000000003,
          0.48,
          0.49,
          0.5,
          0.51,
          0.52,
          0.53,
          0.54,
          0.55,
          0.56,
          0.5700000000000001,
          0.58,
          0.59,
          0.6,
          0.61,
          0.62,
          0.63,
          0.64,
          0.65,
          0.66,
          0.67,
          0.68,
          0.6900000000000001,
          0.7000000000000001,
          0.71,
          0.72,
          0.73,
          0.74,
          0.75,
          0.76,
          0.77,
          0.78,
          0.79,
          0.8,
          0.81,
          0.8200000000000001,
          0.8300000000000001,
          0.84,
          0.85,
          0.86,
          0.87,
          0.88,
          0.89,
          0.9,
          0.91,
          0.92,
          0.93,
          0.9400000000000001,
          0.9500000000000001,
          0.96,
          0.97,
          0.98,
          0.99
         ],
         "y": [
          1.57079632679,
          1.54022935888,
          1.59401411798,
          1.47380027865,
          1.38605014549,
          1.27367548745,
          1.06650706703,
          1.12742652783,
          1.04284796163,
          1.08045895284,
          1.15282756761,
          1.12045709565,
          1.15351823874,
          1.05595992109,
          1.00723659301,
          1.05735911016,
          1.04278730439,
          1.03043288554,
          1.13014641376,
          1.17452958782,
          1.1794868625,
          1.13999134801,
          1.22777656607,
          1.24583677348,
          1.2366950712,
          1.2262928721,
          1.1322505133,
          1.14077027715,
          1.1255164468,
          1.18948518621,
          1.31749647409,
          1.39192867587,
          1.36195809477,
          1.13252049988,
          1.21388799348,
          1.32404520381,
          1.29730320831,
          1.39979734723,
          1.3981849378,
          1.47489746121,
          1.49942571924,
          1.85286313318,
          1.95265383257,
          1.94953681562,
          1.87033358624,
          1.97453548206,
          1.93508772794,
          1.9134931186,
          1.77026797834,
          1.80291970517,
          2.00849665105,
          2.13962385425,
          2.20454019365,
          2.17585425508,
          2.27505174283,
          2.45586068092,
          2.49382339564,
          2.45077904675,
          2.49467956154,
          2.41218278733,
          2.39083838292,
          2.48898349878,
          2.41846993774,
          2.43097691235,
          2.51339413462,
          2.3943141961,
          2.47240434839,
          2.5051733249,
          2.38098488096,
          2.38814764678,
          2.3139509405,
          2.32030534917,
          2.23460883026,
          2.31547213756,
          2.42147003614,
          2.45077773145,
          2.46277541166,
          2.28815666033,
          2.3743544852,
          2.34513476696,
          2.34808369358,
          2.37949513161,
          2.46867194669,
          2.47397470194,
          2.43090898006,
          2.52403614735,
          2.38994269412,
          2.24157279452,
          2.26058328347,
          2.15068256133,
          2.26582959887,
          2.27211103733,
          2.3736963335,
          2.31456953104,
          2.36343122077,
          2.32481094001,
          2.27432986054,
          2.14054788265,
          2.19511211565,
          2.24406578503
         ]
        },
        {
         "mode": "lines",
         "name": "poly2_integration_CASE4",
         "type": "scatter",
         "x": [
          0,
          0.01,
          0.02,
          0.03,
          0.04,
          0.05,
          0.06,
          0.07,
          0.08,
          0.09,
          0.1,
          0.11,
          0.12,
          0.13,
          0.14,
          0.15,
          0.16,
          0.17,
          0.18,
          0.19,
          0.2,
          0.21,
          0.22,
          0.23,
          0.24,
          0.25,
          0.26,
          0.27,
          0.28,
          0.29,
          0.3,
          0.31,
          0.32,
          0.33,
          0.34,
          0.35000000000000003,
          0.36,
          0.37,
          0.38,
          0.39,
          0.4,
          0.41000000000000003,
          0.42,
          0.43,
          0.44,
          0.45,
          0.46,
          0.47000000000000003,
          0.48,
          0.49,
          0.5,
          0.51,
          0.52,
          0.53,
          0.54,
          0.55,
          0.56,
          0.5700000000000001,
          0.58,
          0.59,
          0.6,
          0.61,
          0.62,
          0.63,
          0.64,
          0.65,
          0.66,
          0.67,
          0.68,
          0.6900000000000001,
          0.7000000000000001,
          0.71,
          0.72,
          0.73,
          0.74,
          0.75,
          0.76,
          0.77,
          0.78,
          0.79,
          0.8,
          0.81,
          0.8200000000000001,
          0.8300000000000001,
          0.84,
          0.85,
          0.86,
          0.87,
          0.88,
          0.89,
          0.9,
          0.91,
          0.92,
          0.93,
          0.9400000000000001,
          0.9500000000000001,
          0.96,
          0.97,
          0.98,
          0.99
         ],
         "y": [
          1,
          1.00343785031,
          1.02357063342,
          1.00876168495,
          1.00054701377,
          0.987050771286,
          0.952361249282,
          0.975718455288,
          0.966718892113,
          0.984961314106,
          1.0103927176,
          1.0128123994,
          1.02956261368,
          1.01672825772,
          1.01446148498,
          1.03564806281,
          1.04132763081,
          1.04729599457,
          1.0794368369,
          1.09829122641,
          1.10787652515,
          1.10716362956,
          1.13565809948,
          1.14779631186,
          1.15378276822,
          1.15926231642,
          1.1454825156,
          1.15551341199,
          1.15968605089,
          1.18262854307,
          1.21969546908,
          1.24367102731,
          1.24385997524,
          1.19750946982,
          1.22421891378,
          1.25713357151,
          1.25789365287,
          1.28832454161,
          1.29463716262,
          1.31861480732,
          1.33049967179,
          1.42006121744,
          1.45057350667,
          1.4546375584,
          1.43954981136,
          1.47122053084,
          1.46565420295,
          1.46496511685,
          1.43416126466,
          1.44724023851,
          1.50490304869,
          1.5461578209,
          1.56965215546,
          1.56460838576,
          1.59985583946,
          1.66929079191,
          1.68798566255,
          1.67263445706,
          1.69381232672,
          1.66287983881,
          1.65758716316,
          1.69977455944,
          1.67360882457,
          1.68128329374,
          1.71845459764,
          1.67215308135,
          1.7059432357,
          1.72244133259,
          1.67447237072,
          1.68006164165,
          1.65580705805,
          1.66089304427,
          1.63503415136,
          1.6652914285,
          1.70746067928,
          1.7216751719,
          1.7288505704,
          1.66548854223,
          1.69900518034,
          1.69069402525,
          1.69439174324,
          1.70862404609,
          1.74652193839,
          1.75081913066,
          1.73492570181,
          1.7770122295,
          1.72277808279,
          1.67255389734,
          1.68147065588,
          1.64892718621,
          1.68882999805,
          1.6935730846,
          1.7322204176,
          1.7129463906,
          1.73296459514,
          1.72110445114,
          1.70560913074,
          1.66486382338,
          1.68456649038,
          1.70329552779
         ]
        },
        {
         "mode": "lines",
         "name": "poly2_integration_CASE5",
         "type": "scatter",
         "x": [
          0,
          0.01,
          0.02,
          0.03,
          0.04,
          0.05,
          0.06,
          0.07,
          0.08,
          0.09,
          0.1,
          0.11,
          0.12,
          0.13,
          0.14,
          0.15,
          0.16,
          0.17,
          0.18,
          0.19,
          0.2,
          0.21,
          0.22,
          0.23,
          0.24,
          0.25,
          0.26,
          0.27,
          0.28,
          0.29,
          0.3,
          0.31,
          0.32,
          0.33,
          0.34,
          0.35000000000000003,
          0.36,
          0.37,
          0.38,
          0.39,
          0.4,
          0.41000000000000003,
          0.42,
          0.43,
          0.44,
          0.45,
          0.46,
          0.47000000000000003,
          0.48,
          0.49,
          0.5,
          0.51,
          0.52,
          0.53,
          0.54,
          0.55,
          0.56,
          0.5700000000000001,
          0.58,
          0.59,
          0.6,
          0.61,
          0.62,
          0.63,
          0.64,
          0.65,
          0.66,
          0.67,
          0.68,
          0.6900000000000001,
          0.7000000000000001,
          0.71,
          0.72,
          0.73,
          0.74,
          0.75,
          0.76,
          0.77,
          0.78,
          0.79,
          0.8,
          0.81,
          0.8200000000000001,
          0.8300000000000001,
          0.84,
          0.85,
          0.86,
          0.87,
          0.88,
          0.89,
          0.9,
          0.91,
          0.92,
          0.93,
          0.9400000000000001,
          0.9500000000000001,
          0.96,
          0.97,
          0.98,
          0.99
         ],
         "y": [
          0.3,
          0.286901585928,
          0.312635810512,
          0.258953997521,
          0.22120238569,
          0.174751736626,
          0.0968680009338,
          0.115470679327,
          0.0840776700198,
          0.0935660923499,
          0.116590375709,
          0.10229317048,
          0.110869754293,
          0.0764616498914,
          0.059396877593,
          0.0689916162457,
          0.061122713115,
          0.0545416147841,
          0.0792297402335,
          0.0891386780353,
          0.0879042150532,
          0.0734073253392,
          0.0960497670601,
          0.0993479905304,
          0.0936280708013,
          0.0880914428863,
          0.0576163278251,
          0.0553500476792,
          0.0479580187102,
          0.0588862989591,
          0.0905808449262,
          0.111604569883,
          0.100190580024,
          0.0367402480192,
          0.0504304403719,
          0.0732138060764,
          0.0623064506943,
          0.0867532398087,
          0.0827754995676,
          0.103196094926,
          0.108658090478,
          0.241089570328,
          0.288121063442,
          0.287631866866,
          0.250867731587,
          0.301318424761,
          0.283000459038,
          0.273393220145,
          0.210066650834,
          0.223905408881,
          0.321498190881,
          0.394812768414,
          0.435688038941,
          0.420391692599,
          0.484790383197,
          0.616036356787,
          0.648587586323,
          0.618209212181,
          0.655171043799,
          0.595222741556,
          0.582546708819,
          0.65929230428,
          0.608732265176,
          0.620939235405,
          0.687198417542,
          0.600250898352,
          0.661238588281,
          0.689616874989,
          0.600209239558,
          0.608098302722,
          0.559550883049,
          0.566668977236,
          0.51311176155,
          0.568694228555,
          0.645720517243,
          0.670227881781,
          0.682280622785,
          0.563058775239,
          0.624422660839,
          0.607261340421,
          0.612179549261,
          0.636788818378,
          0.703684751044,
          0.710753882553,
          0.682875608796,
          0.754010454852,
          0.66069654164,
          0.565292365877,
          0.58031547115,
          0.515170432661,
          0.589142701337,
          0.596039303126,
          0.666309263405,
          0.629773324455,
          0.665360389632,
          0.642677099978,
          0.613072438092,
          0.533660949472,
          0.569307705464,
          0.602284498228
         ]
        },
        {
         "mode": "lines",
         "name": "Case1:y_0/(1-Wt)",
         "type": "scatter",
         "x": [
          0,
          0.01,
          0.02,
          0.03,
          0.04,
          0.05,
          0.06,
          0.07,
          0.08,
          0.09,
          0.1,
          0.11,
          0.12,
          0.13,
          0.14,
          0.15,
          0.16,
          0.17,
          0.18,
          0.19,
          0.2,
          0.21,
          0.22,
          0.23,
          0.24,
          0.25,
          0.26,
          0.27,
          0.28,
          0.29,
          0.3,
          0.31,
          0.32,
          0.33,
          0.34,
          0.35000000000000003,
          0.36,
          0.37,
          0.38,
          0.39,
          0.4,
          0.41000000000000003,
          0.42,
          0.43,
          0.44,
          0.45,
          0.46,
          0.47000000000000003,
          0.48,
          0.49,
          0.5,
          0.51,
          0.52,
          0.53,
          0.54,
          0.55,
          0.56,
          0.5700000000000001,
          0.58,
          0.59,
          0.6,
          0.61,
          0.62,
          0.63,
          0.64,
          0.65,
          0.66,
          0.67,
          0.68,
          0.6900000000000001,
          0.7000000000000001,
          0.71,
          0.72,
          0.73,
          0.74,
          0.75,
          0.76,
          0.77,
          0.78,
          0.79,
          0.8,
          0.81,
          0.8200000000000001,
          0.8300000000000001,
          0.84,
          0.85,
          0.86,
          0.87,
          0.88,
          0.89,
          0.9,
          0.91,
          0.92,
          0.93,
          0.9400000000000001,
          0.9500000000000001,
          0.96,
          0.97,
          0.98,
          0.99
         ],
         "y": [
          0.9963787881512098,
          0.968320271032964,
          1.0178777945340736,
          0.905791598842436,
          0.8340141312741354,
          0.7622353439832357,
          0.6494436751009443,
          0.6800420556474979,
          0.6375957699694333,
          0.6554916834162043,
          0.6926361300839892,
          0.6752820975905244,
          0.6938492635316662,
          0.6476321385592827,
          0.6253063409311908,
          0.6467091123221507,
          0.639856054736986,
          0.6342797612514204,
          0.6829272337708904,
          0.7040179555578436,
          0.7058395291728187,
          0.6858179466082996,
          0.7320481484670626,
          0.73826842932661,
          0.7314953197026827,
          0.7267770568248739,
          0.6751509624929511,
          0.6786833659427192,
          0.6725991160702478,
          0.70579819382212,
          0.782876951888686,
          0.8329437510616229,
          0.8106182340439704,
          0.677748350880865,
          0.7206113661229595,
          0.7848416531252943,
          0.7683964242087714,
          0.833870314467886,
          0.8324197143424106,
          0.8851995593115504,
          0.9003527560525761,
          1.3389537157242979,
          1.5464918516411448,
          1.5405769040799944,
          1.3736417497362532,
          1.62147585874604,
          1.5191150736902652,
          1.470056373582879,
          1.2152196882321153,
          1.2655167617422305,
          1.73430012439633,
          2.3265791559565154,
          2.845630031285096,
          2.5970337662421468,
          3.8771825473647907,
          -277.9071960711388,
          -13.963344180364887,
          -449.93707225099513,
          -13.63817376979633,
          16.308955274714283,
          10.994162883942153,
          -14.313805490925038,
          31.001547950505373,
          83.22289746385076,
          -8.378483067592247,
          14.741715391960884,
          -18.014917345625317,
          -9.451428062738678,
          11.534571839099383,
          13.110470058749815,
          5.497256173340559,
          5.7915018751535845,
          3.4901348487026342,
          5.489146272645586,
          32.00878613933645,
          -75.43833871048349,
          -30.79647515999408,
          4.489390523621475,
          9.490991212742143,
          6.701916386219834,
          7.050453090079427,
          10.116568006648889,
          -33.35083165870001,
          -26.59105368659257,
          37.28467065622911,
          -7.7230902756227575,
          12.146144104429881,
          3.505958549963879,
          3.79723775747739,
          2.4966088898055068,
          3.845789743332635,
          3.958875262710696,
          8.551189535288788,
          5.021836443876152,
          7.6220775134442205,
          5.415679559100346,
          3.870053765534533,
          2.3406919275731664,
          2.769193122507825,
          3.3833990712538
         ]
        },
        {
         "mode": "lines",
         "name": "Case2:y_0exp(1/2t + Wt)",
         "type": "scatter",
         "x": [
          0,
          0.01,
          0.02,
          0.03,
          0.04,
          0.05,
          0.06,
          0.07,
          0.08,
          0.09,
          0.1,
          0.11,
          0.12,
          0.13,
          0.14,
          0.15,
          0.16,
          0.17,
          0.18,
          0.19,
          0.2,
          0.21,
          0.22,
          0.23,
          0.24,
          0.25,
          0.26,
          0.27,
          0.28,
          0.29,
          0.3,
          0.31,
          0.32,
          0.33,
          0.34,
          0.35000000000000003,
          0.36,
          0.37,
          0.38,
          0.39,
          0.4,
          0.41000000000000003,
          0.42,
          0.43,
          0.44,
          0.45,
          0.46,
          0.47000000000000003,
          0.48,
          0.49,
          0.5,
          0.51,
          0.52,
          0.53,
          0.54,
          0.55,
          0.56,
          0.5700000000000001,
          0.58,
          0.59,
          0.6,
          0.61,
          0.62,
          0.63,
          0.64,
          0.65,
          0.66,
          0.67,
          0.68,
          0.6900000000000001,
          0.7000000000000001,
          0.71,
          0.72,
          0.73,
          0.74,
          0.75,
          0.76,
          0.77,
          0.78,
          0.79,
          0.8,
          0.81,
          0.8200000000000001,
          0.8300000000000001,
          0.84,
          0.85,
          0.86,
          0.87,
          0.88,
          0.89,
          0.9,
          0.91,
          0.92,
          0.93,
          0.9400000000000001,
          0.9500000000000001,
          0.96,
          0.97,
          0.98,
          0.99
         ],
         "y": [
          1.9927444473131648,
          1.9453288012090093,
          2.0558943769976192,
          1.8296788759894589,
          1.6721776003807491,
          1.501127380577834,
          1.2012561114056493,
          1.2938857375433481,
          1.1791046095960567,
          1.2368586420494647,
          1.3490325018678588,
          1.3064121783042728,
          1.3660344149011518,
          1.238697897942659,
          1.1781330554451002,
          1.2483927485241952,
          1.2340428787314452,
          1.2233045041367627,
          1.3755619431836807,
          1.4444503418712795,
          1.4570219084062286,
          1.4049957435382043,
          1.5482369234891387,
          1.5740096864930686,
          1.562183364167484,
          1.5561415849078137,
          1.4077560116900514,
          1.4257614606914015,
          1.4139362191515124,
          1.5239590564802366,
          1.760868650945275,
          1.9109221368245977,
          1.8580375442129455,
          1.4661989215085367,
          1.6087164482546439,
          1.8112275424290858,
          1.7713387319075522,
          1.9717469677505022,
          1.9774934833755755,
          2.1349824192427134,
          2.1868702238267623,
          3.1622866050468086,
          3.513182670576378,
          3.522037633697105,
          3.271194895272339,
          3.674529431176844,
          3.542629336759034,
          3.483024963945414,
          3.035119214821011,
          3.1517446144508545,
          3.921780309235453,
          4.564603197007273,
          4.96161431008327,
          4.8215357748365255,
          5.502639764947415,
          7.183203863524547,
          7.727328972271056,
          7.24542122065819,
          7.818328467029313,
          6.867713139882876,
          6.700551412676765,
          7.90906684914884,
          7.177066447026291,
          7.360524963001536,
          8.43593475043633,
          7.030884176224938,
          7.993723994014834,
          8.448182229853852,
          7.003788998246364,
          7.112631335619674,
          6.431695880221466,
          6.523952455695855,
          5.8510743858030105,
          6.527144044156623,
          7.628610803606339,
          8.01570738500789,
          8.212180090915085,
          6.394254133200987,
          7.226711614184318,
          6.951351685055884,
          7.037917553730224,
          7.383881354061418,
          8.44125876559296,
          8.548482772301549,
          8.055269765234819,
          9.465267330856253,
          7.69689134217767,
          6.314941426142693,
          6.48698495930482,
          5.683708166593682,
          6.574000589273123,
          6.65620953925699,
          7.661473943963543,
          7.092350722596206,
          7.628943388215028,
          7.268123526880402,
          6.785261528143584,
          5.7599170955581105,
          6.184407223115281,
          6.636511313495585
         ]
        }
       ],
       "layout": {
        "template": {
         "data": {
          "bar": [
           {
            "error_x": {
             "color": "#2a3f5f"
            },
            "error_y": {
             "color": "#2a3f5f"
            },
            "marker": {
             "line": {
              "color": "#E5ECF6",
              "width": 0.5
             },
             "pattern": {
              "fillmode": "overlay",
              "size": 10,
              "solidity": 0.2
             }
            },
            "type": "bar"
           }
          ],
          "barpolar": [
           {
            "marker": {
             "line": {
              "color": "#E5ECF6",
              "width": 0.5
             },
             "pattern": {
              "fillmode": "overlay",
              "size": 10,
              "solidity": 0.2
             }
            },
            "type": "barpolar"
           }
          ],
          "carpet": [
           {
            "aaxis": {
             "endlinecolor": "#2a3f5f",
             "gridcolor": "white",
             "linecolor": "white",
             "minorgridcolor": "white",
             "startlinecolor": "#2a3f5f"
            },
            "baxis": {
             "endlinecolor": "#2a3f5f",
             "gridcolor": "white",
             "linecolor": "white",
             "minorgridcolor": "white",
             "startlinecolor": "#2a3f5f"
            },
            "type": "carpet"
           }
          ],
          "choropleth": [
           {
            "colorbar": {
             "outlinewidth": 0,
             "ticks": ""
            },
            "type": "choropleth"
           }
          ],
          "contour": [
           {
            "colorbar": {
             "outlinewidth": 0,
             "ticks": ""
            },
            "colorscale": [
             [
              0,
              "#0d0887"
             ],
             [
              0.1111111111111111,
              "#46039f"
             ],
             [
              0.2222222222222222,
              "#7201a8"
             ],
             [
              0.3333333333333333,
              "#9c179e"
             ],
             [
              0.4444444444444444,
              "#bd3786"
             ],
             [
              0.5555555555555556,
              "#d8576b"
             ],
             [
              0.6666666666666666,
              "#ed7953"
             ],
             [
              0.7777777777777778,
              "#fb9f3a"
             ],
             [
              0.8888888888888888,
              "#fdca26"
             ],
             [
              1,
              "#f0f921"
             ]
            ],
            "type": "contour"
           }
          ],
          "contourcarpet": [
           {
            "colorbar": {
             "outlinewidth": 0,
             "ticks": ""
            },
            "type": "contourcarpet"
           }
          ],
          "heatmap": [
           {
            "colorbar": {
             "outlinewidth": 0,
             "ticks": ""
            },
            "colorscale": [
             [
              0,
              "#0d0887"
             ],
             [
              0.1111111111111111,
              "#46039f"
             ],
             [
              0.2222222222222222,
              "#7201a8"
             ],
             [
              0.3333333333333333,
              "#9c179e"
             ],
             [
              0.4444444444444444,
              "#bd3786"
             ],
             [
              0.5555555555555556,
              "#d8576b"
             ],
             [
              0.6666666666666666,
              "#ed7953"
             ],
             [
              0.7777777777777778,
              "#fb9f3a"
             ],
             [
              0.8888888888888888,
              "#fdca26"
             ],
             [
              1,
              "#f0f921"
             ]
            ],
            "type": "heatmap"
           }
          ],
          "heatmapgl": [
           {
            "colorbar": {
             "outlinewidth": 0,
             "ticks": ""
            },
            "colorscale": [
             [
              0,
              "#0d0887"
             ],
             [
              0.1111111111111111,
              "#46039f"
             ],
             [
              0.2222222222222222,
              "#7201a8"
             ],
             [
              0.3333333333333333,
              "#9c179e"
             ],
             [
              0.4444444444444444,
              "#bd3786"
             ],
             [
              0.5555555555555556,
              "#d8576b"
             ],
             [
              0.6666666666666666,
              "#ed7953"
             ],
             [
              0.7777777777777778,
              "#fb9f3a"
             ],
             [
              0.8888888888888888,
              "#fdca26"
             ],
             [
              1,
              "#f0f921"
             ]
            ],
            "type": "heatmapgl"
           }
          ],
          "histogram": [
           {
            "marker": {
             "pattern": {
              "fillmode": "overlay",
              "size": 10,
              "solidity": 0.2
             }
            },
            "type": "histogram"
           }
          ],
          "histogram2d": [
           {
            "colorbar": {
             "outlinewidth": 0,
             "ticks": ""
            },
            "colorscale": [
             [
              0,
              "#0d0887"
             ],
             [
              0.1111111111111111,
              "#46039f"
             ],
             [
              0.2222222222222222,
              "#7201a8"
             ],
             [
              0.3333333333333333,
              "#9c179e"
             ],
             [
              0.4444444444444444,
              "#bd3786"
             ],
             [
              0.5555555555555556,
              "#d8576b"
             ],
             [
              0.6666666666666666,
              "#ed7953"
             ],
             [
              0.7777777777777778,
              "#fb9f3a"
             ],
             [
              0.8888888888888888,
              "#fdca26"
             ],
             [
              1,
              "#f0f921"
             ]
            ],
            "type": "histogram2d"
           }
          ],
          "histogram2dcontour": [
           {
            "colorbar": {
             "outlinewidth": 0,
             "ticks": ""
            },
            "colorscale": [
             [
              0,
              "#0d0887"
             ],
             [
              0.1111111111111111,
              "#46039f"
             ],
             [
              0.2222222222222222,
              "#7201a8"
             ],
             [
              0.3333333333333333,
              "#9c179e"
             ],
             [
              0.4444444444444444,
              "#bd3786"
             ],
             [
              0.5555555555555556,
              "#d8576b"
             ],
             [
              0.6666666666666666,
              "#ed7953"
             ],
             [
              0.7777777777777778,
              "#fb9f3a"
             ],
             [
              0.8888888888888888,
              "#fdca26"
             ],
             [
              1,
              "#f0f921"
             ]
            ],
            "type": "histogram2dcontour"
           }
          ],
          "mesh3d": [
           {
            "colorbar": {
             "outlinewidth": 0,
             "ticks": ""
            },
            "type": "mesh3d"
           }
          ],
          "parcoords": [
           {
            "line": {
             "colorbar": {
              "outlinewidth": 0,
              "ticks": ""
             }
            },
            "type": "parcoords"
           }
          ],
          "pie": [
           {
            "automargin": true,
            "type": "pie"
           }
          ],
          "scatter": [
           {
            "fillpattern": {
             "fillmode": "overlay",
             "size": 10,
             "solidity": 0.2
            },
            "type": "scatter"
           }
          ],
          "scatter3d": [
           {
            "line": {
             "colorbar": {
              "outlinewidth": 0,
              "ticks": ""
             }
            },
            "marker": {
             "colorbar": {
              "outlinewidth": 0,
              "ticks": ""
             }
            },
            "type": "scatter3d"
           }
          ],
          "scattercarpet": [
           {
            "marker": {
             "colorbar": {
              "outlinewidth": 0,
              "ticks": ""
             }
            },
            "type": "scattercarpet"
           }
          ],
          "scattergeo": [
           {
            "marker": {
             "colorbar": {
              "outlinewidth": 0,
              "ticks": ""
             }
            },
            "type": "scattergeo"
           }
          ],
          "scattergl": [
           {
            "marker": {
             "colorbar": {
              "outlinewidth": 0,
              "ticks": ""
             }
            },
            "type": "scattergl"
           }
          ],
          "scattermapbox": [
           {
            "marker": {
             "colorbar": {
              "outlinewidth": 0,
              "ticks": ""
             }
            },
            "type": "scattermapbox"
           }
          ],
          "scatterpolar": [
           {
            "marker": {
             "colorbar": {
              "outlinewidth": 0,
              "ticks": ""
             }
            },
            "type": "scatterpolar"
           }
          ],
          "scatterpolargl": [
           {
            "marker": {
             "colorbar": {
              "outlinewidth": 0,
              "ticks": ""
             }
            },
            "type": "scatterpolargl"
           }
          ],
          "scatterternary": [
           {
            "marker": {
             "colorbar": {
              "outlinewidth": 0,
              "ticks": ""
             }
            },
            "type": "scatterternary"
           }
          ],
          "surface": [
           {
            "colorbar": {
             "outlinewidth": 0,
             "ticks": ""
            },
            "colorscale": [
             [
              0,
              "#0d0887"
             ],
             [
              0.1111111111111111,
              "#46039f"
             ],
             [
              0.2222222222222222,
              "#7201a8"
             ],
             [
              0.3333333333333333,
              "#9c179e"
             ],
             [
              0.4444444444444444,
              "#bd3786"
             ],
             [
              0.5555555555555556,
              "#d8576b"
             ],
             [
              0.6666666666666666,
              "#ed7953"
             ],
             [
              0.7777777777777778,
              "#fb9f3a"
             ],
             [
              0.8888888888888888,
              "#fdca26"
             ],
             [
              1,
              "#f0f921"
             ]
            ],
            "type": "surface"
           }
          ],
          "table": [
           {
            "cells": {
             "fill": {
              "color": "#EBF0F8"
             },
             "line": {
              "color": "white"
             }
            },
            "header": {
             "fill": {
              "color": "#C8D4E3"
             },
             "line": {
              "color": "white"
             }
            },
            "type": "table"
           }
          ]
         },
         "layout": {
          "annotationdefaults": {
           "arrowcolor": "#2a3f5f",
           "arrowhead": 0,
           "arrowwidth": 1
          },
          "autotypenumbers": "strict",
          "coloraxis": {
           "colorbar": {
            "outlinewidth": 0,
            "ticks": ""
           }
          },
          "colorscale": {
           "diverging": [
            [
             0,
             "#8e0152"
            ],
            [
             0.1,
             "#c51b7d"
            ],
            [
             0.2,
             "#de77ae"
            ],
            [
             0.3,
             "#f1b6da"
            ],
            [
             0.4,
             "#fde0ef"
            ],
            [
             0.5,
             "#f7f7f7"
            ],
            [
             0.6,
             "#e6f5d0"
            ],
            [
             0.7,
             "#b8e186"
            ],
            [
             0.8,
             "#7fbc41"
            ],
            [
             0.9,
             "#4d9221"
            ],
            [
             1,
             "#276419"
            ]
           ],
           "sequential": [
            [
             0,
             "#0d0887"
            ],
            [
             0.1111111111111111,
             "#46039f"
            ],
            [
             0.2222222222222222,
             "#7201a8"
            ],
            [
             0.3333333333333333,
             "#9c179e"
            ],
            [
             0.4444444444444444,
             "#bd3786"
            ],
            [
             0.5555555555555556,
             "#d8576b"
            ],
            [
             0.6666666666666666,
             "#ed7953"
            ],
            [
             0.7777777777777778,
             "#fb9f3a"
            ],
            [
             0.8888888888888888,
             "#fdca26"
            ],
            [
             1,
             "#f0f921"
            ]
           ],
           "sequentialminus": [
            [
             0,
             "#0d0887"
            ],
            [
             0.1111111111111111,
             "#46039f"
            ],
            [
             0.2222222222222222,
             "#7201a8"
            ],
            [
             0.3333333333333333,
             "#9c179e"
            ],
            [
             0.4444444444444444,
             "#bd3786"
            ],
            [
             0.5555555555555556,
             "#d8576b"
            ],
            [
             0.6666666666666666,
             "#ed7953"
            ],
            [
             0.7777777777777778,
             "#fb9f3a"
            ],
            [
             0.8888888888888888,
             "#fdca26"
            ],
            [
             1,
             "#f0f921"
            ]
           ]
          },
          "colorway": [
           "#636efa",
           "#EF553B",
           "#00cc96",
           "#ab63fa",
           "#FFA15A",
           "#19d3f3",
           "#FF6692",
           "#B6E880",
           "#FF97FF",
           "#FECB52"
          ],
          "font": {
           "color": "#2a3f5f"
          },
          "geo": {
           "bgcolor": "white",
           "lakecolor": "white",
           "landcolor": "#E5ECF6",
           "showlakes": true,
           "showland": true,
           "subunitcolor": "white"
          },
          "hoverlabel": {
           "align": "left"
          },
          "hovermode": "closest",
          "mapbox": {
           "style": "light"
          },
          "paper_bgcolor": "white",
          "plot_bgcolor": "#E5ECF6",
          "polar": {
           "angularaxis": {
            "gridcolor": "white",
            "linecolor": "white",
            "ticks": ""
           },
           "bgcolor": "#E5ECF6",
           "radialaxis": {
            "gridcolor": "white",
            "linecolor": "white",
            "ticks": ""
           }
          },
          "scene": {
           "xaxis": {
            "backgroundcolor": "#E5ECF6",
            "gridcolor": "white",
            "gridwidth": 2,
            "linecolor": "white",
            "showbackground": true,
            "ticks": "",
            "zerolinecolor": "white"
           },
           "yaxis": {
            "backgroundcolor": "#E5ECF6",
            "gridcolor": "white",
            "gridwidth": 2,
            "linecolor": "white",
            "showbackground": true,
            "ticks": "",
            "zerolinecolor": "white"
           },
           "zaxis": {
            "backgroundcolor": "#E5ECF6",
            "gridcolor": "white",
            "gridwidth": 2,
            "linecolor": "white",
            "showbackground": true,
            "ticks": "",
            "zerolinecolor": "white"
           }
          },
          "shapedefaults": {
           "line": {
            "color": "#2a3f5f"
           }
          },
          "ternary": {
           "aaxis": {
            "gridcolor": "white",
            "linecolor": "white",
            "ticks": ""
           },
           "baxis": {
            "gridcolor": "white",
            "linecolor": "white",
            "ticks": ""
           },
           "bgcolor": "#E5ECF6",
           "caxis": {
            "gridcolor": "white",
            "linecolor": "white",
            "ticks": ""
           }
          },
          "title": {
           "x": 0.05
          },
          "xaxis": {
           "automargin": true,
           "gridcolor": "white",
           "linecolor": "white",
           "ticks": "",
           "title": {
            "standoff": 15
           },
           "zerolinecolor": "white",
           "zerolinewidth": 2
          },
          "yaxis": {
           "automargin": true,
           "gridcolor": "white",
           "linecolor": "white",
           "ticks": "",
           "title": {
            "standoff": 15
           },
           "zerolinecolor": "white",
           "zerolinewidth": 2
          }
         }
        },
        "title": {
         "text": "Closed forms, Numerical simulations"
        }
       }
      },
      "text/html": [
       "<div>                            <div id=\"8820f52e-6eb1-4e25-883f-e67b0fb4bc60\" class=\"plotly-graph-div\" style=\"height:525px; width:100%;\"></div>            <script type=\"text/javascript\">                require([\"plotly\"], function(Plotly) {                    window.PLOTLYENV=window.PLOTLYENV || {};                                    if (document.getElementById(\"8820f52e-6eb1-4e25-883f-e67b0fb4bc60\")) {                    Plotly.newPlot(                        \"8820f52e-6eb1-4e25-883f-e67b0fb4bc60\",                        [{\"mode\":\"lines\",\"name\":\"poly2_integration_CASE1\",\"x\":[0.0,0.01,0.02,0.03,0.04,0.05,0.06,0.07,0.08,0.09,0.1,0.11,0.12,0.13,0.14,0.15,0.16,0.17,0.18,0.19,0.2,0.21,0.22,0.23,0.24,0.25,0.26,0.27,0.28,0.29,0.3,0.31,0.32,0.33,0.34,0.35000000000000003,0.36,0.37,0.38,0.39,0.4,0.41000000000000003,0.42,0.43,0.44,0.45,0.46,0.47000000000000003,0.48,0.49,0.5,0.51,0.52,0.53,0.54,0.55,0.56,0.5700000000000001,0.58,0.59,0.6,0.61,0.62,0.63,0.64,0.65,0.66,0.67,0.68,0.6900000000000001,0.7000000000000001,0.71,0.72,0.73,0.74,0.75,0.76,0.77,0.78,0.79,0.8,0.81,0.8200000000000001,0.8300000000000001,0.84,0.85,0.86,0.87,0.88,0.89,0.9,0.91,0.92,0.93,0.9400000000000001,0.9500000000000001,0.96,0.97,0.98,0.99],\"y\":[1.0,0.970327381483,1.0237544372,0.911412751284,0.843260096472,0.76824442147,0.654776676837,0.685512021797,0.643313372958,0.661649325131,0.698888555811,0.681870554732,0.69924095803,0.649604482831,0.626486368684,0.65027288831,0.643246239368,0.637355472159,0.686872241002,0.710578825527,0.713299644419,0.692028056395,0.740624999762,0.751261145157,0.745845417428,0.739755756089,0.687946376917,0.69241988686,0.684432815882,0.718803623018,0.795948621128,0.847342536891,0.825962359958,0.688045702556,0.732535761848,0.800194215475,0.782856876684,0.853056678529,0.851859656425,0.911984647462,0.932925505339,1.399118231,1.6416131113,1.63254027335,1.43555945339,1.70774105444,1.59201233025,1.53572396392,1.25000854865,1.30451138226,1.82310173023,2.50808925762,3.1248877716,2.81482532301,4.34400597002,null,null,null,null,null,null,null,null,null,null,null,null,null,null,null,null,null,null,null,null,null,null,null,null,null,null,null,null,null,null,null,null,null,null,null,null,null,null,null,null,null,null,null,null,null],\"type\":\"scatter\"},{\"mode\":\"lines\",\"name\":\"poly2_integration_CASE2\",\"x\":[0.0,0.01,0.02,0.03,0.04,0.05,0.06,0.07,0.08,0.09,0.1,0.11,0.12,0.13,0.14,0.15,0.16,0.17,0.18,0.19,0.2,0.21,0.22,0.23,0.24,0.25,0.26,0.27,0.28,0.29,0.3,0.31,0.32,0.33,0.34,0.35000000000000003,0.36,0.37,0.38,0.39,0.4,0.41000000000000003,0.42,0.43,0.44,0.45,0.46,0.47000000000000003,0.48,0.49,0.5,0.51,0.52,0.53,0.54,0.55,0.56,0.5700000000000001,0.58,0.59,0.6,0.61,0.62,0.63,0.64,0.65,0.66,0.67,0.68,0.6900000000000001,0.7000000000000001,0.71,0.72,0.73,0.74,0.75,0.76,0.77,0.78,0.79,0.8,0.81,0.8200000000000001,0.8300000000000001,0.84,0.85,0.86,0.87,0.88,0.89,0.9,0.91,0.92,0.93,0.9400000000000001,0.9500000000000001,0.96,0.97,0.98,0.99],\"y\":[2.0,1.94949701961,2.06753804669,1.84222524069,1.69436356474,1.51666958751,1.2164789,1.3092261407,1.19572251137,1.25461460673,1.3666601438,1.32534138704,1.38140950105,1.2446207945,1.18179180932,1.25913152571,1.24436289946,1.23276607772,1.3873159556,1.46366775561,1.47892206602,1.42364817603,1.57309629695,1.61149456509,1.60399649448,1.59434623782,1.44725007002,1.46822854099,1.45093491998,1.5637273337,1.79843084144,1.95057863749,1.90137959349,1.49917195679,1.64573780996,1.85636527998,1.81474584532,2.02600876837,2.03282281534,2.20744270861,2.2737907018,3.26640461904,3.64838919896,3.65435068901,3.37667102964,3.79215313729,3.6523754348,3.58714899259,3.10664433609,3.22834488041,4.03529631229,4.711099201,5.12257999625,4.97000551723,5.66077990567,7.37205451541,7.87809655232,7.38667388397,7.96827096083,7.03158561202,6.84662708638,8.01256881875,7.20545097887,7.38073403426,8.47257105044,7.05512017536,7.99565613171,8.48121887961,7.02326374209,7.13221930167,6.45682559369,6.5455685995,5.87676950954,6.56776396106,7.68405609118,8.07967477858,8.27563260906,6.45848261674,7.31154767446,7.04961919094,7.11426196538,7.47723271058,8.6075247873,8.72482243927,8.19409600479,9.58034863785,7.78332022522,6.3892335314,6.5800504598,5.76826679775,6.69129162695,6.78019827126,7.83205830851,7.2465612167,7.79493246397,7.42222900761,6.97102820928,5.93036688071,6.36653989176,6.80368888904],\"type\":\"scatter\"},{\"mode\":\"lines\",\"name\":\"poly5_integration_CASE2\",\"x\":[0.0,0.01,0.02,0.03,0.04,0.05,0.06,0.07,0.08,0.09,0.1,0.11,0.12,0.13,0.14,0.15,0.16,0.17,0.18,0.19,0.2,0.21,0.22,0.23,0.24,0.25,0.26,0.27,0.28,0.29,0.3,0.31,0.32,0.33,0.34,0.35000000000000003,0.36,0.37,0.38,0.39,0.4,0.41000000000000003,0.42,0.43,0.44,0.45,0.46,0.47000000000000003,0.48,0.49,0.5,0.51,0.52,0.53,0.54,0.55,0.56,0.5700000000000001,0.58,0.59,0.6,0.61,0.62,0.63,0.64,0.65,0.66,0.67,0.68,0.6900000000000001,0.7000000000000001,0.71,0.72,0.73,0.74,0.75,0.76,0.77,0.78,0.79,0.8,0.81,0.8200000000000001,0.8300000000000001,0.84,0.85,0.86,0.87,0.88,0.89,0.9,0.91,0.92,0.93,0.9400000000000001,0.9500000000000001,0.96,0.97,0.98,0.99],\"y\":[2.0,1.9490163562,2.0667074402,1.840810618,1.69234068052,1.51464658226,1.2146744014,1.30735192455,1.19408849345,1.25312037611,1.36505764277,1.32308765561,1.37828458532,1.24144557712,1.17881114079,1.25505193844,1.23953950371,1.22786464977,1.38145571675,1.45806657351,1.47356377363,1.41888151722,1.56792420803,1.60647381106,1.59983041451,1.58999115098,1.44301568209,1.46364774933,1.44635464517,1.5583718575,1.79217157667,1.94351428369,1.89535089876,1.49481623857,1.64143256307,1.85072656276,1.80852927479,2.01916070995,2.02580329368,2.19975738436,2.26601220416,3.2556552122,3.63627788653,3.64161490231,3.36478838357,3.77830314792,3.63768998661,3.57340211519,3.09483947614,3.21479901002,4.01801308436,4.68947891771,5.09932892098,4.94711509318,5.63215472063,7.3351918414,7.83829852811,7.34955042841,7.92869666881,6.99551840914,6.81056317546,7.97131756136,7.16606791556,7.34188649255,8.43257963373,7.0213337287,7.95784005471,8.43847502,6.98522773645,7.09822776006,6.42780823763,6.51451633226,5.8470009145,6.5351393509,7.64743966558,8.04517955874,8.24062213156,6.43036792896,7.28159524722,7.02267255812,7.08488051368,7.44610777397,8.5680399347,8.68392660236,8.15326456948,9.53324612859,7.7448339948,6.35957239769,6.54846642406,5.74052168469,6.65661281423,6.74530082989,7.79216638649,7.2106944529,7.75691235155,7.38870585463,6.93739443628,5.9003249568,6.33498185919,6.76547024819],\"type\":\"scatter\"},{\"mode\":\"lines\",\"name\":\"poly2_integration_CASE3\",\"x\":[0.0,0.01,0.02,0.03,0.04,0.05,0.06,0.07,0.08,0.09,0.1,0.11,0.12,0.13,0.14,0.15,0.16,0.17,0.18,0.19,0.2,0.21,0.22,0.23,0.24,0.25,0.26,0.27,0.28,0.29,0.3,0.31,0.32,0.33,0.34,0.35000000000000003,0.36,0.37,0.38,0.39,0.4,0.41000000000000003,0.42,0.43,0.44,0.45,0.46,0.47000000000000003,0.48,0.49,0.5,0.51,0.52,0.53,0.54,0.55,0.56,0.5700000000000001,0.58,0.59,0.6,0.61,0.62,0.63,0.64,0.65,0.66,0.67,0.68,0.6900000000000001,0.7000000000000001,0.71,0.72,0.73,0.74,0.75,0.76,0.77,0.78,0.79,0.8,0.81,0.8200000000000001,0.8300000000000001,0.84,0.85,0.86,0.87,0.88,0.89,0.9,0.91,0.92,0.93,0.9400000000000001,0.9500000000000001,0.96,0.97,0.98,0.99],\"y\":[1.57079632679,1.54022935888,1.59401411798,1.47380027865,1.38605014549,1.27367548745,1.06650706703,1.12742652783,1.04284796163,1.08045895284,1.15282756761,1.12045709565,1.15351823874,1.05595992109,1.00723659301,1.05735911016,1.04278730439,1.03043288554,1.13014641376,1.17452958782,1.1794868625,1.13999134801,1.22777656607,1.24583677348,1.2366950712,1.2262928721,1.1322505133,1.14077027715,1.1255164468,1.18948518621,1.31749647409,1.39192867587,1.36195809477,1.13252049988,1.21388799348,1.32404520381,1.29730320831,1.39979734723,1.3981849378,1.47489746121,1.49942571924,1.85286313318,1.95265383257,1.94953681562,1.87033358624,1.97453548206,1.93508772794,1.9134931186,1.77026797834,1.80291970517,2.00849665105,2.13962385425,2.20454019365,2.17585425508,2.27505174283,2.45586068092,2.49382339564,2.45077904675,2.49467956154,2.41218278733,2.39083838292,2.48898349878,2.41846993774,2.43097691235,2.51339413462,2.3943141961,2.47240434839,2.5051733249,2.38098488096,2.38814764678,2.3139509405,2.32030534917,2.23460883026,2.31547213756,2.42147003614,2.45077773145,2.46277541166,2.28815666033,2.3743544852,2.34513476696,2.34808369358,2.37949513161,2.46867194669,2.47397470194,2.43090898006,2.52403614735,2.38994269412,2.24157279452,2.26058328347,2.15068256133,2.26582959887,2.27211103733,2.3736963335,2.31456953104,2.36343122077,2.32481094001,2.27432986054,2.14054788265,2.19511211565,2.24406578503],\"type\":\"scatter\"},{\"mode\":\"lines\",\"name\":\"poly2_integration_CASE4\",\"x\":[0.0,0.01,0.02,0.03,0.04,0.05,0.06,0.07,0.08,0.09,0.1,0.11,0.12,0.13,0.14,0.15,0.16,0.17,0.18,0.19,0.2,0.21,0.22,0.23,0.24,0.25,0.26,0.27,0.28,0.29,0.3,0.31,0.32,0.33,0.34,0.35000000000000003,0.36,0.37,0.38,0.39,0.4,0.41000000000000003,0.42,0.43,0.44,0.45,0.46,0.47000000000000003,0.48,0.49,0.5,0.51,0.52,0.53,0.54,0.55,0.56,0.5700000000000001,0.58,0.59,0.6,0.61,0.62,0.63,0.64,0.65,0.66,0.67,0.68,0.6900000000000001,0.7000000000000001,0.71,0.72,0.73,0.74,0.75,0.76,0.77,0.78,0.79,0.8,0.81,0.8200000000000001,0.8300000000000001,0.84,0.85,0.86,0.87,0.88,0.89,0.9,0.91,0.92,0.93,0.9400000000000001,0.9500000000000001,0.96,0.97,0.98,0.99],\"y\":[1.0,1.00343785031,1.02357063342,1.00876168495,1.00054701377,0.987050771286,0.952361249282,0.975718455288,0.966718892113,0.984961314106,1.0103927176,1.0128123994,1.02956261368,1.01672825772,1.01446148498,1.03564806281,1.04132763081,1.04729599457,1.0794368369,1.09829122641,1.10787652515,1.10716362956,1.13565809948,1.14779631186,1.15378276822,1.15926231642,1.1454825156,1.15551341199,1.15968605089,1.18262854307,1.21969546908,1.24367102731,1.24385997524,1.19750946982,1.22421891378,1.25713357151,1.25789365287,1.28832454161,1.29463716262,1.31861480732,1.33049967179,1.42006121744,1.45057350667,1.4546375584,1.43954981136,1.47122053084,1.46565420295,1.46496511685,1.43416126466,1.44724023851,1.50490304869,1.5461578209,1.56965215546,1.56460838576,1.59985583946,1.66929079191,1.68798566255,1.67263445706,1.69381232672,1.66287983881,1.65758716316,1.69977455944,1.67360882457,1.68128329374,1.71845459764,1.67215308135,1.7059432357,1.72244133259,1.67447237072,1.68006164165,1.65580705805,1.66089304427,1.63503415136,1.6652914285,1.70746067928,1.7216751719,1.7288505704,1.66548854223,1.69900518034,1.69069402525,1.69439174324,1.70862404609,1.74652193839,1.75081913066,1.73492570181,1.7770122295,1.72277808279,1.67255389734,1.68147065588,1.64892718621,1.68882999805,1.6935730846,1.7322204176,1.7129463906,1.73296459514,1.72110445114,1.70560913074,1.66486382338,1.68456649038,1.70329552779],\"type\":\"scatter\"},{\"mode\":\"lines\",\"name\":\"poly2_integration_CASE5\",\"x\":[0.0,0.01,0.02,0.03,0.04,0.05,0.06,0.07,0.08,0.09,0.1,0.11,0.12,0.13,0.14,0.15,0.16,0.17,0.18,0.19,0.2,0.21,0.22,0.23,0.24,0.25,0.26,0.27,0.28,0.29,0.3,0.31,0.32,0.33,0.34,0.35000000000000003,0.36,0.37,0.38,0.39,0.4,0.41000000000000003,0.42,0.43,0.44,0.45,0.46,0.47000000000000003,0.48,0.49,0.5,0.51,0.52,0.53,0.54,0.55,0.56,0.5700000000000001,0.58,0.59,0.6,0.61,0.62,0.63,0.64,0.65,0.66,0.67,0.68,0.6900000000000001,0.7000000000000001,0.71,0.72,0.73,0.74,0.75,0.76,0.77,0.78,0.79,0.8,0.81,0.8200000000000001,0.8300000000000001,0.84,0.85,0.86,0.87,0.88,0.89,0.9,0.91,0.92,0.93,0.9400000000000001,0.9500000000000001,0.96,0.97,0.98,0.99],\"y\":[0.3,0.286901585928,0.312635810512,0.258953997521,0.22120238569,0.174751736626,0.0968680009338,0.115470679327,0.0840776700198,0.0935660923499,0.116590375709,0.10229317048,0.110869754293,0.0764616498914,0.059396877593,0.0689916162457,0.061122713115,0.0545416147841,0.0792297402335,0.0891386780353,0.0879042150532,0.0734073253392,0.0960497670601,0.0993479905304,0.0936280708013,0.0880914428863,0.0576163278251,0.0553500476792,0.0479580187102,0.0588862989591,0.0905808449262,0.111604569883,0.100190580024,0.0367402480192,0.0504304403719,0.0732138060764,0.0623064506943,0.0867532398087,0.0827754995676,0.103196094926,0.108658090478,0.241089570328,0.288121063442,0.287631866866,0.250867731587,0.301318424761,0.283000459038,0.273393220145,0.210066650834,0.223905408881,0.321498190881,0.394812768414,0.435688038941,0.420391692599,0.484790383197,0.616036356787,0.648587586323,0.618209212181,0.655171043799,0.595222741556,0.582546708819,0.65929230428,0.608732265176,0.620939235405,0.687198417542,0.600250898352,0.661238588281,0.689616874989,0.600209239558,0.608098302722,0.559550883049,0.566668977236,0.51311176155,0.568694228555,0.645720517243,0.670227881781,0.682280622785,0.563058775239,0.624422660839,0.607261340421,0.612179549261,0.636788818378,0.703684751044,0.710753882553,0.682875608796,0.754010454852,0.66069654164,0.565292365877,0.58031547115,0.515170432661,0.589142701337,0.596039303126,0.666309263405,0.629773324455,0.665360389632,0.642677099978,0.613072438092,0.533660949472,0.569307705464,0.602284498228],\"type\":\"scatter\"},{\"mode\":\"lines\",\"name\":\"Case1:y_0/(1-Wt)\",\"x\":[0.0,0.01,0.02,0.03,0.04,0.05,0.06,0.07,0.08,0.09,0.1,0.11,0.12,0.13,0.14,0.15,0.16,0.17,0.18,0.19,0.2,0.21,0.22,0.23,0.24,0.25,0.26,0.27,0.28,0.29,0.3,0.31,0.32,0.33,0.34,0.35000000000000003,0.36,0.37,0.38,0.39,0.4,0.41000000000000003,0.42,0.43,0.44,0.45,0.46,0.47000000000000003,0.48,0.49,0.5,0.51,0.52,0.53,0.54,0.55,0.56,0.5700000000000001,0.58,0.59,0.6,0.61,0.62,0.63,0.64,0.65,0.66,0.67,0.68,0.6900000000000001,0.7000000000000001,0.71,0.72,0.73,0.74,0.75,0.76,0.77,0.78,0.79,0.8,0.81,0.8200000000000001,0.8300000000000001,0.84,0.85,0.86,0.87,0.88,0.89,0.9,0.91,0.92,0.93,0.9400000000000001,0.9500000000000001,0.96,0.97,0.98,0.99],\"y\":[0.9963787881512098,0.968320271032964,1.0178777945340736,0.905791598842436,0.8340141312741354,0.7622353439832357,0.6494436751009443,0.6800420556474979,0.6375957699694333,0.6554916834162043,0.6926361300839892,0.6752820975905244,0.6938492635316662,0.6476321385592827,0.6253063409311908,0.6467091123221507,0.639856054736986,0.6342797612514204,0.6829272337708904,0.7040179555578436,0.7058395291728187,0.6858179466082996,0.7320481484670626,0.73826842932661,0.7314953197026827,0.7267770568248739,0.6751509624929511,0.6786833659427192,0.6725991160702478,0.70579819382212,0.782876951888686,0.8329437510616229,0.8106182340439704,0.677748350880865,0.7206113661229595,0.7848416531252943,0.7683964242087714,0.833870314467886,0.8324197143424106,0.8851995593115504,0.9003527560525761,1.3389537157242979,1.5464918516411448,1.5405769040799944,1.3736417497362532,1.62147585874604,1.5191150736902652,1.470056373582879,1.2152196882321153,1.2655167617422305,1.73430012439633,2.3265791559565154,2.845630031285096,2.5970337662421468,3.8771825473647907,-277.9071960711388,-13.963344180364887,-449.93707225099513,-13.63817376979633,16.308955274714283,10.994162883942153,-14.313805490925038,31.001547950505373,83.22289746385076,-8.378483067592247,14.741715391960884,-18.014917345625317,-9.451428062738678,11.534571839099383,13.110470058749815,5.497256173340559,5.7915018751535845,3.4901348487026342,5.489146272645586,32.00878613933645,-75.43833871048349,-30.79647515999408,4.489390523621475,9.490991212742143,6.701916386219834,7.050453090079427,10.116568006648889,-33.35083165870001,-26.59105368659257,37.28467065622911,-7.7230902756227575,12.146144104429881,3.505958549963879,3.79723775747739,2.4966088898055068,3.845789743332635,3.958875262710696,8.551189535288788,5.021836443876152,7.6220775134442205,5.415679559100346,3.870053765534533,2.3406919275731664,2.769193122507825,3.3833990712538],\"type\":\"scatter\"},{\"mode\":\"lines\",\"name\":\"Case2:y_0exp(1/2t + Wt)\",\"x\":[0.0,0.01,0.02,0.03,0.04,0.05,0.06,0.07,0.08,0.09,0.1,0.11,0.12,0.13,0.14,0.15,0.16,0.17,0.18,0.19,0.2,0.21,0.22,0.23,0.24,0.25,0.26,0.27,0.28,0.29,0.3,0.31,0.32,0.33,0.34,0.35000000000000003,0.36,0.37,0.38,0.39,0.4,0.41000000000000003,0.42,0.43,0.44,0.45,0.46,0.47000000000000003,0.48,0.49,0.5,0.51,0.52,0.53,0.54,0.55,0.56,0.5700000000000001,0.58,0.59,0.6,0.61,0.62,0.63,0.64,0.65,0.66,0.67,0.68,0.6900000000000001,0.7000000000000001,0.71,0.72,0.73,0.74,0.75,0.76,0.77,0.78,0.79,0.8,0.81,0.8200000000000001,0.8300000000000001,0.84,0.85,0.86,0.87,0.88,0.89,0.9,0.91,0.92,0.93,0.9400000000000001,0.9500000000000001,0.96,0.97,0.98,0.99],\"y\":[1.9927444473131648,1.9453288012090093,2.0558943769976192,1.8296788759894589,1.6721776003807491,1.501127380577834,1.2012561114056493,1.2938857375433481,1.1791046095960567,1.2368586420494647,1.3490325018678588,1.3064121783042728,1.3660344149011518,1.238697897942659,1.1781330554451002,1.2483927485241952,1.2340428787314452,1.2233045041367627,1.3755619431836807,1.4444503418712795,1.4570219084062286,1.4049957435382043,1.5482369234891387,1.5740096864930686,1.562183364167484,1.5561415849078137,1.4077560116900514,1.4257614606914015,1.4139362191515124,1.5239590564802366,1.760868650945275,1.9109221368245977,1.8580375442129455,1.4661989215085367,1.6087164482546439,1.8112275424290858,1.7713387319075522,1.9717469677505022,1.9774934833755755,2.1349824192427134,2.1868702238267623,3.1622866050468086,3.513182670576378,3.522037633697105,3.271194895272339,3.674529431176844,3.542629336759034,3.483024963945414,3.035119214821011,3.1517446144508545,3.921780309235453,4.564603197007273,4.96161431008327,4.8215357748365255,5.502639764947415,7.183203863524547,7.727328972271056,7.24542122065819,7.818328467029313,6.867713139882876,6.700551412676765,7.90906684914884,7.177066447026291,7.360524963001536,8.43593475043633,7.030884176224938,7.993723994014834,8.448182229853852,7.003788998246364,7.112631335619674,6.431695880221466,6.523952455695855,5.8510743858030105,6.527144044156623,7.628610803606339,8.01570738500789,8.212180090915085,6.394254133200987,7.226711614184318,6.951351685055884,7.037917553730224,7.383881354061418,8.44125876559296,8.548482772301549,8.055269765234819,9.465267330856253,7.69689134217767,6.314941426142693,6.48698495930482,5.683708166593682,6.574000589273123,6.65620953925699,7.661473943963543,7.092350722596206,7.628943388215028,7.268123526880402,6.785261528143584,5.7599170955581105,6.184407223115281,6.636511313495585],\"type\":\"scatter\"}],                        {\"template\":{\"data\":{\"histogram2dcontour\":[{\"type\":\"histogram2dcontour\",\"colorbar\":{\"outlinewidth\":0,\"ticks\":\"\"},\"colorscale\":[[0.0,\"#0d0887\"],[0.1111111111111111,\"#46039f\"],[0.2222222222222222,\"#7201a8\"],[0.3333333333333333,\"#9c179e\"],[0.4444444444444444,\"#bd3786\"],[0.5555555555555556,\"#d8576b\"],[0.6666666666666666,\"#ed7953\"],[0.7777777777777778,\"#fb9f3a\"],[0.8888888888888888,\"#fdca26\"],[1.0,\"#f0f921\"]]}],\"choropleth\":[{\"type\":\"choropleth\",\"colorbar\":{\"outlinewidth\":0,\"ticks\":\"\"}}],\"histogram2d\":[{\"type\":\"histogram2d\",\"colorbar\":{\"outlinewidth\":0,\"ticks\":\"\"},\"colorscale\":[[0.0,\"#0d0887\"],[0.1111111111111111,\"#46039f\"],[0.2222222222222222,\"#7201a8\"],[0.3333333333333333,\"#9c179e\"],[0.4444444444444444,\"#bd3786\"],[0.5555555555555556,\"#d8576b\"],[0.6666666666666666,\"#ed7953\"],[0.7777777777777778,\"#fb9f3a\"],[0.8888888888888888,\"#fdca26\"],[1.0,\"#f0f921\"]]}],\"heatmap\":[{\"type\":\"heatmap\",\"colorbar\":{\"outlinewidth\":0,\"ticks\":\"\"},\"colorscale\":[[0.0,\"#0d0887\"],[0.1111111111111111,\"#46039f\"],[0.2222222222222222,\"#7201a8\"],[0.3333333333333333,\"#9c179e\"],[0.4444444444444444,\"#bd3786\"],[0.5555555555555556,\"#d8576b\"],[0.6666666666666666,\"#ed7953\"],[0.7777777777777778,\"#fb9f3a\"],[0.8888888888888888,\"#fdca26\"],[1.0,\"#f0f921\"]]}],\"heatmapgl\":[{\"type\":\"heatmapgl\",\"colorbar\":{\"outlinewidth\":0,\"ticks\":\"\"},\"colorscale\":[[0.0,\"#0d0887\"],[0.1111111111111111,\"#46039f\"],[0.2222222222222222,\"#7201a8\"],[0.3333333333333333,\"#9c179e\"],[0.4444444444444444,\"#bd3786\"],[0.5555555555555556,\"#d8576b\"],[0.6666666666666666,\"#ed7953\"],[0.7777777777777778,\"#fb9f3a\"],[0.8888888888888888,\"#fdca26\"],[1.0,\"#f0f921\"]]}],\"contourcarpet\":[{\"type\":\"contourcarpet\",\"colorbar\":{\"outlinewidth\":0,\"ticks\":\"\"}}],\"contour\":[{\"type\":\"contour\",\"colorbar\":{\"outlinewidth\":0,\"ticks\":\"\"},\"colorscale\":[[0.0,\"#0d0887\"],[0.1111111111111111,\"#46039f\"],[0.2222222222222222,\"#7201a8\"],[0.3333333333333333,\"#9c179e\"],[0.4444444444444444,\"#bd3786\"],[0.5555555555555556,\"#d8576b\"],[0.6666666666666666,\"#ed7953\"],[0.7777777777777778,\"#fb9f3a\"],[0.8888888888888888,\"#fdca26\"],[1.0,\"#f0f921\"]]}],\"surface\":[{\"type\":\"surface\",\"colorbar\":{\"outlinewidth\":0,\"ticks\":\"\"},\"colorscale\":[[0.0,\"#0d0887\"],[0.1111111111111111,\"#46039f\"],[0.2222222222222222,\"#7201a8\"],[0.3333333333333333,\"#9c179e\"],[0.4444444444444444,\"#bd3786\"],[0.5555555555555556,\"#d8576b\"],[0.6666666666666666,\"#ed7953\"],[0.7777777777777778,\"#fb9f3a\"],[0.8888888888888888,\"#fdca26\"],[1.0,\"#f0f921\"]]}],\"mesh3d\":[{\"type\":\"mesh3d\",\"colorbar\":{\"outlinewidth\":0,\"ticks\":\"\"}}],\"scatter\":[{\"fillpattern\":{\"fillmode\":\"overlay\",\"size\":10,\"solidity\":0.2},\"type\":\"scatter\"}],\"parcoords\":[{\"type\":\"parcoords\",\"line\":{\"colorbar\":{\"outlinewidth\":0,\"ticks\":\"\"}}}],\"scatterpolargl\":[{\"type\":\"scatterpolargl\",\"marker\":{\"colorbar\":{\"outlinewidth\":0,\"ticks\":\"\"}}}],\"bar\":[{\"error_x\":{\"color\":\"#2a3f5f\"},\"error_y\":{\"color\":\"#2a3f5f\"},\"marker\":{\"line\":{\"color\":\"#E5ECF6\",\"width\":0.5},\"pattern\":{\"fillmode\":\"overlay\",\"size\":10,\"solidity\":0.2}},\"type\":\"bar\"}],\"scattergeo\":[{\"type\":\"scattergeo\",\"marker\":{\"colorbar\":{\"outlinewidth\":0,\"ticks\":\"\"}}}],\"scatterpolar\":[{\"type\":\"scatterpolar\",\"marker\":{\"colorbar\":{\"outlinewidth\":0,\"ticks\":\"\"}}}],\"histogram\":[{\"marker\":{\"pattern\":{\"fillmode\":\"overlay\",\"size\":10,\"solidity\":0.2}},\"type\":\"histogram\"}],\"scattergl\":[{\"type\":\"scattergl\",\"marker\":{\"colorbar\":{\"outlinewidth\":0,\"ticks\":\"\"}}}],\"scatter3d\":[{\"type\":\"scatter3d\",\"line\":{\"colorbar\":{\"outlinewidth\":0,\"ticks\":\"\"}},\"marker\":{\"colorbar\":{\"outlinewidth\":0,\"ticks\":\"\"}}}],\"scattermapbox\":[{\"type\":\"scattermapbox\",\"marker\":{\"colorbar\":{\"outlinewidth\":0,\"ticks\":\"\"}}}],\"scatterternary\":[{\"type\":\"scatterternary\",\"marker\":{\"colorbar\":{\"outlinewidth\":0,\"ticks\":\"\"}}}],\"scattercarpet\":[{\"type\":\"scattercarpet\",\"marker\":{\"colorbar\":{\"outlinewidth\":0,\"ticks\":\"\"}}}],\"carpet\":[{\"aaxis\":{\"endlinecolor\":\"#2a3f5f\",\"gridcolor\":\"white\",\"linecolor\":\"white\",\"minorgridcolor\":\"white\",\"startlinecolor\":\"#2a3f5f\"},\"baxis\":{\"endlinecolor\":\"#2a3f5f\",\"gridcolor\":\"white\",\"linecolor\":\"white\",\"minorgridcolor\":\"white\",\"startlinecolor\":\"#2a3f5f\"},\"type\":\"carpet\"}],\"table\":[{\"cells\":{\"fill\":{\"color\":\"#EBF0F8\"},\"line\":{\"color\":\"white\"}},\"header\":{\"fill\":{\"color\":\"#C8D4E3\"},\"line\":{\"color\":\"white\"}},\"type\":\"table\"}],\"barpolar\":[{\"marker\":{\"line\":{\"color\":\"#E5ECF6\",\"width\":0.5},\"pattern\":{\"fillmode\":\"overlay\",\"size\":10,\"solidity\":0.2}},\"type\":\"barpolar\"}],\"pie\":[{\"automargin\":true,\"type\":\"pie\"}]},\"layout\":{\"autotypenumbers\":\"strict\",\"colorway\":[\"#636efa\",\"#EF553B\",\"#00cc96\",\"#ab63fa\",\"#FFA15A\",\"#19d3f3\",\"#FF6692\",\"#B6E880\",\"#FF97FF\",\"#FECB52\"],\"font\":{\"color\":\"#2a3f5f\"},\"hovermode\":\"closest\",\"hoverlabel\":{\"align\":\"left\"},\"paper_bgcolor\":\"white\",\"plot_bgcolor\":\"#E5ECF6\",\"polar\":{\"bgcolor\":\"#E5ECF6\",\"angularaxis\":{\"gridcolor\":\"white\",\"linecolor\":\"white\",\"ticks\":\"\"},\"radialaxis\":{\"gridcolor\":\"white\",\"linecolor\":\"white\",\"ticks\":\"\"}},\"ternary\":{\"bgcolor\":\"#E5ECF6\",\"aaxis\":{\"gridcolor\":\"white\",\"linecolor\":\"white\",\"ticks\":\"\"},\"baxis\":{\"gridcolor\":\"white\",\"linecolor\":\"white\",\"ticks\":\"\"},\"caxis\":{\"gridcolor\":\"white\",\"linecolor\":\"white\",\"ticks\":\"\"}},\"coloraxis\":{\"colorbar\":{\"outlinewidth\":0,\"ticks\":\"\"}},\"colorscale\":{\"sequential\":[[0.0,\"#0d0887\"],[0.1111111111111111,\"#46039f\"],[0.2222222222222222,\"#7201a8\"],[0.3333333333333333,\"#9c179e\"],[0.4444444444444444,\"#bd3786\"],[0.5555555555555556,\"#d8576b\"],[0.6666666666666666,\"#ed7953\"],[0.7777777777777778,\"#fb9f3a\"],[0.8888888888888888,\"#fdca26\"],[1.0,\"#f0f921\"]],\"sequentialminus\":[[0.0,\"#0d0887\"],[0.1111111111111111,\"#46039f\"],[0.2222222222222222,\"#7201a8\"],[0.3333333333333333,\"#9c179e\"],[0.4444444444444444,\"#bd3786\"],[0.5555555555555556,\"#d8576b\"],[0.6666666666666666,\"#ed7953\"],[0.7777777777777778,\"#fb9f3a\"],[0.8888888888888888,\"#fdca26\"],[1.0,\"#f0f921\"]],\"diverging\":[[0,\"#8e0152\"],[0.1,\"#c51b7d\"],[0.2,\"#de77ae\"],[0.3,\"#f1b6da\"],[0.4,\"#fde0ef\"],[0.5,\"#f7f7f7\"],[0.6,\"#e6f5d0\"],[0.7,\"#b8e186\"],[0.8,\"#7fbc41\"],[0.9,\"#4d9221\"],[1,\"#276419\"]]},\"xaxis\":{\"gridcolor\":\"white\",\"linecolor\":\"white\",\"ticks\":\"\",\"title\":{\"standoff\":15},\"zerolinecolor\":\"white\",\"automargin\":true,\"zerolinewidth\":2},\"yaxis\":{\"gridcolor\":\"white\",\"linecolor\":\"white\",\"ticks\":\"\",\"title\":{\"standoff\":15},\"zerolinecolor\":\"white\",\"automargin\":true,\"zerolinewidth\":2},\"scene\":{\"xaxis\":{\"backgroundcolor\":\"#E5ECF6\",\"gridcolor\":\"white\",\"linecolor\":\"white\",\"showbackground\":true,\"ticks\":\"\",\"zerolinecolor\":\"white\",\"gridwidth\":2},\"yaxis\":{\"backgroundcolor\":\"#E5ECF6\",\"gridcolor\":\"white\",\"linecolor\":\"white\",\"showbackground\":true,\"ticks\":\"\",\"zerolinecolor\":\"white\",\"gridwidth\":2},\"zaxis\":{\"backgroundcolor\":\"#E5ECF6\",\"gridcolor\":\"white\",\"linecolor\":\"white\",\"showbackground\":true,\"ticks\":\"\",\"zerolinecolor\":\"white\",\"gridwidth\":2}},\"shapedefaults\":{\"line\":{\"color\":\"#2a3f5f\"}},\"annotationdefaults\":{\"arrowcolor\":\"#2a3f5f\",\"arrowhead\":0,\"arrowwidth\":1},\"geo\":{\"bgcolor\":\"white\",\"landcolor\":\"#E5ECF6\",\"subunitcolor\":\"white\",\"showland\":true,\"showlakes\":true,\"lakecolor\":\"white\"},\"title\":{\"x\":0.05},\"mapbox\":{\"style\":\"light\"}}},\"title\":{\"text\":\"Closed forms, Numerical simulations\"}},                        {\"responsive\": true}                    ).then(function(){\n",
       "                            \n",
       "var gd = document.getElementById('8820f52e-6eb1-4e25-883f-e67b0fb4bc60');\n",
       "var x = new MutationObserver(function (mutations, observer) {{\n",
       "        var display = window.getComputedStyle(gd).display;\n",
       "        if (!display || display === 'none') {{\n",
       "            console.log([gd, 'removed!']);\n",
       "            Plotly.purge(gd);\n",
       "            observer.disconnect();\n",
       "        }}\n",
       "}});\n",
       "\n",
       "// Listen for the removal of the full notebook cells\n",
       "var notebookContainer = gd.closest('#notebook-container');\n",
       "if (notebookContainer) {{\n",
       "    x.observe(notebookContainer, {childList: true});\n",
       "}}\n",
       "\n",
       "// Listen for the clearing of the current output cell\n",
       "var outputEl = gd.closest('.output');\n",
       "if (outputEl) {{\n",
       "    x.observe(outputEl, {childList: true});\n",
       "}}\n",
       "\n",
       "                        })                };                });            </script>        </div>"
      ]
     },
     "metadata": {},
     "output_type": "display_data"
    }
   ],
   "source": [
    "\"\"\"\n",
    "Different SDEs for which we know closed form solutions.\n",
    "Case1: \n",
    "dy_t = y_t^2 dW_t, y_0 = 1\n",
    "=> y_t = 1/(1-W_t)\n",
    "\n",
    "Case2 (GBM):\n",
    "dy_t = y_tdt + y_t dW_t, y_0 = 2\n",
    "=> y_t = 2exp(1/2t + W_t)\n",
    "\n",
    "\n",
    "Case3:\n",
    "dy_t = sin(y_t) dW_t, y_0 = PI/2\n",
    "=> y_t = 2exp(1/2t + W_t)\n",
    "\n",
    "Case4 (CIR Process):\n",
    "dy_t = (1.2-y_t) + 0.2sqrt(y_t)dW_t, y_0 = 1.\n",
    "\n",
    "Case4:\n",
    "A modified Wright-Fishcer Model\n",
    "dy_t = y_t(1-y_t)dt + sqrt(y_t(1-y_t))dW_t, y_0 € ]0,1[, y_0 = 0.3\n",
    "\"\"\"\n",
    "fig = go.Figure()\n",
    "for path_name in ['poly2_integration_CASE1','poly2_integration_CASE2', 'poly5_integration_CASE2',\n",
    "                'poly2_integration_CASE3', 'poly2_integration_CASE4', 'poly2_integration_CASE5']:\n",
    "    path = paths_dic[path_name]\n",
    "    fig.add_trace(go.Scatter(x=grid, y=np.array(list(map(f_map(path, 1), grid))),\n",
    "                    mode='lines',\n",
    "                    name=path_name))\n",
    "#Case1\n",
    "f = (lambda w : 1/(1-w))\n",
    "fig.add_trace(go.Scatter(x=grid, y=f(np.array(list(map(f_map(paths_dic['BROWNIAN'], 1), grid)))),\n",
    "                        mode='lines',\n",
    "                        name='Case1:y_0/(1-Wt)'))    \n",
    "#Case2\n",
    "f = (lambda t, w : 2*np.exp(0.5*t + w))\n",
    "fig.add_trace(go.Scatter(x=grid, y = f(grid, np.array(list(map(f_map(paths_dic['BROWNIAN'], 1), grid)))),\n",
    "                        mode='lines',\n",
    "                        name='Case2:y_0exp(1/2t + Wt)'))\n",
    "fig.update_layout(title=\"Closed forms, Numerical simulations\")\n",
    "\n",
    "fig.show()"
   ]
  },
  {
   "cell_type": "code",
   "execution_count": 262,
   "id": "e542817c",
   "metadata": {},
   "outputs": [
    {
     "data": {
      "application/vnd.plotly.v1+json": {
       "config": {
        "plotlyServerURL": "https://plot.ly"
       },
       "data": [
        {
         "mode": "lines",
         "name": "IGBM_Parabola",
         "type": "scatter",
         "x": [
          0,
          0.01,
          0.02,
          0.03,
          0.04,
          0.05,
          0.06,
          0.07,
          0.08,
          0.09,
          0.1,
          0.11,
          0.12,
          0.13,
          0.14,
          0.15,
          0.16,
          0.17,
          0.18,
          0.19,
          0.2,
          0.21,
          0.22,
          0.23,
          0.24,
          0.25,
          0.26,
          0.27,
          0.28,
          0.29,
          0.3,
          0.31,
          0.32,
          0.33,
          0.34,
          0.35000000000000003,
          0.36,
          0.37,
          0.38,
          0.39,
          0.4,
          0.41000000000000003,
          0.42,
          0.43,
          0.44,
          0.45,
          0.46,
          0.47000000000000003,
          0.48,
          0.49,
          0.5,
          0.51,
          0.52,
          0.53,
          0.54,
          0.55,
          0.56,
          0.5700000000000001,
          0.58,
          0.59,
          0.6,
          0.61,
          0.62,
          0.63,
          0.64,
          0.65,
          0.66,
          0.67,
          0.68,
          0.6900000000000001,
          0.7000000000000001,
          0.71,
          0.72,
          0.73,
          0.74,
          0.75,
          0.76,
          0.77,
          0.78,
          0.79,
          0.8,
          0.81,
          0.8200000000000001,
          0.8300000000000001,
          0.84,
          0.85,
          0.86,
          0.87,
          0.88,
          0.89,
          0.9,
          0.91,
          0.92,
          0.93,
          0.9400000000000001,
          0.9500000000000001,
          0.96,
          0.97,
          0.98,
          0.99
         ],
         "y": [
          0.06,
          0.0587902733937,
          0.0605843249293,
          0.0562532523553,
          0.0532364809753,
          0.0495651777479,
          0.0432037719709,
          0.0449339592583,
          0.042351462043,
          0.0433787306956,
          0.0454289664964,
          0.0443953819227,
          0.0452964601783,
          0.0423421953947,
          0.0408391907134,
          0.0422246758312,
          0.0417233929447,
          0.0412807096921,
          0.0440941238924,
          0.0453186677773,
          0.0453770175621,
          0.0441304291079,
          0.0466330337566,
          0.0470772888045,
          0.0467186157843,
          0.046315041426,
          0.0434940748829,
          0.0436589408925,
          0.0431310648352,
          0.0448946720053,
          0.0485850445637,
          0.0507482237946,
          0.049722644349,
          0.0429011385467,
          0.0451422649951,
          0.0482932821028,
          0.0474076816173,
          0.0503899848398,
          0.0502468594564,
          0.0525182211141,
          0.0531881485331,
          0.0657672807426,
          0.0699206925341,
          0.0696149585131,
          0.0660554340447,
          0.0704437765292,
          0.0685088419746,
          0.067423372372,
          0.0615322579885,
          0.0626402584161,
          0.0712345986267,
          0.0777593260054,
          0.0813249117242,
          0.0794349742532,
          0.085441685876,
          0.099582646654,
          0.103081415226,
          0.0986322113386,
          0.102685192085,
          0.0947562813273,
          0.0927489701803,
          0.101381867408,
          0.0946236401031,
          0.0954855070714,
          0.103167701273,
          0.0919550404092,
          0.0985873622904,
          0.101588714278,
          0.090229308047,
          0.0906016747003,
          0.0848868902624,
          0.0851232506641,
          0.0793784266272,
          0.0844021731332,
          0.0922517317937,
          0.0945664243232,
          0.0954143061268,
          0.0817889276662,
          0.087635842768,
          0.0852747913089,
          0.0852930666963,
          0.0874188756596,
          0.0946128769995,
          0.094876275168,
          0.0908717001524,
          0.0992775429567,
          0.0871801269436,
          0.0770324974897,
          0.0779766250257,
          0.071663344992,
          0.0779310291086,
          0.0781388963817,
          0.0847317133534,
          0.0804617760978,
          0.0836060061853,
          0.0807654286084,
          0.0773578306868,
          0.0698268482154,
          0.0724713651231,
          0.075041631653
         ]
        },
        {
         "mode": "lines",
         "name": "IGBM_Log_ODE",
         "type": "scatter",
         "x": [
          0,
          0.01,
          0.02,
          0.03,
          0.04,
          0.05,
          0.06,
          0.07,
          0.08,
          0.09,
          0.1,
          0.11,
          0.12,
          0.13,
          0.14,
          0.15,
          0.16,
          0.17,
          0.18,
          0.19,
          0.2,
          0.21,
          0.22,
          0.23,
          0.24,
          0.25,
          0.26,
          0.27,
          0.28,
          0.29,
          0.3,
          0.31,
          0.32,
          0.33,
          0.34,
          0.35000000000000003,
          0.36,
          0.37,
          0.38,
          0.39,
          0.4,
          0.41000000000000003,
          0.42,
          0.43,
          0.44,
          0.45,
          0.46,
          0.47000000000000003,
          0.48,
          0.49,
          0.5,
          0.51,
          0.52,
          0.53,
          0.54,
          0.55,
          0.56,
          0.5700000000000001,
          0.58,
          0.59,
          0.6,
          0.61,
          0.62,
          0.63,
          0.64,
          0.65,
          0.66,
          0.67,
          0.68,
          0.6900000000000001,
          0.7000000000000001,
          0.71,
          0.72,
          0.73,
          0.74,
          0.75,
          0.76,
          0.77,
          0.78,
          0.79,
          0.8,
          0.81,
          0.8200000000000001,
          0.8300000000000001,
          0.84,
          0.85,
          0.86,
          0.87,
          0.88,
          0.89,
          0.9,
          0.91,
          0.92,
          0.93,
          0.9400000000000001,
          0.9500000000000001,
          0.96,
          0.97,
          0.98,
          0.99
         ],
         "y": [
          0.06,
          0.0587890775664,
          0.0605841387869,
          0.0562512088577,
          0.0532329075287,
          0.0495614493725,
          0.0432017202893,
          0.0449310050882,
          0.0423475769827,
          0.0433749274685,
          0.0454281083647,
          0.0443911630877,
          0.0452905674995,
          0.0423366697025,
          0.0408365512419,
          0.0422201045337,
          0.0417190772367,
          0.04127900138,
          0.044093237567,
          0.0453160302972,
          0.045374572983,
          0.0441291824679,
          0.0466296411163,
          0.0470743695034,
          0.0467146184561,
          0.0463124594298,
          0.0434900990458,
          0.0436546066998,
          0.0431289146906,
          0.0448918981339,
          0.0485817025313,
          0.0507469149013,
          0.0497223762477,
          0.0429014149853,
          0.0451444882744,
          0.0482938718295,
          0.0474075712469,
          0.0503909499555,
          0.0502461625504,
          0.0525202218387,
          0.0531907787812,
          0.0657702008557,
          0.0699227196948,
          0.0696186776607,
          0.0660573642622,
          0.0704470721272,
          0.0685132118921,
          0.0674270536708,
          0.0615352647704,
          0.0626439860807,
          0.0712402969409,
          0.0777656729075,
          0.0813330191487,
          0.0794437514657,
          0.085449630938,
          0.0995916648044,
          0.10308949486,
          0.0986408664051,
          0.102691804839,
          0.094761641694,
          0.092754777562,
          0.101387899314,
          0.0946280342265,
          0.0954896333248,
          0.103172213518,
          0.0919571288127,
          0.0985905028275,
          0.101591761884,
          0.0902323894961,
          0.0906019530601,
          0.0848886591618,
          0.0851260434751,
          0.0793798172942,
          0.0844039835422,
          0.0922526636236,
          0.094567008825,
          0.0954158371913,
          0.0817903126464,
          0.0876381792915,
          0.0852781357932,
          0.0852955818471,
          0.0874202654457,
          0.0946147477657,
          0.0948777020831,
          0.0908743481088,
          0.0992796412179,
          0.0871813721035,
          0.0770339294984,
          0.0779805652716,
          0.071669025542,
          0.0779366805755,
          0.0781441806223,
          0.084740545702,
          0.0804675946819,
          0.0836136659452,
          0.0807711558678,
          0.0773656484159,
          0.0698359648336,
          0.0724830709404,
          0.0750506684552
         ]
        },
        {
         "mode": "lines",
         "name": "polyparabola_integration_IGBM",
         "type": "scatter",
         "x": [
          0,
          0.01,
          0.02,
          0.03,
          0.04,
          0.05,
          0.06,
          0.07,
          0.08,
          0.09,
          0.1,
          0.11,
          0.12,
          0.13,
          0.14,
          0.15,
          0.16,
          0.17,
          0.18,
          0.19,
          0.2,
          0.21,
          0.22,
          0.23,
          0.24,
          0.25,
          0.26,
          0.27,
          0.28,
          0.29,
          0.3,
          0.31,
          0.32,
          0.33,
          0.34,
          0.35000000000000003,
          0.36,
          0.37,
          0.38,
          0.39,
          0.4,
          0.41000000000000003,
          0.42,
          0.43,
          0.44,
          0.45,
          0.46,
          0.47000000000000003,
          0.48,
          0.49,
          0.5,
          0.51,
          0.52,
          0.53,
          0.54,
          0.55,
          0.56,
          0.5700000000000001,
          0.58,
          0.59,
          0.6,
          0.61,
          0.62,
          0.63,
          0.64,
          0.65,
          0.66,
          0.67,
          0.68,
          0.6900000000000001,
          0.7000000000000001,
          0.71,
          0.72,
          0.73,
          0.74,
          0.75,
          0.76,
          0.77,
          0.78,
          0.79,
          0.8,
          0.81,
          0.8200000000000001,
          0.8300000000000001,
          0.84,
          0.85,
          0.86,
          0.87,
          0.88,
          0.89,
          0.9,
          0.91,
          0.92,
          0.93,
          0.9400000000000001,
          0.9500000000000001,
          0.96,
          0.97,
          0.98,
          0.99
         ],
         "y": [
          0.06,
          0.0587943287717,
          0.0605847954991,
          0.0562596736882,
          0.0532474416863,
          0.0495764093935,
          0.0432101461636,
          0.0449424250262,
          0.0423618278293,
          0.0433889523539,
          0.0454319585405,
          0.0444058204112,
          0.0453107597499,
          0.0423555185616,
          0.0408460393031,
          0.0422355057954,
          0.0417336671789,
          0.0412852153867,
          0.0440967503809,
          0.0453252977999,
          0.0453831944097,
          0.0441337129848,
          0.0466412476143,
          0.047084308377,
          0.0467283093949,
          0.0463211425633,
          0.0435032972007,
          0.0436689823095,
          0.0431360019284,
          0.0449010051137,
          0.0485926018736,
          0.0507499231879,
          0.0497214593998,
          0.0428984067885,
          0.045134749778,
          0.0482894804204,
          0.0474057190443,
          0.0503848807617,
          0.0502462562646,
          0.0525094214634,
          0.053177440661,
          0.0657536964381,
          0.0699104637052,
          0.0695974099419,
          0.0660450787307,
          0.0704274201003,
          0.068487940464,
          0.0674053280669,
          0.0615169027015,
          0.0626221736334,
          0.0712074869695,
          0.0777288669962,
          0.0812855468349,
          0.079392159475,
          0.085402996719,
          0.0995378187277,
          0.103043104234,
          0.0985893453033,
          0.1026556619,
          0.0947334502879,
          0.0927232214518,
          0.101355307983,
          0.0946063517687,
          0.0954699598402,
          0.103150263324,
          0.0919507469627,
          0.0985769342595,
          0.101579169767,
          0.0902179079359,
          0.0906058532738,
          0.0848820543267,
          0.0851128656577,
          0.0793747263734,
          0.0843963847354,
          0.092250848042,
          0.0945677274277,
          0.0954098011668,
          0.0817837265632,
          0.0876254644955,
          0.0852587241382,
          0.0852814438138,
          0.0874133507557,
          0.0946044760294,
          0.0948706016368,
          0.0908584287637,
          0.0992674830922,
          0.0871741325376,
          0.0770249311077,
          0.0779565538716,
          0.0716348853293,
          0.077902224203,
          0.0781118817618,
          0.0846856424434,
          0.0804307522141,
          0.0835652265853,
          0.0807344238042,
          0.077316195599,
          0.069779342443,
          0.0724119862016,
          0.0749934362059
         ]
        },
        {
         "mode": "lines",
         "name": "poly1_integration_IGBM",
         "type": "scatter",
         "x": [
          0,
          0.01,
          0.02,
          0.03,
          0.04,
          0.05,
          0.06,
          0.07,
          0.08,
          0.09,
          0.1,
          0.11,
          0.12,
          0.13,
          0.14,
          0.15,
          0.16,
          0.17,
          0.18,
          0.19,
          0.2,
          0.21,
          0.22,
          0.23,
          0.24,
          0.25,
          0.26,
          0.27,
          0.28,
          0.29,
          0.3,
          0.31,
          0.32,
          0.33,
          0.34,
          0.35000000000000003,
          0.36,
          0.37,
          0.38,
          0.39,
          0.4,
          0.41000000000000003,
          0.42,
          0.43,
          0.44,
          0.45,
          0.46,
          0.47000000000000003,
          0.48,
          0.49,
          0.5,
          0.51,
          0.52,
          0.53,
          0.54,
          0.55,
          0.56,
          0.5700000000000001,
          0.58,
          0.59,
          0.6,
          0.61,
          0.62,
          0.63,
          0.64,
          0.65,
          0.66,
          0.67,
          0.68,
          0.6900000000000001,
          0.7000000000000001,
          0.71,
          0.72,
          0.73,
          0.74,
          0.75,
          0.76,
          0.77,
          0.78,
          0.79,
          0.8,
          0.81,
          0.8200000000000001,
          0.8300000000000001,
          0.84,
          0.85,
          0.86,
          0.87,
          0.88,
          0.89,
          0.9,
          0.91,
          0.92,
          0.93,
          0.9400000000000001,
          0.9500000000000001,
          0.96,
          0.97,
          0.98,
          0.99
         ],
         "y": [
          0.06,
          0.0587848292004,
          0.0605832890311,
          0.0562435936901,
          0.0532202588569,
          0.0495480961277,
          0.0431924435294,
          0.0449192457102,
          0.0423338529635,
          0.0433611012791,
          0.0454203060493,
          0.0443749312974,
          0.0452700847465,
          0.0423173736575,
          0.0408231965569,
          0.0422021744745,
          0.0417017787125,
          0.041267017178,
          0.0440823411387,
          0.0453004087664,
          0.0453593914837,
          0.0441169717798,
          0.0466115017636,
          0.0470572873549,
          0.0466948236481,
          0.0462961145839,
          0.0434708728981,
          0.0436344656597,
          0.0431134370681,
          0.0448742735368,
          0.0485616201256,
          0.0507316063248,
          0.049710054553,
          0.0428914431112,
          0.0451381812471,
          0.0482823566189,
          0.0473942345685,
          0.0503794761785,
          0.0502299413061,
          0.0525106243404,
          0.0531827611023,
          0.0657575069203,
          0.0699041328412,
          0.0696071303988,
          0.0660396021136,
          0.0704329749695,
          0.0685039677487,
          0.0674153196071,
          0.061522897795,
          0.062633759516,
          0.0712337479678,
          0.0777587544809,
          0.0813326709561,
          0.0794474940366,
          0.0854454713255,
          0.0995841778732,
          0.103073079891,
          0.0986309057926,
          0.102664929498,
          0.094731550274,
          0.0927286442369,
          0.101356824122,
          0.0945908012967,
          0.0954501418868,
          0.103129563768,
          0.0919056551333,
          0.0985405427989,
          0.101537929058,
          0.0901860819055,
          0.0905385129303,
          0.0848372153573,
          0.0850797924764,
          0.0793300775076,
          0.0843526141524,
          0.092189794265,
          0.0945002300559,
          0.0953537676503,
          0.0817365219681,
          0.0875848344983,
          0.0852319667245,
          0.085244769052,
          0.0873615459035,
          0.0945529582798,
          0.0948129136819,
          0.0908196897342,
          0.0992146312273,
          0.0871192809832,
          0.0769801604439,
          0.0779376633062,
          0.0716384842805,
          0.0779007710204,
          0.0781057949844,
          0.0847136280813,
          0.0804278859817,
          0.0835804190299,
          0.0807298368505,
          0.0773365946452,
          0.0698183017026,
          0.0724738080222,
          0.075026360901
         ]
        },
        {
         "mode": "lines",
         "name": "poly2_integration_IGBM",
         "type": "scatter",
         "x": [
          0,
          0.01,
          0.02,
          0.03,
          0.04,
          0.05,
          0.06,
          0.07,
          0.08,
          0.09,
          0.1,
          0.11,
          0.12,
          0.13,
          0.14,
          0.15,
          0.16,
          0.17,
          0.18,
          0.19,
          0.2,
          0.21,
          0.22,
          0.23,
          0.24,
          0.25,
          0.26,
          0.27,
          0.28,
          0.29,
          0.3,
          0.31,
          0.32,
          0.33,
          0.34,
          0.35000000000000003,
          0.36,
          0.37,
          0.38,
          0.39,
          0.4,
          0.41000000000000003,
          0.42,
          0.43,
          0.44,
          0.45,
          0.46,
          0.47000000000000003,
          0.48,
          0.49,
          0.5,
          0.51,
          0.52,
          0.53,
          0.54,
          0.55,
          0.56,
          0.5700000000000001,
          0.58,
          0.59,
          0.6,
          0.61,
          0.62,
          0.63,
          0.64,
          0.65,
          0.66,
          0.67,
          0.68,
          0.6900000000000001,
          0.7000000000000001,
          0.71,
          0.72,
          0.73,
          0.74,
          0.75,
          0.76,
          0.77,
          0.78,
          0.79,
          0.8,
          0.81,
          0.8200000000000001,
          0.8300000000000001,
          0.84,
          0.85,
          0.86,
          0.87,
          0.88,
          0.89,
          0.9,
          0.91,
          0.92,
          0.93,
          0.9400000000000001,
          0.9500000000000001,
          0.96,
          0.97,
          0.98,
          0.99
         ],
         "y": [
          0.06,
          0.0587848307291,
          0.0605832921267,
          0.0562437240886,
          0.0532204902264,
          0.0495485877296,
          0.0431929715207,
          0.0449199445208,
          0.0423345120647,
          0.0433619119397,
          0.0454212978318,
          0.0443759954648,
          0.0452712163709,
          0.0423184303427,
          0.0408243311377,
          0.0422034169441,
          0.0417030061133,
          0.0412682420054,
          0.0440836737187,
          0.0453019928406,
          0.04536097749,
          0.0441185416931,
          0.046613159895,
          0.0470589793415,
          0.046696511564,
          0.0462978485004,
          0.0434725069172,
          0.0436361568994,
          0.043115293993,
          0.0448764356901,
          0.0485639582569,
          0.0507340485404,
          0.0497125050162,
          0.0428936510852,
          0.0451405493374,
          0.0482849360307,
          0.0473969758377,
          0.0503824217797,
          0.0502329174379,
          0.0525137515685,
          0.0531859851785,
          0.0657616570324,
          0.0699090274406,
          0.0696120402592,
          0.0660442604606,
          0.0704379420871,
          0.0685091059386,
          0.0674204285256,
          0.0615275831931,
          0.0626385595119,
          0.0712392603705,
          0.0777648199653,
          0.0813391755209,
          0.0794539881101,
          0.0854524997871,
          0.0995924155803,
          0.103081772537,
          0.0986393447509,
          0.102673902066,
          0.0947399947683,
          0.0927369065136,
          0.101365975229,
          0.0945993415596,
          0.0954587709545,
          0.103138906843,
          0.0919142654508,
          0.0985497709064,
          0.101548508133,
          0.0901956130219,
          0.0905480789522,
          0.084846200509,
          0.0850888525991,
          0.079338546911,
          0.0843616401206,
          0.0922000604798,
          0.0945108152199,
          0.0953648111169,
          0.0817459848715,
          0.0875949787607,
          0.0852418338402,
          0.0852547347541,
          0.0873717567697,
          0.0945640765827,
          0.0948241237496,
          0.0908304249711,
          0.0992263568621,
          0.0871302210617,
          0.0769898224459,
          0.0779474429161,
          0.071647490627,
          0.0779105594311,
          0.0781161240069,
          0.0847249652211,
          0.0804388287007,
          0.0835918319799,
          0.0807411612971,
          0.0773479197019,
          0.0698285689605,
          0.0724847466804,
          0.0750377490157
         ]
        },
        {
         "mode": "lines",
         "name": "poly3_integration_IGBM",
         "type": "scatter",
         "x": [
          0,
          0.01,
          0.02,
          0.03,
          0.04,
          0.05,
          0.06,
          0.07,
          0.08,
          0.09,
          0.1,
          0.11,
          0.12,
          0.13,
          0.14,
          0.15,
          0.16,
          0.17,
          0.18,
          0.19,
          0.2,
          0.21,
          0.22,
          0.23,
          0.24,
          0.25,
          0.26,
          0.27,
          0.28,
          0.29,
          0.3,
          0.31,
          0.32,
          0.33,
          0.34,
          0.35000000000000003,
          0.36,
          0.37,
          0.38,
          0.39,
          0.4,
          0.41000000000000003,
          0.42,
          0.43,
          0.44,
          0.45,
          0.46,
          0.47000000000000003,
          0.48,
          0.49,
          0.5,
          0.51,
          0.52,
          0.53,
          0.54,
          0.55,
          0.56,
          0.5700000000000001,
          0.58,
          0.59,
          0.6,
          0.61,
          0.62,
          0.63,
          0.64,
          0.65,
          0.66,
          0.67,
          0.68,
          0.6900000000000001,
          0.7000000000000001,
          0.71,
          0.72,
          0.73,
          0.74,
          0.75,
          0.76,
          0.77,
          0.78,
          0.79,
          0.8,
          0.81,
          0.8200000000000001,
          0.8300000000000001,
          0.84,
          0.85,
          0.86,
          0.87,
          0.88,
          0.89,
          0.9,
          0.91,
          0.92,
          0.93,
          0.9400000000000001,
          0.9500000000000001,
          0.96,
          0.97,
          0.98,
          0.99
         ],
         "y": [
          0.06,
          0.0587848292004,
          0.0605832890311,
          0.0562435936901,
          0.0532202588569,
          0.0495480961277,
          0.0431924435294,
          0.0449192457102,
          0.0423338529635,
          0.0433611012791,
          0.0454203060493,
          0.0443749312974,
          0.0452700847465,
          0.0423173736575,
          0.0408231965569,
          0.0422021744745,
          0.0417017787125,
          0.041267017178,
          0.0440823411387,
          0.0453004087664,
          0.0453593914837,
          0.0441169717798,
          0.0466115017636,
          0.0470572873549,
          0.0466948236481,
          0.0462961145839,
          0.0434708728981,
          0.0436344656597,
          0.0431134370681,
          0.0448742735368,
          0.0485616201256,
          0.0507316063248,
          0.049710054553,
          0.0428914431112,
          0.0451381812471,
          0.0482823566189,
          0.0473942345685,
          0.0503794761785,
          0.0502299413061,
          0.0525106243404,
          0.0531827611023,
          0.0657575069203,
          0.0699041328412,
          0.0696071303988,
          0.0660396021136,
          0.0704329749695,
          0.0685039677487,
          0.0674153196071,
          0.061522897795,
          0.062633759516,
          0.0712337479678,
          0.0777587544809,
          0.0813326709561,
          0.0794474940366,
          0.0854454713255,
          0.0995841778732,
          0.103073079891,
          0.0986309057926,
          0.102664929498,
          0.094731550274,
          0.0927286442369,
          0.101356824122,
          0.0945908012967,
          0.0954501418868,
          0.103129563768,
          0.0919056551333,
          0.0985405427989,
          0.101537929058,
          0.0901860819055,
          0.0905385129303,
          0.0848372153573,
          0.0850797924764,
          0.0793300775076,
          0.0843526141524,
          0.092189794265,
          0.0945002300559,
          0.0953537676503,
          0.0817365219681,
          0.0875848344983,
          0.0852319667245,
          0.085244769052,
          0.0873615459035,
          0.0945529582798,
          0.0948129136819,
          0.0908196897342,
          0.0992146312273,
          0.0871192809832,
          0.0769801604439,
          0.0779376633062,
          0.0716384842805,
          0.0779007710204,
          0.0781057949844,
          0.0847136280813,
          0.0804278859817,
          0.0835804190299,
          0.0807298368505,
          0.0773365946452,
          0.0698183017026,
          0.0724738080222,
          0.075026360901
         ]
        }
       ],
       "layout": {
        "template": {
         "data": {
          "bar": [
           {
            "error_x": {
             "color": "#2a3f5f"
            },
            "error_y": {
             "color": "#2a3f5f"
            },
            "marker": {
             "line": {
              "color": "#E5ECF6",
              "width": 0.5
             },
             "pattern": {
              "fillmode": "overlay",
              "size": 10,
              "solidity": 0.2
             }
            },
            "type": "bar"
           }
          ],
          "barpolar": [
           {
            "marker": {
             "line": {
              "color": "#E5ECF6",
              "width": 0.5
             },
             "pattern": {
              "fillmode": "overlay",
              "size": 10,
              "solidity": 0.2
             }
            },
            "type": "barpolar"
           }
          ],
          "carpet": [
           {
            "aaxis": {
             "endlinecolor": "#2a3f5f",
             "gridcolor": "white",
             "linecolor": "white",
             "minorgridcolor": "white",
             "startlinecolor": "#2a3f5f"
            },
            "baxis": {
             "endlinecolor": "#2a3f5f",
             "gridcolor": "white",
             "linecolor": "white",
             "minorgridcolor": "white",
             "startlinecolor": "#2a3f5f"
            },
            "type": "carpet"
           }
          ],
          "choropleth": [
           {
            "colorbar": {
             "outlinewidth": 0,
             "ticks": ""
            },
            "type": "choropleth"
           }
          ],
          "contour": [
           {
            "colorbar": {
             "outlinewidth": 0,
             "ticks": ""
            },
            "colorscale": [
             [
              0,
              "#0d0887"
             ],
             [
              0.1111111111111111,
              "#46039f"
             ],
             [
              0.2222222222222222,
              "#7201a8"
             ],
             [
              0.3333333333333333,
              "#9c179e"
             ],
             [
              0.4444444444444444,
              "#bd3786"
             ],
             [
              0.5555555555555556,
              "#d8576b"
             ],
             [
              0.6666666666666666,
              "#ed7953"
             ],
             [
              0.7777777777777778,
              "#fb9f3a"
             ],
             [
              0.8888888888888888,
              "#fdca26"
             ],
             [
              1,
              "#f0f921"
             ]
            ],
            "type": "contour"
           }
          ],
          "contourcarpet": [
           {
            "colorbar": {
             "outlinewidth": 0,
             "ticks": ""
            },
            "type": "contourcarpet"
           }
          ],
          "heatmap": [
           {
            "colorbar": {
             "outlinewidth": 0,
             "ticks": ""
            },
            "colorscale": [
             [
              0,
              "#0d0887"
             ],
             [
              0.1111111111111111,
              "#46039f"
             ],
             [
              0.2222222222222222,
              "#7201a8"
             ],
             [
              0.3333333333333333,
              "#9c179e"
             ],
             [
              0.4444444444444444,
              "#bd3786"
             ],
             [
              0.5555555555555556,
              "#d8576b"
             ],
             [
              0.6666666666666666,
              "#ed7953"
             ],
             [
              0.7777777777777778,
              "#fb9f3a"
             ],
             [
              0.8888888888888888,
              "#fdca26"
             ],
             [
              1,
              "#f0f921"
             ]
            ],
            "type": "heatmap"
           }
          ],
          "heatmapgl": [
           {
            "colorbar": {
             "outlinewidth": 0,
             "ticks": ""
            },
            "colorscale": [
             [
              0,
              "#0d0887"
             ],
             [
              0.1111111111111111,
              "#46039f"
             ],
             [
              0.2222222222222222,
              "#7201a8"
             ],
             [
              0.3333333333333333,
              "#9c179e"
             ],
             [
              0.4444444444444444,
              "#bd3786"
             ],
             [
              0.5555555555555556,
              "#d8576b"
             ],
             [
              0.6666666666666666,
              "#ed7953"
             ],
             [
              0.7777777777777778,
              "#fb9f3a"
             ],
             [
              0.8888888888888888,
              "#fdca26"
             ],
             [
              1,
              "#f0f921"
             ]
            ],
            "type": "heatmapgl"
           }
          ],
          "histogram": [
           {
            "marker": {
             "pattern": {
              "fillmode": "overlay",
              "size": 10,
              "solidity": 0.2
             }
            },
            "type": "histogram"
           }
          ],
          "histogram2d": [
           {
            "colorbar": {
             "outlinewidth": 0,
             "ticks": ""
            },
            "colorscale": [
             [
              0,
              "#0d0887"
             ],
             [
              0.1111111111111111,
              "#46039f"
             ],
             [
              0.2222222222222222,
              "#7201a8"
             ],
             [
              0.3333333333333333,
              "#9c179e"
             ],
             [
              0.4444444444444444,
              "#bd3786"
             ],
             [
              0.5555555555555556,
              "#d8576b"
             ],
             [
              0.6666666666666666,
              "#ed7953"
             ],
             [
              0.7777777777777778,
              "#fb9f3a"
             ],
             [
              0.8888888888888888,
              "#fdca26"
             ],
             [
              1,
              "#f0f921"
             ]
            ],
            "type": "histogram2d"
           }
          ],
          "histogram2dcontour": [
           {
            "colorbar": {
             "outlinewidth": 0,
             "ticks": ""
            },
            "colorscale": [
             [
              0,
              "#0d0887"
             ],
             [
              0.1111111111111111,
              "#46039f"
             ],
             [
              0.2222222222222222,
              "#7201a8"
             ],
             [
              0.3333333333333333,
              "#9c179e"
             ],
             [
              0.4444444444444444,
              "#bd3786"
             ],
             [
              0.5555555555555556,
              "#d8576b"
             ],
             [
              0.6666666666666666,
              "#ed7953"
             ],
             [
              0.7777777777777778,
              "#fb9f3a"
             ],
             [
              0.8888888888888888,
              "#fdca26"
             ],
             [
              1,
              "#f0f921"
             ]
            ],
            "type": "histogram2dcontour"
           }
          ],
          "mesh3d": [
           {
            "colorbar": {
             "outlinewidth": 0,
             "ticks": ""
            },
            "type": "mesh3d"
           }
          ],
          "parcoords": [
           {
            "line": {
             "colorbar": {
              "outlinewidth": 0,
              "ticks": ""
             }
            },
            "type": "parcoords"
           }
          ],
          "pie": [
           {
            "automargin": true,
            "type": "pie"
           }
          ],
          "scatter": [
           {
            "fillpattern": {
             "fillmode": "overlay",
             "size": 10,
             "solidity": 0.2
            },
            "type": "scatter"
           }
          ],
          "scatter3d": [
           {
            "line": {
             "colorbar": {
              "outlinewidth": 0,
              "ticks": ""
             }
            },
            "marker": {
             "colorbar": {
              "outlinewidth": 0,
              "ticks": ""
             }
            },
            "type": "scatter3d"
           }
          ],
          "scattercarpet": [
           {
            "marker": {
             "colorbar": {
              "outlinewidth": 0,
              "ticks": ""
             }
            },
            "type": "scattercarpet"
           }
          ],
          "scattergeo": [
           {
            "marker": {
             "colorbar": {
              "outlinewidth": 0,
              "ticks": ""
             }
            },
            "type": "scattergeo"
           }
          ],
          "scattergl": [
           {
            "marker": {
             "colorbar": {
              "outlinewidth": 0,
              "ticks": ""
             }
            },
            "type": "scattergl"
           }
          ],
          "scattermapbox": [
           {
            "marker": {
             "colorbar": {
              "outlinewidth": 0,
              "ticks": ""
             }
            },
            "type": "scattermapbox"
           }
          ],
          "scatterpolar": [
           {
            "marker": {
             "colorbar": {
              "outlinewidth": 0,
              "ticks": ""
             }
            },
            "type": "scatterpolar"
           }
          ],
          "scatterpolargl": [
           {
            "marker": {
             "colorbar": {
              "outlinewidth": 0,
              "ticks": ""
             }
            },
            "type": "scatterpolargl"
           }
          ],
          "scatterternary": [
           {
            "marker": {
             "colorbar": {
              "outlinewidth": 0,
              "ticks": ""
             }
            },
            "type": "scatterternary"
           }
          ],
          "surface": [
           {
            "colorbar": {
             "outlinewidth": 0,
             "ticks": ""
            },
            "colorscale": [
             [
              0,
              "#0d0887"
             ],
             [
              0.1111111111111111,
              "#46039f"
             ],
             [
              0.2222222222222222,
              "#7201a8"
             ],
             [
              0.3333333333333333,
              "#9c179e"
             ],
             [
              0.4444444444444444,
              "#bd3786"
             ],
             [
              0.5555555555555556,
              "#d8576b"
             ],
             [
              0.6666666666666666,
              "#ed7953"
             ],
             [
              0.7777777777777778,
              "#fb9f3a"
             ],
             [
              0.8888888888888888,
              "#fdca26"
             ],
             [
              1,
              "#f0f921"
             ]
            ],
            "type": "surface"
           }
          ],
          "table": [
           {
            "cells": {
             "fill": {
              "color": "#EBF0F8"
             },
             "line": {
              "color": "white"
             }
            },
            "header": {
             "fill": {
              "color": "#C8D4E3"
             },
             "line": {
              "color": "white"
             }
            },
            "type": "table"
           }
          ]
         },
         "layout": {
          "annotationdefaults": {
           "arrowcolor": "#2a3f5f",
           "arrowhead": 0,
           "arrowwidth": 1
          },
          "autotypenumbers": "strict",
          "coloraxis": {
           "colorbar": {
            "outlinewidth": 0,
            "ticks": ""
           }
          },
          "colorscale": {
           "diverging": [
            [
             0,
             "#8e0152"
            ],
            [
             0.1,
             "#c51b7d"
            ],
            [
             0.2,
             "#de77ae"
            ],
            [
             0.3,
             "#f1b6da"
            ],
            [
             0.4,
             "#fde0ef"
            ],
            [
             0.5,
             "#f7f7f7"
            ],
            [
             0.6,
             "#e6f5d0"
            ],
            [
             0.7,
             "#b8e186"
            ],
            [
             0.8,
             "#7fbc41"
            ],
            [
             0.9,
             "#4d9221"
            ],
            [
             1,
             "#276419"
            ]
           ],
           "sequential": [
            [
             0,
             "#0d0887"
            ],
            [
             0.1111111111111111,
             "#46039f"
            ],
            [
             0.2222222222222222,
             "#7201a8"
            ],
            [
             0.3333333333333333,
             "#9c179e"
            ],
            [
             0.4444444444444444,
             "#bd3786"
            ],
            [
             0.5555555555555556,
             "#d8576b"
            ],
            [
             0.6666666666666666,
             "#ed7953"
            ],
            [
             0.7777777777777778,
             "#fb9f3a"
            ],
            [
             0.8888888888888888,
             "#fdca26"
            ],
            [
             1,
             "#f0f921"
            ]
           ],
           "sequentialminus": [
            [
             0,
             "#0d0887"
            ],
            [
             0.1111111111111111,
             "#46039f"
            ],
            [
             0.2222222222222222,
             "#7201a8"
            ],
            [
             0.3333333333333333,
             "#9c179e"
            ],
            [
             0.4444444444444444,
             "#bd3786"
            ],
            [
             0.5555555555555556,
             "#d8576b"
            ],
            [
             0.6666666666666666,
             "#ed7953"
            ],
            [
             0.7777777777777778,
             "#fb9f3a"
            ],
            [
             0.8888888888888888,
             "#fdca26"
            ],
            [
             1,
             "#f0f921"
            ]
           ]
          },
          "colorway": [
           "#636efa",
           "#EF553B",
           "#00cc96",
           "#ab63fa",
           "#FFA15A",
           "#19d3f3",
           "#FF6692",
           "#B6E880",
           "#FF97FF",
           "#FECB52"
          ],
          "font": {
           "color": "#2a3f5f"
          },
          "geo": {
           "bgcolor": "white",
           "lakecolor": "white",
           "landcolor": "#E5ECF6",
           "showlakes": true,
           "showland": true,
           "subunitcolor": "white"
          },
          "hoverlabel": {
           "align": "left"
          },
          "hovermode": "closest",
          "mapbox": {
           "style": "light"
          },
          "paper_bgcolor": "white",
          "plot_bgcolor": "#E5ECF6",
          "polar": {
           "angularaxis": {
            "gridcolor": "white",
            "linecolor": "white",
            "ticks": ""
           },
           "bgcolor": "#E5ECF6",
           "radialaxis": {
            "gridcolor": "white",
            "linecolor": "white",
            "ticks": ""
           }
          },
          "scene": {
           "xaxis": {
            "backgroundcolor": "#E5ECF6",
            "gridcolor": "white",
            "gridwidth": 2,
            "linecolor": "white",
            "showbackground": true,
            "ticks": "",
            "zerolinecolor": "white"
           },
           "yaxis": {
            "backgroundcolor": "#E5ECF6",
            "gridcolor": "white",
            "gridwidth": 2,
            "linecolor": "white",
            "showbackground": true,
            "ticks": "",
            "zerolinecolor": "white"
           },
           "zaxis": {
            "backgroundcolor": "#E5ECF6",
            "gridcolor": "white",
            "gridwidth": 2,
            "linecolor": "white",
            "showbackground": true,
            "ticks": "",
            "zerolinecolor": "white"
           }
          },
          "shapedefaults": {
           "line": {
            "color": "#2a3f5f"
           }
          },
          "ternary": {
           "aaxis": {
            "gridcolor": "white",
            "linecolor": "white",
            "ticks": ""
           },
           "baxis": {
            "gridcolor": "white",
            "linecolor": "white",
            "ticks": ""
           },
           "bgcolor": "#E5ECF6",
           "caxis": {
            "gridcolor": "white",
            "linecolor": "white",
            "ticks": ""
           }
          },
          "title": {
           "x": 0.05
          },
          "xaxis": {
           "automargin": true,
           "gridcolor": "white",
           "linecolor": "white",
           "ticks": "",
           "title": {
            "standoff": 15
           },
           "zerolinecolor": "white",
           "zerolinewidth": 2
          },
          "yaxis": {
           "automargin": true,
           "gridcolor": "white",
           "linecolor": "white",
           "ticks": "",
           "title": {
            "standoff": 15
           },
           "zerolinecolor": "white",
           "zerolinewidth": 2
          }
         }
        }
       }
      },
      "text/html": [
       "<div>                            <div id=\"903e8aaf-0e24-4949-b8fd-6fa89be37e9b\" class=\"plotly-graph-div\" style=\"height:525px; width:100%;\"></div>            <script type=\"text/javascript\">                require([\"plotly\"], function(Plotly) {                    window.PLOTLYENV=window.PLOTLYENV || {};                                    if (document.getElementById(\"903e8aaf-0e24-4949-b8fd-6fa89be37e9b\")) {                    Plotly.newPlot(                        \"903e8aaf-0e24-4949-b8fd-6fa89be37e9b\",                        [{\"mode\":\"lines\",\"name\":\"IGBM_Parabola\",\"x\":[0.0,0.01,0.02,0.03,0.04,0.05,0.06,0.07,0.08,0.09,0.1,0.11,0.12,0.13,0.14,0.15,0.16,0.17,0.18,0.19,0.2,0.21,0.22,0.23,0.24,0.25,0.26,0.27,0.28,0.29,0.3,0.31,0.32,0.33,0.34,0.35000000000000003,0.36,0.37,0.38,0.39,0.4,0.41000000000000003,0.42,0.43,0.44,0.45,0.46,0.47000000000000003,0.48,0.49,0.5,0.51,0.52,0.53,0.54,0.55,0.56,0.5700000000000001,0.58,0.59,0.6,0.61,0.62,0.63,0.64,0.65,0.66,0.67,0.68,0.6900000000000001,0.7000000000000001,0.71,0.72,0.73,0.74,0.75,0.76,0.77,0.78,0.79,0.8,0.81,0.8200000000000001,0.8300000000000001,0.84,0.85,0.86,0.87,0.88,0.89,0.9,0.91,0.92,0.93,0.9400000000000001,0.9500000000000001,0.96,0.97,0.98,0.99],\"y\":[0.06,0.0587902733937,0.0605843249293,0.0562532523553,0.0532364809753,0.0495651777479,0.0432037719709,0.0449339592583,0.042351462043,0.0433787306956,0.0454289664964,0.0443953819227,0.0452964601783,0.0423421953947,0.0408391907134,0.0422246758312,0.0417233929447,0.0412807096921,0.0440941238924,0.0453186677773,0.0453770175621,0.0441304291079,0.0466330337566,0.0470772888045,0.0467186157843,0.046315041426,0.0434940748829,0.0436589408925,0.0431310648352,0.0448946720053,0.0485850445637,0.0507482237946,0.049722644349,0.0429011385467,0.0451422649951,0.0482932821028,0.0474076816173,0.0503899848398,0.0502468594564,0.0525182211141,0.0531881485331,0.0657672807426,0.0699206925341,0.0696149585131,0.0660554340447,0.0704437765292,0.0685088419746,0.067423372372,0.0615322579885,0.0626402584161,0.0712345986267,0.0777593260054,0.0813249117242,0.0794349742532,0.085441685876,0.099582646654,0.103081415226,0.0986322113386,0.102685192085,0.0947562813273,0.0927489701803,0.101381867408,0.0946236401031,0.0954855070714,0.103167701273,0.0919550404092,0.0985873622904,0.101588714278,0.090229308047,0.0906016747003,0.0848868902624,0.0851232506641,0.0793784266272,0.0844021731332,0.0922517317937,0.0945664243232,0.0954143061268,0.0817889276662,0.087635842768,0.0852747913089,0.0852930666963,0.0874188756596,0.0946128769995,0.094876275168,0.0908717001524,0.0992775429567,0.0871801269436,0.0770324974897,0.0779766250257,0.071663344992,0.0779310291086,0.0781388963817,0.0847317133534,0.0804617760978,0.0836060061853,0.0807654286084,0.0773578306868,0.0698268482154,0.0724713651231,0.075041631653],\"type\":\"scatter\"},{\"mode\":\"lines\",\"name\":\"IGBM_Log_ODE\",\"x\":[0.0,0.01,0.02,0.03,0.04,0.05,0.06,0.07,0.08,0.09,0.1,0.11,0.12,0.13,0.14,0.15,0.16,0.17,0.18,0.19,0.2,0.21,0.22,0.23,0.24,0.25,0.26,0.27,0.28,0.29,0.3,0.31,0.32,0.33,0.34,0.35000000000000003,0.36,0.37,0.38,0.39,0.4,0.41000000000000003,0.42,0.43,0.44,0.45,0.46,0.47000000000000003,0.48,0.49,0.5,0.51,0.52,0.53,0.54,0.55,0.56,0.5700000000000001,0.58,0.59,0.6,0.61,0.62,0.63,0.64,0.65,0.66,0.67,0.68,0.6900000000000001,0.7000000000000001,0.71,0.72,0.73,0.74,0.75,0.76,0.77,0.78,0.79,0.8,0.81,0.8200000000000001,0.8300000000000001,0.84,0.85,0.86,0.87,0.88,0.89,0.9,0.91,0.92,0.93,0.9400000000000001,0.9500000000000001,0.96,0.97,0.98,0.99],\"y\":[0.06,0.0587890775664,0.0605841387869,0.0562512088577,0.0532329075287,0.0495614493725,0.0432017202893,0.0449310050882,0.0423475769827,0.0433749274685,0.0454281083647,0.0443911630877,0.0452905674995,0.0423366697025,0.0408365512419,0.0422201045337,0.0417190772367,0.04127900138,0.044093237567,0.0453160302972,0.045374572983,0.0441291824679,0.0466296411163,0.0470743695034,0.0467146184561,0.0463124594298,0.0434900990458,0.0436546066998,0.0431289146906,0.0448918981339,0.0485817025313,0.0507469149013,0.0497223762477,0.0429014149853,0.0451444882744,0.0482938718295,0.0474075712469,0.0503909499555,0.0502461625504,0.0525202218387,0.0531907787812,0.0657702008557,0.0699227196948,0.0696186776607,0.0660573642622,0.0704470721272,0.0685132118921,0.0674270536708,0.0615352647704,0.0626439860807,0.0712402969409,0.0777656729075,0.0813330191487,0.0794437514657,0.085449630938,0.0995916648044,0.10308949486,0.0986408664051,0.102691804839,0.094761641694,0.092754777562,0.101387899314,0.0946280342265,0.0954896333248,0.103172213518,0.0919571288127,0.0985905028275,0.101591761884,0.0902323894961,0.0906019530601,0.0848886591618,0.0851260434751,0.0793798172942,0.0844039835422,0.0922526636236,0.094567008825,0.0954158371913,0.0817903126464,0.0876381792915,0.0852781357932,0.0852955818471,0.0874202654457,0.0946147477657,0.0948777020831,0.0908743481088,0.0992796412179,0.0871813721035,0.0770339294984,0.0779805652716,0.071669025542,0.0779366805755,0.0781441806223,0.084740545702,0.0804675946819,0.0836136659452,0.0807711558678,0.0773656484159,0.0698359648336,0.0724830709404,0.0750506684552],\"type\":\"scatter\"},{\"mode\":\"lines\",\"name\":\"polyparabola_integration_IGBM\",\"x\":[0.0,0.01,0.02,0.03,0.04,0.05,0.06,0.07,0.08,0.09,0.1,0.11,0.12,0.13,0.14,0.15,0.16,0.17,0.18,0.19,0.2,0.21,0.22,0.23,0.24,0.25,0.26,0.27,0.28,0.29,0.3,0.31,0.32,0.33,0.34,0.35000000000000003,0.36,0.37,0.38,0.39,0.4,0.41000000000000003,0.42,0.43,0.44,0.45,0.46,0.47000000000000003,0.48,0.49,0.5,0.51,0.52,0.53,0.54,0.55,0.56,0.5700000000000001,0.58,0.59,0.6,0.61,0.62,0.63,0.64,0.65,0.66,0.67,0.68,0.6900000000000001,0.7000000000000001,0.71,0.72,0.73,0.74,0.75,0.76,0.77,0.78,0.79,0.8,0.81,0.8200000000000001,0.8300000000000001,0.84,0.85,0.86,0.87,0.88,0.89,0.9,0.91,0.92,0.93,0.9400000000000001,0.9500000000000001,0.96,0.97,0.98,0.99],\"y\":[0.06,0.0587943287717,0.0605847954991,0.0562596736882,0.0532474416863,0.0495764093935,0.0432101461636,0.0449424250262,0.0423618278293,0.0433889523539,0.0454319585405,0.0444058204112,0.0453107597499,0.0423555185616,0.0408460393031,0.0422355057954,0.0417336671789,0.0412852153867,0.0440967503809,0.0453252977999,0.0453831944097,0.0441337129848,0.0466412476143,0.047084308377,0.0467283093949,0.0463211425633,0.0435032972007,0.0436689823095,0.0431360019284,0.0449010051137,0.0485926018736,0.0507499231879,0.0497214593998,0.0428984067885,0.045134749778,0.0482894804204,0.0474057190443,0.0503848807617,0.0502462562646,0.0525094214634,0.053177440661,0.0657536964381,0.0699104637052,0.0695974099419,0.0660450787307,0.0704274201003,0.068487940464,0.0674053280669,0.0615169027015,0.0626221736334,0.0712074869695,0.0777288669962,0.0812855468349,0.079392159475,0.085402996719,0.0995378187277,0.103043104234,0.0985893453033,0.1026556619,0.0947334502879,0.0927232214518,0.101355307983,0.0946063517687,0.0954699598402,0.103150263324,0.0919507469627,0.0985769342595,0.101579169767,0.0902179079359,0.0906058532738,0.0848820543267,0.0851128656577,0.0793747263734,0.0843963847354,0.092250848042,0.0945677274277,0.0954098011668,0.0817837265632,0.0876254644955,0.0852587241382,0.0852814438138,0.0874133507557,0.0946044760294,0.0948706016368,0.0908584287637,0.0992674830922,0.0871741325376,0.0770249311077,0.0779565538716,0.0716348853293,0.077902224203,0.0781118817618,0.0846856424434,0.0804307522141,0.0835652265853,0.0807344238042,0.077316195599,0.069779342443,0.0724119862016,0.0749934362059],\"type\":\"scatter\"},{\"mode\":\"lines\",\"name\":\"poly1_integration_IGBM\",\"x\":[0.0,0.01,0.02,0.03,0.04,0.05,0.06,0.07,0.08,0.09,0.1,0.11,0.12,0.13,0.14,0.15,0.16,0.17,0.18,0.19,0.2,0.21,0.22,0.23,0.24,0.25,0.26,0.27,0.28,0.29,0.3,0.31,0.32,0.33,0.34,0.35000000000000003,0.36,0.37,0.38,0.39,0.4,0.41000000000000003,0.42,0.43,0.44,0.45,0.46,0.47000000000000003,0.48,0.49,0.5,0.51,0.52,0.53,0.54,0.55,0.56,0.5700000000000001,0.58,0.59,0.6,0.61,0.62,0.63,0.64,0.65,0.66,0.67,0.68,0.6900000000000001,0.7000000000000001,0.71,0.72,0.73,0.74,0.75,0.76,0.77,0.78,0.79,0.8,0.81,0.8200000000000001,0.8300000000000001,0.84,0.85,0.86,0.87,0.88,0.89,0.9,0.91,0.92,0.93,0.9400000000000001,0.9500000000000001,0.96,0.97,0.98,0.99],\"y\":[0.06,0.0587848292004,0.0605832890311,0.0562435936901,0.0532202588569,0.0495480961277,0.0431924435294,0.0449192457102,0.0423338529635,0.0433611012791,0.0454203060493,0.0443749312974,0.0452700847465,0.0423173736575,0.0408231965569,0.0422021744745,0.0417017787125,0.041267017178,0.0440823411387,0.0453004087664,0.0453593914837,0.0441169717798,0.0466115017636,0.0470572873549,0.0466948236481,0.0462961145839,0.0434708728981,0.0436344656597,0.0431134370681,0.0448742735368,0.0485616201256,0.0507316063248,0.049710054553,0.0428914431112,0.0451381812471,0.0482823566189,0.0473942345685,0.0503794761785,0.0502299413061,0.0525106243404,0.0531827611023,0.0657575069203,0.0699041328412,0.0696071303988,0.0660396021136,0.0704329749695,0.0685039677487,0.0674153196071,0.061522897795,0.062633759516,0.0712337479678,0.0777587544809,0.0813326709561,0.0794474940366,0.0854454713255,0.0995841778732,0.103073079891,0.0986309057926,0.102664929498,0.094731550274,0.0927286442369,0.101356824122,0.0945908012967,0.0954501418868,0.103129563768,0.0919056551333,0.0985405427989,0.101537929058,0.0901860819055,0.0905385129303,0.0848372153573,0.0850797924764,0.0793300775076,0.0843526141524,0.092189794265,0.0945002300559,0.0953537676503,0.0817365219681,0.0875848344983,0.0852319667245,0.085244769052,0.0873615459035,0.0945529582798,0.0948129136819,0.0908196897342,0.0992146312273,0.0871192809832,0.0769801604439,0.0779376633062,0.0716384842805,0.0779007710204,0.0781057949844,0.0847136280813,0.0804278859817,0.0835804190299,0.0807298368505,0.0773365946452,0.0698183017026,0.0724738080222,0.075026360901],\"type\":\"scatter\"},{\"mode\":\"lines\",\"name\":\"poly2_integration_IGBM\",\"x\":[0.0,0.01,0.02,0.03,0.04,0.05,0.06,0.07,0.08,0.09,0.1,0.11,0.12,0.13,0.14,0.15,0.16,0.17,0.18,0.19,0.2,0.21,0.22,0.23,0.24,0.25,0.26,0.27,0.28,0.29,0.3,0.31,0.32,0.33,0.34,0.35000000000000003,0.36,0.37,0.38,0.39,0.4,0.41000000000000003,0.42,0.43,0.44,0.45,0.46,0.47000000000000003,0.48,0.49,0.5,0.51,0.52,0.53,0.54,0.55,0.56,0.5700000000000001,0.58,0.59,0.6,0.61,0.62,0.63,0.64,0.65,0.66,0.67,0.68,0.6900000000000001,0.7000000000000001,0.71,0.72,0.73,0.74,0.75,0.76,0.77,0.78,0.79,0.8,0.81,0.8200000000000001,0.8300000000000001,0.84,0.85,0.86,0.87,0.88,0.89,0.9,0.91,0.92,0.93,0.9400000000000001,0.9500000000000001,0.96,0.97,0.98,0.99],\"y\":[0.06,0.0587848307291,0.0605832921267,0.0562437240886,0.0532204902264,0.0495485877296,0.0431929715207,0.0449199445208,0.0423345120647,0.0433619119397,0.0454212978318,0.0443759954648,0.0452712163709,0.0423184303427,0.0408243311377,0.0422034169441,0.0417030061133,0.0412682420054,0.0440836737187,0.0453019928406,0.04536097749,0.0441185416931,0.046613159895,0.0470589793415,0.046696511564,0.0462978485004,0.0434725069172,0.0436361568994,0.043115293993,0.0448764356901,0.0485639582569,0.0507340485404,0.0497125050162,0.0428936510852,0.0451405493374,0.0482849360307,0.0473969758377,0.0503824217797,0.0502329174379,0.0525137515685,0.0531859851785,0.0657616570324,0.0699090274406,0.0696120402592,0.0660442604606,0.0704379420871,0.0685091059386,0.0674204285256,0.0615275831931,0.0626385595119,0.0712392603705,0.0777648199653,0.0813391755209,0.0794539881101,0.0854524997871,0.0995924155803,0.103081772537,0.0986393447509,0.102673902066,0.0947399947683,0.0927369065136,0.101365975229,0.0945993415596,0.0954587709545,0.103138906843,0.0919142654508,0.0985497709064,0.101548508133,0.0901956130219,0.0905480789522,0.084846200509,0.0850888525991,0.079338546911,0.0843616401206,0.0922000604798,0.0945108152199,0.0953648111169,0.0817459848715,0.0875949787607,0.0852418338402,0.0852547347541,0.0873717567697,0.0945640765827,0.0948241237496,0.0908304249711,0.0992263568621,0.0871302210617,0.0769898224459,0.0779474429161,0.071647490627,0.0779105594311,0.0781161240069,0.0847249652211,0.0804388287007,0.0835918319799,0.0807411612971,0.0773479197019,0.0698285689605,0.0724847466804,0.0750377490157],\"type\":\"scatter\"},{\"mode\":\"lines\",\"name\":\"poly3_integration_IGBM\",\"x\":[0.0,0.01,0.02,0.03,0.04,0.05,0.06,0.07,0.08,0.09,0.1,0.11,0.12,0.13,0.14,0.15,0.16,0.17,0.18,0.19,0.2,0.21,0.22,0.23,0.24,0.25,0.26,0.27,0.28,0.29,0.3,0.31,0.32,0.33,0.34,0.35000000000000003,0.36,0.37,0.38,0.39,0.4,0.41000000000000003,0.42,0.43,0.44,0.45,0.46,0.47000000000000003,0.48,0.49,0.5,0.51,0.52,0.53,0.54,0.55,0.56,0.5700000000000001,0.58,0.59,0.6,0.61,0.62,0.63,0.64,0.65,0.66,0.67,0.68,0.6900000000000001,0.7000000000000001,0.71,0.72,0.73,0.74,0.75,0.76,0.77,0.78,0.79,0.8,0.81,0.8200000000000001,0.8300000000000001,0.84,0.85,0.86,0.87,0.88,0.89,0.9,0.91,0.92,0.93,0.9400000000000001,0.9500000000000001,0.96,0.97,0.98,0.99],\"y\":[0.06,0.0587848292004,0.0605832890311,0.0562435936901,0.0532202588569,0.0495480961277,0.0431924435294,0.0449192457102,0.0423338529635,0.0433611012791,0.0454203060493,0.0443749312974,0.0452700847465,0.0423173736575,0.0408231965569,0.0422021744745,0.0417017787125,0.041267017178,0.0440823411387,0.0453004087664,0.0453593914837,0.0441169717798,0.0466115017636,0.0470572873549,0.0466948236481,0.0462961145839,0.0434708728981,0.0436344656597,0.0431134370681,0.0448742735368,0.0485616201256,0.0507316063248,0.049710054553,0.0428914431112,0.0451381812471,0.0482823566189,0.0473942345685,0.0503794761785,0.0502299413061,0.0525106243404,0.0531827611023,0.0657575069203,0.0699041328412,0.0696071303988,0.0660396021136,0.0704329749695,0.0685039677487,0.0674153196071,0.061522897795,0.062633759516,0.0712337479678,0.0777587544809,0.0813326709561,0.0794474940366,0.0854454713255,0.0995841778732,0.103073079891,0.0986309057926,0.102664929498,0.094731550274,0.0927286442369,0.101356824122,0.0945908012967,0.0954501418868,0.103129563768,0.0919056551333,0.0985405427989,0.101537929058,0.0901860819055,0.0905385129303,0.0848372153573,0.0850797924764,0.0793300775076,0.0843526141524,0.092189794265,0.0945002300559,0.0953537676503,0.0817365219681,0.0875848344983,0.0852319667245,0.085244769052,0.0873615459035,0.0945529582798,0.0948129136819,0.0908196897342,0.0992146312273,0.0871192809832,0.0769801604439,0.0779376633062,0.0716384842805,0.0779007710204,0.0781057949844,0.0847136280813,0.0804278859817,0.0835804190299,0.0807298368505,0.0773365946452,0.0698183017026,0.0724738080222,0.075026360901],\"type\":\"scatter\"}],                        {\"template\":{\"data\":{\"histogram2dcontour\":[{\"type\":\"histogram2dcontour\",\"colorbar\":{\"outlinewidth\":0,\"ticks\":\"\"},\"colorscale\":[[0.0,\"#0d0887\"],[0.1111111111111111,\"#46039f\"],[0.2222222222222222,\"#7201a8\"],[0.3333333333333333,\"#9c179e\"],[0.4444444444444444,\"#bd3786\"],[0.5555555555555556,\"#d8576b\"],[0.6666666666666666,\"#ed7953\"],[0.7777777777777778,\"#fb9f3a\"],[0.8888888888888888,\"#fdca26\"],[1.0,\"#f0f921\"]]}],\"choropleth\":[{\"type\":\"choropleth\",\"colorbar\":{\"outlinewidth\":0,\"ticks\":\"\"}}],\"histogram2d\":[{\"type\":\"histogram2d\",\"colorbar\":{\"outlinewidth\":0,\"ticks\":\"\"},\"colorscale\":[[0.0,\"#0d0887\"],[0.1111111111111111,\"#46039f\"],[0.2222222222222222,\"#7201a8\"],[0.3333333333333333,\"#9c179e\"],[0.4444444444444444,\"#bd3786\"],[0.5555555555555556,\"#d8576b\"],[0.6666666666666666,\"#ed7953\"],[0.7777777777777778,\"#fb9f3a\"],[0.8888888888888888,\"#fdca26\"],[1.0,\"#f0f921\"]]}],\"heatmap\":[{\"type\":\"heatmap\",\"colorbar\":{\"outlinewidth\":0,\"ticks\":\"\"},\"colorscale\":[[0.0,\"#0d0887\"],[0.1111111111111111,\"#46039f\"],[0.2222222222222222,\"#7201a8\"],[0.3333333333333333,\"#9c179e\"],[0.4444444444444444,\"#bd3786\"],[0.5555555555555556,\"#d8576b\"],[0.6666666666666666,\"#ed7953\"],[0.7777777777777778,\"#fb9f3a\"],[0.8888888888888888,\"#fdca26\"],[1.0,\"#f0f921\"]]}],\"heatmapgl\":[{\"type\":\"heatmapgl\",\"colorbar\":{\"outlinewidth\":0,\"ticks\":\"\"},\"colorscale\":[[0.0,\"#0d0887\"],[0.1111111111111111,\"#46039f\"],[0.2222222222222222,\"#7201a8\"],[0.3333333333333333,\"#9c179e\"],[0.4444444444444444,\"#bd3786\"],[0.5555555555555556,\"#d8576b\"],[0.6666666666666666,\"#ed7953\"],[0.7777777777777778,\"#fb9f3a\"],[0.8888888888888888,\"#fdca26\"],[1.0,\"#f0f921\"]]}],\"contourcarpet\":[{\"type\":\"contourcarpet\",\"colorbar\":{\"outlinewidth\":0,\"ticks\":\"\"}}],\"contour\":[{\"type\":\"contour\",\"colorbar\":{\"outlinewidth\":0,\"ticks\":\"\"},\"colorscale\":[[0.0,\"#0d0887\"],[0.1111111111111111,\"#46039f\"],[0.2222222222222222,\"#7201a8\"],[0.3333333333333333,\"#9c179e\"],[0.4444444444444444,\"#bd3786\"],[0.5555555555555556,\"#d8576b\"],[0.6666666666666666,\"#ed7953\"],[0.7777777777777778,\"#fb9f3a\"],[0.8888888888888888,\"#fdca26\"],[1.0,\"#f0f921\"]]}],\"surface\":[{\"type\":\"surface\",\"colorbar\":{\"outlinewidth\":0,\"ticks\":\"\"},\"colorscale\":[[0.0,\"#0d0887\"],[0.1111111111111111,\"#46039f\"],[0.2222222222222222,\"#7201a8\"],[0.3333333333333333,\"#9c179e\"],[0.4444444444444444,\"#bd3786\"],[0.5555555555555556,\"#d8576b\"],[0.6666666666666666,\"#ed7953\"],[0.7777777777777778,\"#fb9f3a\"],[0.8888888888888888,\"#fdca26\"],[1.0,\"#f0f921\"]]}],\"mesh3d\":[{\"type\":\"mesh3d\",\"colorbar\":{\"outlinewidth\":0,\"ticks\":\"\"}}],\"scatter\":[{\"fillpattern\":{\"fillmode\":\"overlay\",\"size\":10,\"solidity\":0.2},\"type\":\"scatter\"}],\"parcoords\":[{\"type\":\"parcoords\",\"line\":{\"colorbar\":{\"outlinewidth\":0,\"ticks\":\"\"}}}],\"scatterpolargl\":[{\"type\":\"scatterpolargl\",\"marker\":{\"colorbar\":{\"outlinewidth\":0,\"ticks\":\"\"}}}],\"bar\":[{\"error_x\":{\"color\":\"#2a3f5f\"},\"error_y\":{\"color\":\"#2a3f5f\"},\"marker\":{\"line\":{\"color\":\"#E5ECF6\",\"width\":0.5},\"pattern\":{\"fillmode\":\"overlay\",\"size\":10,\"solidity\":0.2}},\"type\":\"bar\"}],\"scattergeo\":[{\"type\":\"scattergeo\",\"marker\":{\"colorbar\":{\"outlinewidth\":0,\"ticks\":\"\"}}}],\"scatterpolar\":[{\"type\":\"scatterpolar\",\"marker\":{\"colorbar\":{\"outlinewidth\":0,\"ticks\":\"\"}}}],\"histogram\":[{\"marker\":{\"pattern\":{\"fillmode\":\"overlay\",\"size\":10,\"solidity\":0.2}},\"type\":\"histogram\"}],\"scattergl\":[{\"type\":\"scattergl\",\"marker\":{\"colorbar\":{\"outlinewidth\":0,\"ticks\":\"\"}}}],\"scatter3d\":[{\"type\":\"scatter3d\",\"line\":{\"colorbar\":{\"outlinewidth\":0,\"ticks\":\"\"}},\"marker\":{\"colorbar\":{\"outlinewidth\":0,\"ticks\":\"\"}}}],\"scattermapbox\":[{\"type\":\"scattermapbox\",\"marker\":{\"colorbar\":{\"outlinewidth\":0,\"ticks\":\"\"}}}],\"scatterternary\":[{\"type\":\"scatterternary\",\"marker\":{\"colorbar\":{\"outlinewidth\":0,\"ticks\":\"\"}}}],\"scattercarpet\":[{\"type\":\"scattercarpet\",\"marker\":{\"colorbar\":{\"outlinewidth\":0,\"ticks\":\"\"}}}],\"carpet\":[{\"aaxis\":{\"endlinecolor\":\"#2a3f5f\",\"gridcolor\":\"white\",\"linecolor\":\"white\",\"minorgridcolor\":\"white\",\"startlinecolor\":\"#2a3f5f\"},\"baxis\":{\"endlinecolor\":\"#2a3f5f\",\"gridcolor\":\"white\",\"linecolor\":\"white\",\"minorgridcolor\":\"white\",\"startlinecolor\":\"#2a3f5f\"},\"type\":\"carpet\"}],\"table\":[{\"cells\":{\"fill\":{\"color\":\"#EBF0F8\"},\"line\":{\"color\":\"white\"}},\"header\":{\"fill\":{\"color\":\"#C8D4E3\"},\"line\":{\"color\":\"white\"}},\"type\":\"table\"}],\"barpolar\":[{\"marker\":{\"line\":{\"color\":\"#E5ECF6\",\"width\":0.5},\"pattern\":{\"fillmode\":\"overlay\",\"size\":10,\"solidity\":0.2}},\"type\":\"barpolar\"}],\"pie\":[{\"automargin\":true,\"type\":\"pie\"}]},\"layout\":{\"autotypenumbers\":\"strict\",\"colorway\":[\"#636efa\",\"#EF553B\",\"#00cc96\",\"#ab63fa\",\"#FFA15A\",\"#19d3f3\",\"#FF6692\",\"#B6E880\",\"#FF97FF\",\"#FECB52\"],\"font\":{\"color\":\"#2a3f5f\"},\"hovermode\":\"closest\",\"hoverlabel\":{\"align\":\"left\"},\"paper_bgcolor\":\"white\",\"plot_bgcolor\":\"#E5ECF6\",\"polar\":{\"bgcolor\":\"#E5ECF6\",\"angularaxis\":{\"gridcolor\":\"white\",\"linecolor\":\"white\",\"ticks\":\"\"},\"radialaxis\":{\"gridcolor\":\"white\",\"linecolor\":\"white\",\"ticks\":\"\"}},\"ternary\":{\"bgcolor\":\"#E5ECF6\",\"aaxis\":{\"gridcolor\":\"white\",\"linecolor\":\"white\",\"ticks\":\"\"},\"baxis\":{\"gridcolor\":\"white\",\"linecolor\":\"white\",\"ticks\":\"\"},\"caxis\":{\"gridcolor\":\"white\",\"linecolor\":\"white\",\"ticks\":\"\"}},\"coloraxis\":{\"colorbar\":{\"outlinewidth\":0,\"ticks\":\"\"}},\"colorscale\":{\"sequential\":[[0.0,\"#0d0887\"],[0.1111111111111111,\"#46039f\"],[0.2222222222222222,\"#7201a8\"],[0.3333333333333333,\"#9c179e\"],[0.4444444444444444,\"#bd3786\"],[0.5555555555555556,\"#d8576b\"],[0.6666666666666666,\"#ed7953\"],[0.7777777777777778,\"#fb9f3a\"],[0.8888888888888888,\"#fdca26\"],[1.0,\"#f0f921\"]],\"sequentialminus\":[[0.0,\"#0d0887\"],[0.1111111111111111,\"#46039f\"],[0.2222222222222222,\"#7201a8\"],[0.3333333333333333,\"#9c179e\"],[0.4444444444444444,\"#bd3786\"],[0.5555555555555556,\"#d8576b\"],[0.6666666666666666,\"#ed7953\"],[0.7777777777777778,\"#fb9f3a\"],[0.8888888888888888,\"#fdca26\"],[1.0,\"#f0f921\"]],\"diverging\":[[0,\"#8e0152\"],[0.1,\"#c51b7d\"],[0.2,\"#de77ae\"],[0.3,\"#f1b6da\"],[0.4,\"#fde0ef\"],[0.5,\"#f7f7f7\"],[0.6,\"#e6f5d0\"],[0.7,\"#b8e186\"],[0.8,\"#7fbc41\"],[0.9,\"#4d9221\"],[1,\"#276419\"]]},\"xaxis\":{\"gridcolor\":\"white\",\"linecolor\":\"white\",\"ticks\":\"\",\"title\":{\"standoff\":15},\"zerolinecolor\":\"white\",\"automargin\":true,\"zerolinewidth\":2},\"yaxis\":{\"gridcolor\":\"white\",\"linecolor\":\"white\",\"ticks\":\"\",\"title\":{\"standoff\":15},\"zerolinecolor\":\"white\",\"automargin\":true,\"zerolinewidth\":2},\"scene\":{\"xaxis\":{\"backgroundcolor\":\"#E5ECF6\",\"gridcolor\":\"white\",\"linecolor\":\"white\",\"showbackground\":true,\"ticks\":\"\",\"zerolinecolor\":\"white\",\"gridwidth\":2},\"yaxis\":{\"backgroundcolor\":\"#E5ECF6\",\"gridcolor\":\"white\",\"linecolor\":\"white\",\"showbackground\":true,\"ticks\":\"\",\"zerolinecolor\":\"white\",\"gridwidth\":2},\"zaxis\":{\"backgroundcolor\":\"#E5ECF6\",\"gridcolor\":\"white\",\"linecolor\":\"white\",\"showbackground\":true,\"ticks\":\"\",\"zerolinecolor\":\"white\",\"gridwidth\":2}},\"shapedefaults\":{\"line\":{\"color\":\"#2a3f5f\"}},\"annotationdefaults\":{\"arrowcolor\":\"#2a3f5f\",\"arrowhead\":0,\"arrowwidth\":1},\"geo\":{\"bgcolor\":\"white\",\"landcolor\":\"#E5ECF6\",\"subunitcolor\":\"white\",\"showland\":true,\"showlakes\":true,\"lakecolor\":\"white\"},\"title\":{\"x\":0.05},\"mapbox\":{\"style\":\"light\"}}}},                        {\"responsive\": true}                    ).then(function(){\n",
       "                            \n",
       "var gd = document.getElementById('903e8aaf-0e24-4949-b8fd-6fa89be37e9b');\n",
       "var x = new MutationObserver(function (mutations, observer) {{\n",
       "        var display = window.getComputedStyle(gd).display;\n",
       "        if (!display || display === 'none') {{\n",
       "            console.log([gd, 'removed!']);\n",
       "            Plotly.purge(gd);\n",
       "            observer.disconnect();\n",
       "        }}\n",
       "}});\n",
       "\n",
       "// Listen for the removal of the full notebook cells\n",
       "var notebookContainer = gd.closest('#notebook-container');\n",
       "if (notebookContainer) {{\n",
       "    x.observe(notebookContainer, {childList: true});\n",
       "}}\n",
       "\n",
       "// Listen for the clearing of the current output cell\n",
       "var outputEl = gd.closest('.output');\n",
       "if (outputEl) {{\n",
       "    x.observe(outputEl, {childList: true});\n",
       "}}\n",
       "\n",
       "                        })                };                });            </script>        </div>"
      ]
     },
     "metadata": {},
     "output_type": "display_data"
    }
   ],
   "source": [
    "\"\"\"\n",
    "Inhomogeneous Geometric Brownian Motion\n",
    "dy_t = a(b-y_t) + sigma y_t dW_t\n",
    "IGBM_Parabola: \n",
    "    Closed-form formula linking y_t to y_{t+dt}, replace W_t by Parabola_t\n",
    "IGBM_Log_ODE: \n",
    "    Log ODE method\n",
    "polyparabola_integration_IGBM:\n",
    "    Same as the poly2_integration one but using dParabola_u = (W_1 + (6-u)H_1)du\n",
    "polyn_integration_IGBM:\n",
    "    Numerical scheme obtained by replacing dW_t by dW^n_t\n",
    "\"\"\"\n",
    "fig = go.Figure()\n",
    "for path_name in ['IGBM_Parabola','IGBM_Log_ODE', 'polyparabola_integration_IGBM',\n",
    "                'poly1_integration_IGBM', 'poly2_integration_IGBM', 'poly3_integration_IGBM']:\n",
    "    path = paths_dic[path_name]\n",
    "    fig.add_trace(go.Scatter(x=grid, y=np.array(list(map(f_map(path, 1), grid))),\n",
    "                    mode='lines',\n",
    "                    name=path_name))\n",
    "fig.show()"
   ]
  },
  {
   "cell_type": "code",
   "execution_count": null,
   "id": "1075f997",
   "metadata": {},
   "outputs": [],
   "source": []
  }
 ],
 "metadata": {
  "kernelspec": {
   "display_name": "Python 3 (ipykernel)",
   "language": "python",
   "name": "python3"
  },
  "language_info": {
   "codemirror_mode": {
    "name": "ipython",
    "version": 3
   },
   "file_extension": ".py",
   "mimetype": "text/x-python",
   "name": "python",
   "nbconvert_exporter": "python",
   "pygments_lexer": "ipython3",
   "version": "3.10.9"
  }
 },
 "nbformat": 4,
 "nbformat_minor": 5
}
