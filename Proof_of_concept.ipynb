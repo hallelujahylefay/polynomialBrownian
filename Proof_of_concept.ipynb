{
 "cells": [
  {
   "cell_type": "code",
   "execution_count": null,
   "id": "1a68882b",
   "metadata": {},
   "outputs": [],
   "source": [
    "import plotly.graph_objects as go\n",
    "import numpy as np\n",
    "\n",
    "file_path = \"./BENCHMARK2\"\n",
    "paths = open(file_path, \"r\").read().split(\"\\n\")\n",
    "paths_dic = {paths[2*i+1].replace(' ', ''):paths[2*i+2].split(',')[:-1] for i in range(int(len(paths)/2))}\n",
    "paths_dic = {path_name:list(map((lambda x : float(x)), paths_dic[path_name])) for path_name in paths_dic.keys()}\n",
    "T = 1\n",
    "N = 1000\n",
    "dt = {path_name:T/(len(paths_dic[path_name])-1) for path_name in paths_dic}\n",
    "grid = np.linspace(0, T, N+1)[:-1]\n",
    "possible_paths = paths_dic.keys()\n",
    "def f_map(path, T):\n",
    "    return (lambda t : path[int(len(path)*t/T)])"
   ]
  },
  {
   "cell_type": "code",
   "execution_count": null,
   "id": "532831ab",
   "metadata": {},
   "outputs": [],
   "source": [
    "possible_paths"
   ]
  },
  {
   "cell_type": "code",
   "execution_count": null,
   "id": "62e3d496",
   "metadata": {},
   "outputs": [],
   "source": [
    "\"\"\"\n",
    "Brownian path\n",
    "\"\"\"\n",
    "fig = go.Figure()\n",
    "for path_name in ['BROWNIAN']:\n",
    "    path = paths_dic[path_name]\n",
    "    fig.add_trace(go.Scatter(x=grid, y=np.array(list(map(f_map(path, 1), grid))),\n",
    "                    mode='lines',\n",
    "                    name=path_name))\n",
    "fig.update_layout(title=\"W_t\")\n",
    "fig.show()"
   ]
  },
  {
   "cell_type": "code",
   "execution_count": null,
   "id": "ef7e3c4f",
   "metadata": {},
   "outputs": [],
   "source": [
    "\"\"\"\n",
    "Inhomogeneous Geometric Brownian Motion\n",
    "dy_t = a(b-y_t) + sigma y_t dW_t\n",
    "IGBM_Parabola: \n",
    "    Closed-form formula linking y_t to y_{t+dt}, replace W_t by Parabola_t\n",
    "IGBM_Log_ODE: \n",
    "    Log ODE method\n",
    "polyparabola_integration_IGBM:\n",
    "    Same as the poly2_integration one but using dParabola_u = (W_1 + (6-u)H_1)du\n",
    "polyn_integration_IGBM:\n",
    "    Numerical scheme obtained by replacing dW_t by dW^n_t\n",
    "    \n",
    "    \n",
    "Different SDEs\n",
    "Case1: \n",
    "dy_t = y_t^2 dW_t, y_0 = 1\n",
    "=> y_t = 1/(1-W_t)\n",
    "\n",
    "Case2 (GBM):\n",
    "dy_t = y_tdt + y_t dW_t, y_0 = 2\n",
    "=> y_t = 2exp(1/2t + W_t)\n",
    "\n",
    "\n",
    "Case3:\n",
    "dy_t = sin(y_t) dW_t, y_0 = PI/2\n",
    "\n",
    "Case4 (CIR Process):\n",
    "dy_t = (1.2-y_t) + 0.2sqrt(y_t)dW_t, y_0 = 1.\n",
    "\n",
    "Case5:\n",
    "A modified Wright-Fishcer Model\n",
    "dy_t = y_t(1-y_t)dt + sqrt(y_t(1-y_t))dW_t, y_0 € ]0,1[, y_0 = 0.3\n",
    "\n",
    "Case6:\n",
    "dy_t = dt + 2sqrt(y_t)dW_t\n",
    "y_t = (sqrt(y_0) + W_t)^2\n",
    "\"\"\"\n",
    "fig = go.Figure()\n",
    "for path_name in possible_paths:\n",
    "    if path_name in possible_paths:\n",
    "        path = paths_dic[path_name]\n",
    "        fig.add_trace(go.Scatter(x=grid, y=np.array(list(map(f_map(path, 1), grid))),\n",
    "                        mode='lines',\n",
    "                        name=path_name))\n",
    "#Case1\n",
    "f = (lambda w : 1/(1-w))\n",
    "fig.add_trace(go.Scatter(x=grid, y=f(np.array(list(map(f_map(paths_dic['BROWNIAN'], 1), grid)))),\n",
    "                        mode='lines',\n",
    "                        name='Case1:y_0/(1-Wt)'))    \n",
    "#Case2\n",
    "f = (lambda t, w : 2*np.exp(0.5*t + w))\n",
    "fig.add_trace(go.Scatter(x=grid, y = f(grid, np.array(list(map(f_map(paths_dic['BROWNIAN'], 1), grid)))),\n",
    "                        mode='lines',\n",
    "                        name='Case2:y_0exp(1/2t + Wt)'))\n",
    "\n",
    "#Case6\n",
    "f = (lambda w : (1.2**0.5 + w)**2)\n",
    "fig.add_trace(go.Scatter(x=grid, y = f(np.array(list(map(f_map(paths_dic['BROWNIAN'], 1), grid)))),\n",
    "                        mode='lines',\n",
    "                        name='Case6:(sqrt(y_0) + Wt)^2'))\n",
    "fig.update_layout(title=\"Closed forms, Numerical simulations\")\n",
    "\n",
    "fig.show()"
   ]
  },
  {
   "cell_type": "code",
   "execution_count": null,
   "id": "1075f997",
   "metadata": {},
   "outputs": [],
   "source": []
  },
  {
   "cell_type": "code",
   "execution_count": null,
   "id": "1ddd8d91",
   "metadata": {},
   "outputs": [],
   "source": []
  }
 ],
 "metadata": {
  "kernelspec": {
   "display_name": "Python 3 (ipykernel)",
   "language": "python",
   "name": "python3"
  },
  "language_info": {
   "codemirror_mode": {
    "name": "ipython",
    "version": 3
   },
   "file_extension": ".py",
   "mimetype": "text/x-python",
   "name": "python",
   "nbconvert_exporter": "python",
   "pygments_lexer": "ipython3",
   "version": "3.10.9"
  }
 },
 "nbformat": 4,
 "nbformat_minor": 5
}
