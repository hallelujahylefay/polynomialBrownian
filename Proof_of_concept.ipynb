{
 "cells": [
  {
   "cell_type": "code",
   "execution_count": null,
   "id": "1a68882b",
   "metadata": {},
   "outputs": [],
   "source": [
    "import plotly.graph_objects as go\n",
    "import numpy as np\n",
    "\n",
    "file_path = \"./BENCHMARK\"\n",
    "paths = open(file_path, \"r\").read().split(\"\\n\")\n",
    "paths_dic = {paths[2*i+1].replace(' ', ''):paths[2*i+2].split(',')[:-1] for i in range(int(len(paths)/2))}\n",
    "paths_dic = {path_name:list(map((lambda x : float(x)), paths_dic[path_name])) for path_name in paths_dic.keys()}\n",
    "T = 1\n",
    "N = 100\n",
    "dt = T/N\n",
    "grid = np.linspace(0, T, N+1)[:-1]\n",
    "def f_map(path, T):\n",
    "    return (lambda t : path[int(len(path)*t/T)])"
   ]
  },
  {
   "cell_type": "code",
   "execution_count": null,
   "id": "62e3d496",
   "metadata": {},
   "outputs": [],
   "source": [
    "\"\"\"\n",
    "Brownian path\n",
    "\"\"\"\n",
    "fig = go.Figure()\n",
    "for path_name in ['BROWNIAN']:\n",
    "    path = paths_dic[path_name]\n",
    "    fig.add_trace(go.Scatter(x=grid, y=np.array(list(map(f_map(path, 1), grid))),\n",
    "                    mode='lines',\n",
    "                    name=path_name))\n",
    "fig.update_layout(title=\"W_t\")\n",
    "fig.show()"
   ]
  },
  {
   "cell_type": "code",
   "execution_count": null,
   "id": "ef7e3c4f",
   "metadata": {},
   "outputs": [],
   "source": [
    "\"\"\"\n",
    "Different SDEs for which we know closed form solutions.\n",
    "Case1: \n",
    "dy_t = y_t^2 dW_t, y_0 = 1\n",
    "=> y_t = 1/(1-W_t)\n",
    "\n",
    "Case2 (GBM):\n",
    "dy_t = y_tdt + y_t dW_t, y_0 = 2\n",
    "=> y_t = 2exp(1/2t + W_t)\n",
    "\n",
    "\n",
    "Case3:\n",
    "dy_t = sin(y_t) dW_t, y_0 = PI/2\n",
    "=> y_t = 2exp(1/2t + W_t)\n",
    "\n",
    "Case4 (CIR Process):\n",
    "dy_t = (1.2-y_t) + 0.2sqrt(y_t)dW_t, y_0 = 1.\n",
    "\n",
    "Case4:\n",
    "A modified Wright-Fishcer Model\n",
    "dy_t = y_t(1-y_t)dt + sqrt(y_t(1-y_t))dW_t, y_0 € ]0,1[, y_0 = 0.3\n",
    "\"\"\"\n",
    "fig = go.Figure()\n",
    "for path_name in ['poly2_integration_CASE1','poly2_integration_CASE2', 'poly5_integration_CASE2',\n",
    "                'poly2_integration_CASE3', 'poly2_integration_CASE4', 'poly2_integration_CASE5']:\n",
    "    path = paths_dic[path_name]\n",
    "    fig.add_trace(go.Scatter(x=grid, y=np.array(list(map(f_map(path, 1), grid))),\n",
    "                    mode='lines',\n",
    "                    name=path_name))\n",
    "#Case1\n",
    "f = (lambda w : 1/(1-w))\n",
    "fig.add_trace(go.Scatter(x=grid, y=f(np.array(list(map(f_map(paths_dic['BROWNIAN'], 1), grid)))),\n",
    "                        mode='lines',\n",
    "                        name='Case1:y_0/(1-Wt)'))    \n",
    "#Case2\n",
    "f = (lambda t, w : 2*np.exp(0.5*t + w))\n",
    "fig.add_trace(go.Scatter(x=grid, y = f(grid, np.array(list(map(f_map(paths_dic['BROWNIAN'], 1), grid)))),\n",
    "                        mode='lines',\n",
    "                        name='Case2:y_0exp(1/2t + Wt)'))\n",
    "fig.update_layout(title=\"Closed forms, Numerical simulations\")\n",
    "\n",
    "fig.show()"
   ]
  },
  {
   "cell_type": "code",
   "execution_count": null,
   "id": "e542817c",
   "metadata": {},
   "outputs": [],
   "source": [
    "\"\"\"\n",
    "Inhomogeneous Geometric Brownian Motion\n",
    "dy_t = a(b-y_t) + sigma y_t dW_t\n",
    "IGBM_Parabola: \n",
    "    Closed-form formula linking y_t to y_{t+dt}, replace W_t by Parabola_t\n",
    "IGBM_Log_ODE: \n",
    "    Log ODE method\n",
    "polyparabola_integration_IGBM:\n",
    "    Same as the poly2_integration one but using dParabola_u = (W_1 + (6-u)H_1)du\n",
    "polyn_integration_IGBM:\n",
    "    Numerical scheme obtained by replacing dW_t by dW^n_t\n",
    "\"\"\"\n",
    "fig = go.Figure()\n",
    "for path_name in ['IGBM_Parabola','IGBM_Log_ODE', 'polyparabola_integration_IGBM',\n",
    "                'poly1_integration_IGBM', 'poly2_integration_IGBM', 'poly3_integration_IGBM']:\n",
    "    path = paths_dic[path_name]\n",
    "    fig.add_trace(go.Scatter(x=grid, y=np.array(list(map(f_map(path, 1), grid))),\n",
    "                    mode='lines',\n",
    "                    name=path_name))\n",
    "fig.show()"
   ]
  },
  {
   "cell_type": "code",
   "execution_count": null,
   "id": "1075f997",
   "metadata": {},
   "outputs": [],
   "source": []
  }
 ],
 "metadata": {
  "kernelspec": {
   "display_name": "Python 3 (ipykernel)",
   "language": "python",
   "name": "python3"
  },
  "language_info": {
   "codemirror_mode": {
    "name": "ipython",
    "version": 3
   },
   "file_extension": ".py",
   "mimetype": "text/x-python",
   "name": "python",
   "nbconvert_exporter": "python",
   "pygments_lexer": "ipython3",
   "version": "3.10.9"
  }
 },
 "nbformat": 4,
 "nbformat_minor": 5
}
